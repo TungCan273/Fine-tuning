{
  "cells": [
    {
      "cell_type": "markdown",
      "metadata": {},
      "source": [
        "# How to Fine-Tune spaCy models for NLP Use Cases?"
      ]
    },
    {
      "cell_type": "markdown",
      "metadata": {},
      "source": [
        "## What is spaCy?"
      ]
    },
    {
      "cell_type": "markdown",
      "metadata": {},
      "source": [
        "- In the world of Natural Language Processing (NLP), spaCy has emerged as a powerful and efficient library, revolutionizing the way developers and researchers work with text data.\n",
        "\n",
        "- spaCy is an open-source Python library designed specifically for NLP tasks such as part-of-speech tagging, named entity recognition, dependency parsing, and more.\n",
        "\n",
        "- It was developed with the goal of providing industrial-strength performance, while still being easy to use and integrate into existing workflows.\n",
        "\n",
        "- spaCy is built on the latest research and implements state-of-the-art techniques, making it an ideal choice for both beginners and experienced NLP practitioners."
      ]
    },
    {
      "cell_type": "markdown",
      "metadata": {},
      "source": [
        "## Prerequisites"
      ]
    },
    {
      "cell_type": "markdown",
      "metadata": {},
      "source": [
        "### Basic knowledge of spaCy"
      ]
    },
    {
      "cell_type": "markdown",
      "metadata": {},
      "source": [
        "The [official documentation site](https://spacy.io/usage/spacy-101) of spaCy provides a lot of information about the tool. Please read the documentation."
      ]
    },
    {
      "cell_type": "markdown",
      "metadata": {},
      "source": [
        "## Pre-process the training data"
      ]
    },
    {
      "cell_type": "markdown",
      "metadata": {},
      "source": [
        "### Why we need to pre-process the Data?"
      ]
    },
    {
      "cell_type": "markdown",
      "metadata": {},
      "source": [
        "Collecting data covers just one part of the equation. We need to pre-process the data and transform it in a way that spaCy can easily understand. We should also define what kind of data (tags) should be identified from the given sentences."
      ]
    },
    {
      "cell_type": "markdown",
      "metadata": {},
      "source": [
        "Let's take the following sentence as an example:\n",
        "> \"Schedule event for visit to Trivandrum on July 18\".  \n",
        "\n",
        "Let's try to split out some tags from above sentence:\n",
        "\n",
        "- Schedule – this belongs to the \"action\" tag\n",
        "- event – this belongs to the \"domain\" tag\n",
        "- visit to Trivandrum – this belongs to the \"name\" tag\n",
        "- July 18 – this belongs to the \"date\" tag"
      ]
    },
    {
      "cell_type": "markdown",
      "metadata": {},
      "source": [
        "Every tag defined above may contain alternatives in other sentences. For an example, we may input the following sentences:\n",
        "\n",
        "1. Cancel client meeting scheduled tomorrow\n",
        "2. Change time of mall visit to 6 PM"
      ]
    },
    {
      "cell_type": "markdown",
      "metadata": {},
      "source": [
        "#### Now, I've created 51 Data and prepared the index for each tag in JSON file named \"spacy.json\". Here is the example JSON file"
      ]
    },
    {
      "cell_type": "markdown",
      "metadata": {},
      "source": [
        "```json \n",
        "{\n",
        "  \"Example\": [\n",
        "    {\n",
        "      \"id\": \"vn-01\",\n",
        "      \"content\": \"Hôm nay, tôi gặp em Trần Thị Thanh Hương tại công ty Techcombank.\",\n",
        "      \"annotations\": [\n",
        "        {\"start\": 12, \"end\": 30, \"tag_name\": \"person_name\"},\n",
        "        {\"start\": 19, \"end\": 30, \"tag_name\": \"last_person_name\"},\n",
        "        {\"start\": 34, \"end\": 42, \"tag_name\": \"location_name\"},\n",
        "        {\"start\": 43, \"end\": 54, \"tag_name\": \"organization_name\"}\n",
        "      ]\n",
        "    },\n",
        "    {\n",
        "      \"id\": \"vn-02\",\n",
        "      \"content\": \"Tôi đã gặp anh Nguyễn Văn An tại quán cà phê Trung Nguyên.\",\n",
        "      \"annotations\": [\n",
        "        {\"start\": 11, \"end\": 23, \"tag_name\": \"person_name\"},\n",
        "        {\"start\": 19, \"end\": 23, \"tag_name\": \"last_person_name\"},\n",
        "        {\"start\": 27, \"end\": 41, \"tag_name\": \"location_name\"},\n",
        "        {\"start\": 42, \"end\": 54, \"tag_name\": \"organization_name\"}\n",
        "      ]\n",
        "    },\n",
        "    {\n",
        "      \"id\": \"vn-03\",\n",
        "      \"content\": \"Chị Lê Thị Hạnh làm việc tại công ty Vingroup.\",\n",
        "      \"annotations\": [\n",
        "        {\"start\": 3, \"end\": 15, \"tag_name\": \"person_name\"},\n",
        "        {\"start\": 9, \"end\": 15, \"tag_name\": \"last_person_name\"},\n",
        "        {\"start\": 18, \"end\": 25, \"tag_name\": \"location_name\"},\n",
        "        {\"start\": 26, \"end\": 34, \"tag_name\": \"organization_name\"}\n",
        "      ]\n",
        "    }, \n",
        "  ]\n",
        "}\n",
        "```"
      ]
    },
    {
      "cell_type": "markdown",
      "metadata": {},
      "source": [
        "You can see more in this [link](https://github.com/TungCan273/Fine-tuning/blob/master/Spacy/spacy.json)."
      ]
    },
    {
      "cell_type": "markdown",
      "metadata": {},
      "source": [
        "# Let's try to fine-tune spaCy with the data that we have."
      ]
    },
    {
      "cell_type": "markdown",
      "metadata": {},
      "source": [
        "#### Install spaCy and other libraries then import this"
      ]
    },
    {
      "cell_type": "code",
      "execution_count": 1,
      "metadata": {
        "colab": {
          "base_uri": "https://localhost:8080/"
        },
        "id": "2hCfkAFIRyw1",
        "outputId": "f0190dfe-4ad4-4846-afd3-989720dbccc9",
        "vscode": {
          "languageId": "powershell"
        }
      },
      "outputs": [
        {
          "name": "stdout",
          "output_type": "stream",
          "text": [
            "Requirement already satisfied: spacy in /usr/local/lib/python3.10/dist-packages (3.5.4)\n",
            "Requirement already satisfied: spacy-legacy<3.1.0,>=3.0.11 in /usr/local/lib/python3.10/dist-packages (from spacy) (3.0.12)\n",
            "Requirement already satisfied: spacy-loggers<2.0.0,>=1.0.0 in /usr/local/lib/python3.10/dist-packages (from spacy) (1.0.4)\n",
            "Requirement already satisfied: murmurhash<1.1.0,>=0.28.0 in /usr/local/lib/python3.10/dist-packages (from spacy) (1.0.9)\n",
            "Requirement already satisfied: cymem<2.1.0,>=2.0.2 in /usr/local/lib/python3.10/dist-packages (from spacy) (2.0.7)\n",
            "Requirement already satisfied: preshed<3.1.0,>=3.0.2 in /usr/local/lib/python3.10/dist-packages (from spacy) (3.0.8)\n",
            "Requirement already satisfied: thinc<8.2.0,>=8.1.8 in /usr/local/lib/python3.10/dist-packages (from spacy) (8.1.10)\n",
            "Requirement already satisfied: wasabi<1.2.0,>=0.9.1 in /usr/local/lib/python3.10/dist-packages (from spacy) (1.1.2)\n",
            "Requirement already satisfied: srsly<3.0.0,>=2.4.3 in /usr/local/lib/python3.10/dist-packages (from spacy) (2.4.6)\n",
            "Requirement already satisfied: catalogue<2.1.0,>=2.0.6 in /usr/local/lib/python3.10/dist-packages (from spacy) (2.0.8)\n",
            "Requirement already satisfied: typer<0.10.0,>=0.3.0 in /usr/local/lib/python3.10/dist-packages (from spacy) (0.9.0)\n",
            "Requirement already satisfied: pathy>=0.10.0 in /usr/local/lib/python3.10/dist-packages (from spacy) (0.10.2)\n",
            "Requirement already satisfied: smart-open<7.0.0,>=5.2.1 in /usr/local/lib/python3.10/dist-packages (from spacy) (6.3.0)\n",
            "Requirement already satisfied: tqdm<5.0.0,>=4.38.0 in /usr/local/lib/python3.10/dist-packages (from spacy) (4.65.0)\n",
            "Requirement already satisfied: numpy>=1.15.0 in /usr/local/lib/python3.10/dist-packages (from spacy) (1.22.4)\n",
            "Requirement already satisfied: requests<3.0.0,>=2.13.0 in /usr/local/lib/python3.10/dist-packages (from spacy) (2.27.1)\n",
            "Requirement already satisfied: pydantic!=1.8,!=1.8.1,<1.11.0,>=1.7.4 in /usr/local/lib/python3.10/dist-packages (from spacy) (1.10.11)\n",
            "Requirement already satisfied: jinja2 in /usr/local/lib/python3.10/dist-packages (from spacy) (3.1.2)\n",
            "Requirement already satisfied: setuptools in /usr/local/lib/python3.10/dist-packages (from spacy) (67.7.2)\n",
            "Requirement already satisfied: packaging>=20.0 in /usr/local/lib/python3.10/dist-packages (from spacy) (23.1)\n",
            "Requirement already satisfied: langcodes<4.0.0,>=3.2.0 in /usr/local/lib/python3.10/dist-packages (from spacy) (3.3.0)\n",
            "Requirement already satisfied: typing-extensions>=4.2.0 in /usr/local/lib/python3.10/dist-packages (from pydantic!=1.8,!=1.8.1,<1.11.0,>=1.7.4->spacy) (4.7.1)\n",
            "Requirement already satisfied: urllib3<1.27,>=1.21.1 in /usr/local/lib/python3.10/dist-packages (from requests<3.0.0,>=2.13.0->spacy) (1.26.16)\n",
            "Requirement already satisfied: certifi>=2017.4.17 in /usr/local/lib/python3.10/dist-packages (from requests<3.0.0,>=2.13.0->spacy) (2023.5.7)\n",
            "Requirement already satisfied: charset-normalizer~=2.0.0 in /usr/local/lib/python3.10/dist-packages (from requests<3.0.0,>=2.13.0->spacy) (2.0.12)\n",
            "Requirement already satisfied: idna<4,>=2.5 in /usr/local/lib/python3.10/dist-packages (from requests<3.0.0,>=2.13.0->spacy) (3.4)\n",
            "Requirement already satisfied: blis<0.8.0,>=0.7.8 in /usr/local/lib/python3.10/dist-packages (from thinc<8.2.0,>=8.1.8->spacy) (0.7.9)\n",
            "Requirement already satisfied: confection<1.0.0,>=0.0.1 in /usr/local/lib/python3.10/dist-packages (from thinc<8.2.0,>=8.1.8->spacy) (0.1.0)\n",
            "Requirement already satisfied: click<9.0.0,>=7.1.1 in /usr/local/lib/python3.10/dist-packages (from typer<0.10.0,>=0.3.0->spacy) (8.1.4)\n",
            "Requirement already satisfied: MarkupSafe>=2.0 in /usr/local/lib/python3.10/dist-packages (from jinja2->spacy) (2.1.3)\n",
            "Collecting pyvi\n",
            "  Downloading pyvi-0.1.1-py2.py3-none-any.whl (8.5 MB)\n",
            "\u001b[2K     \u001b[90m━━━━━━━━━━━━━━━━━━━━━━━━━━━━━━━━━━━━━━━━\u001b[0m \u001b[32m8.5/8.5 MB\u001b[0m \u001b[31m37.8 MB/s\u001b[0m eta \u001b[36m0:00:00\u001b[0m\n",
            "\u001b[?25hRequirement already satisfied: scikit-learn in /usr/local/lib/python3.10/dist-packages (from pyvi) (1.2.2)\n",
            "Collecting sklearn-crfsuite (from pyvi)\n",
            "  Downloading sklearn_crfsuite-0.3.6-py2.py3-none-any.whl (12 kB)\n",
            "Requirement already satisfied: numpy>=1.17.3 in /usr/local/lib/python3.10/dist-packages (from scikit-learn->pyvi) (1.22.4)\n",
            "Requirement already satisfied: scipy>=1.3.2 in /usr/local/lib/python3.10/dist-packages (from scikit-learn->pyvi) (1.10.1)\n",
            "Requirement already satisfied: joblib>=1.1.1 in /usr/local/lib/python3.10/dist-packages (from scikit-learn->pyvi) (1.3.1)\n",
            "Requirement already satisfied: threadpoolctl>=2.0.0 in /usr/local/lib/python3.10/dist-packages (from scikit-learn->pyvi) (3.1.0)\n",
            "Collecting python-crfsuite>=0.8.3 (from sklearn-crfsuite->pyvi)\n",
            "  Downloading python_crfsuite-0.9.9-cp310-cp310-manylinux_2_17_x86_64.manylinux2014_x86_64.whl (993 kB)\n",
            "\u001b[2K     \u001b[90m━━━━━━━━━━━━━━━━━━━━━━━━━━━━━━━━━━━━━━\u001b[0m \u001b[32m993.5/993.5 kB\u001b[0m \u001b[31m44.0 MB/s\u001b[0m eta \u001b[36m0:00:00\u001b[0m\n",
            "\u001b[?25hRequirement already satisfied: six in /usr/local/lib/python3.10/dist-packages (from sklearn-crfsuite->pyvi) (1.16.0)\n",
            "Requirement already satisfied: tabulate in /usr/local/lib/python3.10/dist-packages (from sklearn-crfsuite->pyvi) (0.8.10)\n",
            "Requirement already satisfied: tqdm>=2.0 in /usr/local/lib/python3.10/dist-packages (from sklearn-crfsuite->pyvi) (4.65.0)\n",
            "Installing collected packages: python-crfsuite, sklearn-crfsuite, pyvi\n",
            "Successfully installed python-crfsuite-0.9.9 pyvi-0.1.1 sklearn-crfsuite-0.3.6\n",
            "Collecting https://gitlab.com/trungtv/vi_spacy/-/raw/master/packages/vi_core_news_lg-3.6.0/dist/vi_core_news_lg-3.6.0.tar.gz\n",
            "  Downloading https://gitlab.com/trungtv/vi_spacy/-/raw/master/packages/vi_core_news_lg-3.6.0/dist/vi_core_news_lg-3.6.0.tar.gz (233.3 MB)\n",
            "\u001b[2K     \u001b[90m━━━━━━━━━━━━━━━━━━━━━━━━━━━━━━━━━━━━━━━\u001b[0m \u001b[32m233.3/233.3 MB\u001b[0m \u001b[31m4.8 MB/s\u001b[0m eta \u001b[36m0:00:00\u001b[0m\n",
            "\u001b[?25h  Preparing metadata (setup.py) ... \u001b[?25l\u001b[?25hdone\n",
            "Collecting spacy<3.7.0,>=3.6.0 (from vi-core-news-lg==3.6.0)\n",
            "  Downloading spacy-3.6.0-cp310-cp310-manylinux_2_17_x86_64.manylinux2014_x86_64.whl (6.7 MB)\n",
            "\u001b[2K     \u001b[90m━━━━━━━━━━━━━━━━━━━━━━━━━━━━━━━━━━━━━━━━\u001b[0m \u001b[32m6.7/6.7 MB\u001b[0m \u001b[31m51.9 MB/s\u001b[0m eta \u001b[36m0:00:00\u001b[0m\n",
            "\u001b[?25hRequirement already satisfied: spacy-legacy<3.1.0,>=3.0.11 in /usr/local/lib/python3.10/dist-packages (from spacy<3.7.0,>=3.6.0->vi-core-news-lg==3.6.0) (3.0.12)\n",
            "Requirement already satisfied: spacy-loggers<2.0.0,>=1.0.0 in /usr/local/lib/python3.10/dist-packages (from spacy<3.7.0,>=3.6.0->vi-core-news-lg==3.6.0) (1.0.4)\n",
            "Requirement already satisfied: murmurhash<1.1.0,>=0.28.0 in /usr/local/lib/python3.10/dist-packages (from spacy<3.7.0,>=3.6.0->vi-core-news-lg==3.6.0) (1.0.9)\n",
            "Requirement already satisfied: cymem<2.1.0,>=2.0.2 in /usr/local/lib/python3.10/dist-packages (from spacy<3.7.0,>=3.6.0->vi-core-news-lg==3.6.0) (2.0.7)\n",
            "Requirement already satisfied: preshed<3.1.0,>=3.0.2 in /usr/local/lib/python3.10/dist-packages (from spacy<3.7.0,>=3.6.0->vi-core-news-lg==3.6.0) (3.0.8)\n",
            "Requirement already satisfied: thinc<8.2.0,>=8.1.8 in /usr/local/lib/python3.10/dist-packages (from spacy<3.7.0,>=3.6.0->vi-core-news-lg==3.6.0) (8.1.10)\n",
            "Requirement already satisfied: wasabi<1.2.0,>=0.9.1 in /usr/local/lib/python3.10/dist-packages (from spacy<3.7.0,>=3.6.0->vi-core-news-lg==3.6.0) (1.1.2)\n",
            "Requirement already satisfied: srsly<3.0.0,>=2.4.3 in /usr/local/lib/python3.10/dist-packages (from spacy<3.7.0,>=3.6.0->vi-core-news-lg==3.6.0) (2.4.6)\n",
            "Requirement already satisfied: catalogue<2.1.0,>=2.0.6 in /usr/local/lib/python3.10/dist-packages (from spacy<3.7.0,>=3.6.0->vi-core-news-lg==3.6.0) (2.0.8)\n",
            "Requirement already satisfied: typer<0.10.0,>=0.3.0 in /usr/local/lib/python3.10/dist-packages (from spacy<3.7.0,>=3.6.0->vi-core-news-lg==3.6.0) (0.9.0)\n",
            "Requirement already satisfied: pathy>=0.10.0 in /usr/local/lib/python3.10/dist-packages (from spacy<3.7.0,>=3.6.0->vi-core-news-lg==3.6.0) (0.10.2)\n",
            "Requirement already satisfied: smart-open<7.0.0,>=5.2.1 in /usr/local/lib/python3.10/dist-packages (from spacy<3.7.0,>=3.6.0->vi-core-news-lg==3.6.0) (6.3.0)\n",
            "Requirement already satisfied: tqdm<5.0.0,>=4.38.0 in /usr/local/lib/python3.10/dist-packages (from spacy<3.7.0,>=3.6.0->vi-core-news-lg==3.6.0) (4.65.0)\n",
            "Requirement already satisfied: numpy>=1.15.0 in /usr/local/lib/python3.10/dist-packages (from spacy<3.7.0,>=3.6.0->vi-core-news-lg==3.6.0) (1.22.4)\n",
            "Requirement already satisfied: requests<3.0.0,>=2.13.0 in /usr/local/lib/python3.10/dist-packages (from spacy<3.7.0,>=3.6.0->vi-core-news-lg==3.6.0) (2.27.1)\n",
            "Requirement already satisfied: pydantic!=1.8,!=1.8.1,<1.11.0,>=1.7.4 in /usr/local/lib/python3.10/dist-packages (from spacy<3.7.0,>=3.6.0->vi-core-news-lg==3.6.0) (1.10.11)\n",
            "Requirement already satisfied: jinja2 in /usr/local/lib/python3.10/dist-packages (from spacy<3.7.0,>=3.6.0->vi-core-news-lg==3.6.0) (3.1.2)\n",
            "Requirement already satisfied: setuptools in /usr/local/lib/python3.10/dist-packages (from spacy<3.7.0,>=3.6.0->vi-core-news-lg==3.6.0) (67.7.2)\n",
            "Requirement already satisfied: packaging>=20.0 in /usr/local/lib/python3.10/dist-packages (from spacy<3.7.0,>=3.6.0->vi-core-news-lg==3.6.0) (23.1)\n",
            "Requirement already satisfied: langcodes<4.0.0,>=3.2.0 in /usr/local/lib/python3.10/dist-packages (from spacy<3.7.0,>=3.6.0->vi-core-news-lg==3.6.0) (3.3.0)\n",
            "Requirement already satisfied: typing-extensions>=4.2.0 in /usr/local/lib/python3.10/dist-packages (from pydantic!=1.8,!=1.8.1,<1.11.0,>=1.7.4->spacy<3.7.0,>=3.6.0->vi-core-news-lg==3.6.0) (4.7.1)\n",
            "Requirement already satisfied: urllib3<1.27,>=1.21.1 in /usr/local/lib/python3.10/dist-packages (from requests<3.0.0,>=2.13.0->spacy<3.7.0,>=3.6.0->vi-core-news-lg==3.6.0) (1.26.16)\n",
            "Requirement already satisfied: certifi>=2017.4.17 in /usr/local/lib/python3.10/dist-packages (from requests<3.0.0,>=2.13.0->spacy<3.7.0,>=3.6.0->vi-core-news-lg==3.6.0) (2023.5.7)\n",
            "Requirement already satisfied: charset-normalizer~=2.0.0 in /usr/local/lib/python3.10/dist-packages (from requests<3.0.0,>=2.13.0->spacy<3.7.0,>=3.6.0->vi-core-news-lg==3.6.0) (2.0.12)\n",
            "Requirement already satisfied: idna<4,>=2.5 in /usr/local/lib/python3.10/dist-packages (from requests<3.0.0,>=2.13.0->spacy<3.7.0,>=3.6.0->vi-core-news-lg==3.6.0) (3.4)\n",
            "Requirement already satisfied: blis<0.8.0,>=0.7.8 in /usr/local/lib/python3.10/dist-packages (from thinc<8.2.0,>=8.1.8->spacy<3.7.0,>=3.6.0->vi-core-news-lg==3.6.0) (0.7.9)\n",
            "Requirement already satisfied: confection<1.0.0,>=0.0.1 in /usr/local/lib/python3.10/dist-packages (from thinc<8.2.0,>=8.1.8->spacy<3.7.0,>=3.6.0->vi-core-news-lg==3.6.0) (0.1.0)\n",
            "Requirement already satisfied: click<9.0.0,>=7.1.1 in /usr/local/lib/python3.10/dist-packages (from typer<0.10.0,>=0.3.0->spacy<3.7.0,>=3.6.0->vi-core-news-lg==3.6.0) (8.1.4)\n",
            "Requirement already satisfied: MarkupSafe>=2.0 in /usr/local/lib/python3.10/dist-packages (from jinja2->spacy<3.7.0,>=3.6.0->vi-core-news-lg==3.6.0) (2.1.3)\n",
            "Building wheels for collected packages: vi-core-news-lg\n",
            "  Building wheel for vi-core-news-lg (setup.py) ... \u001b[?25l\u001b[?25hdone\n",
            "  Created wheel for vi-core-news-lg: filename=vi_core_news_lg-3.6.0-py3-none-any.whl size=233275663 sha256=7384ca2a49be6fc838f9afef9f801ac384d447b4781ff4931c55704580318c12\n",
            "  Stored in directory: /root/.cache/pip/wheels/bd/c2/22/8dfcbf9006c1be9c5f38dda2e8608eddb2f46c933f174c7581\n",
            "Successfully built vi-core-news-lg\n",
            "Installing collected packages: spacy, vi-core-news-lg\n",
            "  Attempting uninstall: spacy\n",
            "    Found existing installation: spacy 3.5.4\n",
            "    Uninstalling spacy-3.5.4:\n",
            "      Successfully uninstalled spacy-3.5.4\n",
            "\u001b[31mERROR: pip's dependency resolver does not currently take into account all the packages that are installed. This behaviour is the source of the following dependency conflicts.\n",
            "en-core-web-sm 3.5.0 requires spacy<3.6.0,>=3.5.0, but you have spacy 3.6.0 which is incompatible.\u001b[0m\u001b[31m\n",
            "\u001b[0mSuccessfully installed spacy-3.6.0 vi-core-news-lg-3.6.0\n"
          ]
        }
      ],
      "source": [
        "!pip install spacy\n",
        "!pip install pyvi\n",
        "!pip install https://gitlab.com/trungtv/vi_spacy/-/raw/master/packages/vi_core_news_lg-3.6.0/dist/vi_core_news_lg-3.6.0.tar.gz"
      ]
    },
    {
      "cell_type": "code",
      "execution_count": 2,
      "metadata": {
        "colab": {
          "base_uri": "https://localhost:8080/"
        },
        "id": "XYEFhgb8sVut",
        "outputId": "623b8391-e919-44d0-c2a0-0757b425ca25",
        "vscode": {
          "languageId": "powershell"
        }
      },
      "outputs": [
        {
          "name": "stdout",
          "output_type": "stream",
          "text": [
            "Collecting spacy-transformers\n",
            "  Downloading spacy_transformers-1.2.5-cp310-cp310-manylinux_2_17_x86_64.manylinux2014_x86_64.whl (190 kB)\n",
            "\u001b[?25l     \u001b[90m━━━━━━━━━━━━━━━━━━━━━━━━━━━━━━━━━━━━━━━━\u001b[0m \u001b[32m0.0/190.8 kB\u001b[0m \u001b[31m?\u001b[0m eta \u001b[36m-:--:--\u001b[0m\r\u001b[2K     \u001b[90m━━━━━━━━━━━━━━━━━━━━━━━━━━━━━━━━━━━━━━━\u001b[0m \u001b[32m190.8/190.8 kB\u001b[0m \u001b[31m6.5 MB/s\u001b[0m eta \u001b[36m0:00:00\u001b[0m\n",
            "\u001b[?25hRequirement already satisfied: spacy<4.0.0,>=3.5.0 in /usr/local/lib/python3.10/dist-packages (from spacy-transformers) (3.6.0)\n",
            "Requirement already satisfied: numpy>=1.15.0 in /usr/local/lib/python3.10/dist-packages (from spacy-transformers) (1.22.4)\n",
            "Collecting transformers<4.31.0,>=3.4.0 (from spacy-transformers)\n",
            "  Downloading transformers-4.30.2-py3-none-any.whl (7.2 MB)\n",
            "\u001b[2K     \u001b[90m━━━━━━━━━━━━━━━━━━━━━━━━━━━━━━━━━━━━━━━━\u001b[0m \u001b[32m7.2/7.2 MB\u001b[0m \u001b[31m54.5 MB/s\u001b[0m eta \u001b[36m0:00:00\u001b[0m\n",
            "\u001b[?25hRequirement already satisfied: torch>=1.8.0 in /usr/local/lib/python3.10/dist-packages (from spacy-transformers) (2.0.1+cu118)\n",
            "Requirement already satisfied: srsly<3.0.0,>=2.4.0 in /usr/local/lib/python3.10/dist-packages (from spacy-transformers) (2.4.6)\n",
            "Collecting spacy-alignments<1.0.0,>=0.7.2 (from spacy-transformers)\n",
            "  Downloading spacy_alignments-0.9.0-cp310-cp310-manylinux_2_17_x86_64.manylinux2014_x86_64.whl (1.2 MB)\n",
            "\u001b[2K     \u001b[90m━━━━━━━━━━━━━━━━━━━━━━━━━━━━━━━━━━━━━━━━\u001b[0m \u001b[32m1.2/1.2 MB\u001b[0m \u001b[31m23.2 MB/s\u001b[0m eta \u001b[36m0:00:00\u001b[0m\n",
            "\u001b[?25hRequirement already satisfied: spacy-legacy<3.1.0,>=3.0.11 in /usr/local/lib/python3.10/dist-packages (from spacy<4.0.0,>=3.5.0->spacy-transformers) (3.0.12)\n",
            "Requirement already satisfied: spacy-loggers<2.0.0,>=1.0.0 in /usr/local/lib/python3.10/dist-packages (from spacy<4.0.0,>=3.5.0->spacy-transformers) (1.0.4)\n",
            "Requirement already satisfied: murmurhash<1.1.0,>=0.28.0 in /usr/local/lib/python3.10/dist-packages (from spacy<4.0.0,>=3.5.0->spacy-transformers) (1.0.9)\n",
            "Requirement already satisfied: cymem<2.1.0,>=2.0.2 in /usr/local/lib/python3.10/dist-packages (from spacy<4.0.0,>=3.5.0->spacy-transformers) (2.0.7)\n",
            "Requirement already satisfied: preshed<3.1.0,>=3.0.2 in /usr/local/lib/python3.10/dist-packages (from spacy<4.0.0,>=3.5.0->spacy-transformers) (3.0.8)\n",
            "Requirement already satisfied: thinc<8.2.0,>=8.1.8 in /usr/local/lib/python3.10/dist-packages (from spacy<4.0.0,>=3.5.0->spacy-transformers) (8.1.10)\n",
            "Requirement already satisfied: wasabi<1.2.0,>=0.9.1 in /usr/local/lib/python3.10/dist-packages (from spacy<4.0.0,>=3.5.0->spacy-transformers) (1.1.2)\n",
            "Requirement already satisfied: catalogue<2.1.0,>=2.0.6 in /usr/local/lib/python3.10/dist-packages (from spacy<4.0.0,>=3.5.0->spacy-transformers) (2.0.8)\n",
            "Requirement already satisfied: typer<0.10.0,>=0.3.0 in /usr/local/lib/python3.10/dist-packages (from spacy<4.0.0,>=3.5.0->spacy-transformers) (0.9.0)\n",
            "Requirement already satisfied: pathy>=0.10.0 in /usr/local/lib/python3.10/dist-packages (from spacy<4.0.0,>=3.5.0->spacy-transformers) (0.10.2)\n",
            "Requirement already satisfied: smart-open<7.0.0,>=5.2.1 in /usr/local/lib/python3.10/dist-packages (from spacy<4.0.0,>=3.5.0->spacy-transformers) (6.3.0)\n",
            "Requirement already satisfied: tqdm<5.0.0,>=4.38.0 in /usr/local/lib/python3.10/dist-packages (from spacy<4.0.0,>=3.5.0->spacy-transformers) (4.65.0)\n",
            "Requirement already satisfied: requests<3.0.0,>=2.13.0 in /usr/local/lib/python3.10/dist-packages (from spacy<4.0.0,>=3.5.0->spacy-transformers) (2.27.1)\n",
            "Requirement already satisfied: pydantic!=1.8,!=1.8.1,<1.11.0,>=1.7.4 in /usr/local/lib/python3.10/dist-packages (from spacy<4.0.0,>=3.5.0->spacy-transformers) (1.10.11)\n",
            "Requirement already satisfied: jinja2 in /usr/local/lib/python3.10/dist-packages (from spacy<4.0.0,>=3.5.0->spacy-transformers) (3.1.2)\n",
            "Requirement already satisfied: setuptools in /usr/local/lib/python3.10/dist-packages (from spacy<4.0.0,>=3.5.0->spacy-transformers) (67.7.2)\n",
            "Requirement already satisfied: packaging>=20.0 in /usr/local/lib/python3.10/dist-packages (from spacy<4.0.0,>=3.5.0->spacy-transformers) (23.1)\n",
            "Requirement already satisfied: langcodes<4.0.0,>=3.2.0 in /usr/local/lib/python3.10/dist-packages (from spacy<4.0.0,>=3.5.0->spacy-transformers) (3.3.0)\n",
            "Requirement already satisfied: filelock in /usr/local/lib/python3.10/dist-packages (from torch>=1.8.0->spacy-transformers) (3.12.2)\n",
            "Requirement already satisfied: typing-extensions in /usr/local/lib/python3.10/dist-packages (from torch>=1.8.0->spacy-transformers) (4.7.1)\n",
            "Requirement already satisfied: sympy in /usr/local/lib/python3.10/dist-packages (from torch>=1.8.0->spacy-transformers) (1.11.1)\n",
            "Requirement already satisfied: networkx in /usr/local/lib/python3.10/dist-packages (from torch>=1.8.0->spacy-transformers) (3.1)\n",
            "Requirement already satisfied: triton==2.0.0 in /usr/local/lib/python3.10/dist-packages (from torch>=1.8.0->spacy-transformers) (2.0.0)\n",
            "Requirement already satisfied: cmake in /usr/local/lib/python3.10/dist-packages (from triton==2.0.0->torch>=1.8.0->spacy-transformers) (3.25.2)\n",
            "Requirement already satisfied: lit in /usr/local/lib/python3.10/dist-packages (from triton==2.0.0->torch>=1.8.0->spacy-transformers) (16.0.6)\n",
            "Collecting huggingface-hub<1.0,>=0.14.1 (from transformers<4.31.0,>=3.4.0->spacy-transformers)\n",
            "  Downloading huggingface_hub-0.16.4-py3-none-any.whl (268 kB)\n",
            "\u001b[2K     \u001b[90m━━━━━━━━━━━━━━━━━━━━━━━━━━━━━━━━━━━━━━━\u001b[0m \u001b[32m268.8/268.8 kB\u001b[0m \u001b[31m6.1 MB/s\u001b[0m eta \u001b[36m0:00:00\u001b[0m\n",
            "\u001b[?25hRequirement already satisfied: pyyaml>=5.1 in /usr/local/lib/python3.10/dist-packages (from transformers<4.31.0,>=3.4.0->spacy-transformers) (6.0)\n",
            "Requirement already satisfied: regex!=2019.12.17 in /usr/local/lib/python3.10/dist-packages (from transformers<4.31.0,>=3.4.0->spacy-transformers) (2022.10.31)\n",
            "Collecting tokenizers!=0.11.3,<0.14,>=0.11.1 (from transformers<4.31.0,>=3.4.0->spacy-transformers)\n",
            "  Downloading tokenizers-0.13.3-cp310-cp310-manylinux_2_17_x86_64.manylinux2014_x86_64.whl (7.8 MB)\n",
            "\u001b[2K     \u001b[90m━━━━━━━━━━━━━━━━━━━━━━━━━━━━━━━━━━━━━━━━\u001b[0m \u001b[32m7.8/7.8 MB\u001b[0m \u001b[31m85.7 MB/s\u001b[0m eta \u001b[36m0:00:00\u001b[0m\n",
            "\u001b[?25hCollecting safetensors>=0.3.1 (from transformers<4.31.0,>=3.4.0->spacy-transformers)\n",
            "  Downloading safetensors-0.3.1-cp310-cp310-manylinux_2_17_x86_64.manylinux2014_x86_64.whl (1.3 MB)\n",
            "\u001b[2K     \u001b[90m━━━━━━━━━━━━━━━━━━━━━━━━━━━━━━━━━━━━━━━━\u001b[0m \u001b[32m1.3/1.3 MB\u001b[0m \u001b[31m49.3 MB/s\u001b[0m eta \u001b[36m0:00:00\u001b[0m\n",
            "\u001b[?25hRequirement already satisfied: fsspec in /usr/local/lib/python3.10/dist-packages (from huggingface-hub<1.0,>=0.14.1->transformers<4.31.0,>=3.4.0->spacy-transformers) (2023.6.0)\n",
            "Requirement already satisfied: urllib3<1.27,>=1.21.1 in /usr/local/lib/python3.10/dist-packages (from requests<3.0.0,>=2.13.0->spacy<4.0.0,>=3.5.0->spacy-transformers) (1.26.16)\n",
            "Requirement already satisfied: certifi>=2017.4.17 in /usr/local/lib/python3.10/dist-packages (from requests<3.0.0,>=2.13.0->spacy<4.0.0,>=3.5.0->spacy-transformers) (2023.5.7)\n",
            "Requirement already satisfied: charset-normalizer~=2.0.0 in /usr/local/lib/python3.10/dist-packages (from requests<3.0.0,>=2.13.0->spacy<4.0.0,>=3.5.0->spacy-transformers) (2.0.12)\n",
            "Requirement already satisfied: idna<4,>=2.5 in /usr/local/lib/python3.10/dist-packages (from requests<3.0.0,>=2.13.0->spacy<4.0.0,>=3.5.0->spacy-transformers) (3.4)\n",
            "Requirement already satisfied: blis<0.8.0,>=0.7.8 in /usr/local/lib/python3.10/dist-packages (from thinc<8.2.0,>=8.1.8->spacy<4.0.0,>=3.5.0->spacy-transformers) (0.7.9)\n",
            "Requirement already satisfied: confection<1.0.0,>=0.0.1 in /usr/local/lib/python3.10/dist-packages (from thinc<8.2.0,>=8.1.8->spacy<4.0.0,>=3.5.0->spacy-transformers) (0.1.0)\n",
            "Requirement already satisfied: click<9.0.0,>=7.1.1 in /usr/local/lib/python3.10/dist-packages (from typer<0.10.0,>=0.3.0->spacy<4.0.0,>=3.5.0->spacy-transformers) (8.1.4)\n",
            "Requirement already satisfied: MarkupSafe>=2.0 in /usr/local/lib/python3.10/dist-packages (from jinja2->spacy<4.0.0,>=3.5.0->spacy-transformers) (2.1.3)\n",
            "Requirement already satisfied: mpmath>=0.19 in /usr/local/lib/python3.10/dist-packages (from sympy->torch>=1.8.0->spacy-transformers) (1.3.0)\n",
            "Installing collected packages: tokenizers, safetensors, spacy-alignments, huggingface-hub, transformers, spacy-transformers\n",
            "Successfully installed huggingface-hub-0.16.4 safetensors-0.3.1 spacy-alignments-0.9.0 spacy-transformers-1.2.5 tokenizers-0.13.3 transformers-4.30.2\n"
          ]
        }
      ],
      "source": [
        "!pip install spacy-transformers"
      ]
    },
    {
      "cell_type": "code",
      "execution_count": 3,
      "metadata": {
        "id": "u0LHImeVRxgh"
      },
      "outputs": [],
      "source": [
        "import spacy\n",
        "import spacy.cli\n",
        "import string\n",
        "import spacy_transformers\n",
        "from spacy.lang.vi import Vietnamese\n",
        "from spacy.vocab import Vocab"
      ]
    },
    {
      "cell_type": "markdown",
      "metadata": {
        "id": "OtkfSzTjqkSj"
      },
      "source": [
        "#### Load the pre-trained model"
      ]
    },
    {
      "cell_type": "markdown",
      "metadata": {},
      "source": [
        "In here we are going to use the model for Vietnamese, you can use model trained for English if you want"
      ]
    },
    {
      "cell_type": "code",
      "execution_count": 4,
      "metadata": {
        "id": "PLpNm3BUa0FY"
      },
      "outputs": [],
      "source": [
        "# nlp = spacy.load(\"en_core_web_trf\")\n",
        "nlp = spacy.load(\"vi_core_news_lg\")"
      ]
    },
    {
      "cell_type": "code",
      "execution_count": 5,
      "metadata": {
        "colab": {
          "base_uri": "https://localhost:8080/"
        },
        "id": "MLvUcab14ppA",
        "outputId": "d868714b-9c9a-4db2-dbdb-0f72c48854c7"
      },
      "outputs": [
        {
          "data": {
            "text/plain": [
              "<spacy.lang.vi.Vietnamese at 0x78ea33565d50>"
            ]
          },
          "execution_count": 5,
          "metadata": {},
          "output_type": "execute_result"
        }
      ],
      "source": [
        "nlp"
      ]
    },
    {
      "cell_type": "markdown",
      "metadata": {},
      "source": [
        "Test the accuracy of model"
      ]
    },
    {
      "cell_type": "code",
      "execution_count": 6,
      "metadata": {
        "colab": {
          "base_uri": "https://localhost:8080/"
        },
        "id": "V4OVtmkrR7J-",
        "outputId": "ecdff917-5e93-4c80-b7bc-d46097364d9b"
      },
      "outputs": [
        {
          "name": "stdout",
          "output_type": "stream",
          "text": [
            "Thẩm phán\n",
            "-\n",
            "Chủ\n",
            "tọa\n",
            "phiên tòa\n",
            "Bà\n",
            "Đặng Thị Tuyết Hải\n"
          ]
        }
      ],
      "source": [
        "doc_string = \"Thẩm phán - Chủ tọa phiên tòa Bà Đặng Thị Tuyết Hải\"\n",
        "doc = nlp(doc_string)\n",
        "for token in doc:\n",
        "    print(token)"
      ]
    },
    {
      "cell_type": "markdown",
      "metadata": {},
      "source": [
        "#### Import JSON file"
      ]
    },
    {
      "cell_type": "code",
      "execution_count": 7,
      "metadata": {
        "id": "wq6lJ1wzUDGk"
      },
      "outputs": [],
      "source": [
        "import json\n",
        "\n",
        "with open('/content/spacy.json', 'r') as f:\n",
        "  data = json.load(f)"
      ]
    },
    {
      "cell_type": "markdown",
      "metadata": {},
      "source": [
        "#### Convert the Data"
      ]
    },
    {
      "cell_type": "markdown",
      "metadata": {},
      "source": [
        "Convert the data read from JSON file into tuple of dictionaries containing original text and entities."
      ]
    },
    {
      "cell_type": "code",
      "execution_count": 8,
      "metadata": {
        "colab": {
          "base_uri": "https://localhost:8080/"
        },
        "id": "xaQJQ2NdUm7j",
        "outputId": "417c4695-7ba0-4dd2-a93c-4ea930fcaa0a"
      },
      "outputs": [
        {
          "name": "stdout",
          "output_type": "stream",
          "text": [
            "{'text': 'Hôm nay, tôi gặp em Trần Thị Thanh Hương tại công ty Techcombank.', 'entities': [(12, 31, 'PERSON_NAME'), (19, 31, 'LAST_PERSON_NAME'), (34, 43, 'LOCATION_NAME'), (43, 55, 'ORGANIZATION_NAME')]}\n"
          ]
        }
      ],
      "source": [
        "training_data = []\n",
        "for example in data['Example']:\n",
        "    temp_dict = {}\n",
        "    temp_dict['text'] = example['content'].replace(string.punctuation, \"\")\n",
        "    temp_dict['entities'] = []\n",
        "    for annotation in example['annotations']:\n",
        "        start = annotation['start']\n",
        "        end = annotation['end'] + 1\n",
        "        label = annotation['tag_name'].upper()\n",
        "        temp_dict['entities'].append((start, end, label))\n",
        "    training_data.append(temp_dict)\n",
        "print(training_data[0])"
      ]
    },
    {
      "cell_type": "markdown",
      "metadata": {
        "id": "stPE0aXBqzf9"
      },
      "source": [
        "#### Import training libraries"
      ]
    },
    {
      "cell_type": "code",
      "execution_count": 9,
      "metadata": {
        "id": "iTddxoKwVfuh"
      },
      "outputs": [],
      "source": [
        "from spacy.tokens import DocBin\n",
        "from tqdm import tqdm\n",
        "from spacy.util import filter_spans"
      ]
    },
    {
      "cell_type": "code",
      "execution_count": 10,
      "metadata": {
        "colab": {
          "base_uri": "https://localhost:8080/"
        },
        "id": "nCnVlsHiqxw3",
        "outputId": "b12f75dd-e07d-4249-ab32-f9da5a32cf1b"
      },
      "outputs": [
        {
          "data": {
            "text/plain": [
              "<spacy.lang.vi.Vietnamese at 0x78e902d78cd0>"
            ]
          },
          "execution_count": 10,
          "metadata": {},
          "output_type": "execute_result"
        }
      ],
      "source": [
        "nlp = spacy.blank(\"vi\")\n",
        "nlp"
      ]
    },
    {
      "cell_type": "markdown",
      "metadata": {},
      "source": [
        "#### Train the model\n",
        "The below code will create a custom model with the data that we give. A binary file  named `train.spacy` will be generated at the end."
      ]
    },
    {
      "cell_type": "code",
      "execution_count": 11,
      "metadata": {
        "colab": {
          "base_uri": "https://localhost:8080/"
        },
        "id": "GJkB_uOoVpwx",
        "outputId": "7f3f7985-1aec-470d-e78a-061dbc3be5ab"
      },
      "outputs": [
        {
          "name": "stderr",
          "output_type": "stream",
          "text": [
            "\r  0%|          | 0/51 [00:00<?, ?it/s]"
          ]
        },
        {
          "name": "stdout",
          "output_type": "stream",
          "text": [
            "Skipping entity\n",
            "Skipping entity\n",
            "Skipping entity\n",
            "Skipping entity\n",
            "Skipping entity\n",
            "Skipping entity\n",
            "Skipping entity\n",
            "Skipping entity\n",
            "Skipping entity\n",
            "Skipping entity\n",
            "Skipping entity\n",
            "Skipping entity\n",
            "Skipping entity\n",
            "Skipping entity\n",
            "Skipping entity\n",
            "Skipping entity\n",
            "Skipping entity\n",
            "Skipping entity\n",
            "Skipping entity\n",
            "Skipping entity\n",
            "Skipping entity\n",
            "Skipping entity\n",
            "Skipping entity\n",
            "Skipping entity\n",
            "Skipping entity"
          ]
        },
        {
          "name": "stderr",
          "output_type": "stream",
          "text": [
            "\r100%|██████████| 51/51 [00:00<00:00, 660.67it/s]"
          ]
        },
        {
          "name": "stdout",
          "output_type": "stream",
          "text": [
            "\n",
            "Skipping entity\n",
            "Skipping entity\n",
            "Skipping entity\n",
            "Skipping entity\n",
            "Skipping entity\n",
            "Skipping entity\n",
            "Skipping entity\n",
            "Skipping entity\n",
            "Skipping entity\n",
            "Skipping entity\n",
            "Skipping entity\n",
            "Skipping entity\n",
            "Skipping entity\n",
            "Skipping entity\n",
            "Skipping entity\n",
            "Skipping entity\n",
            "Skipping entity\n",
            "Skipping entity\n",
            "Skipping entity\n",
            "Skipping entity\n",
            "Skipping entity\n",
            "Skipping entity\n",
            "Skipping entity\n",
            "Skipping entity\n",
            "Skipping entity\n",
            "Skipping entity\n",
            "Skipping entity\n",
            "Skipping entity\n",
            "Skipping entity\n",
            "Skipping entity\n",
            "Skipping entity\n",
            "Skipping entity\n",
            "Skipping entity\n",
            "Skipping entity\n",
            "Skipping entity\n",
            "Skipping entity\n",
            "Skipping entity\n",
            "Skipping entity\n",
            "Skipping entity\n",
            "Skipping entity\n",
            "Skipping entity\n",
            "Skipping entity\n",
            "Skipping entity\n",
            "Skipping entity\n",
            "Skipping entity\n",
            "Skipping entity\n",
            "Skipping entity\n",
            "Skipping entity\n",
            "Skipping entity\n",
            "Skipping entity\n",
            "Skipping entity\n",
            "Skipping entity\n",
            "Skipping entity\n",
            "Skipping entity\n",
            "Skipping entity\n",
            "Skipping entity\n",
            "Skipping entity\n",
            "Skipping entity\n",
            "Skipping entity\n"
          ]
        },
        {
          "name": "stderr",
          "output_type": "stream",
          "text": [
            "\n"
          ]
        }
      ],
      "source": [
        "doc_bin = DocBin()\n",
        "for training_example in tqdm(training_data):\n",
        "    text = training_example['text']\n",
        "    labels = training_example['entities']\n",
        "    doc = nlp.make_doc(text)\n",
        "    ents = []\n",
        "    for start, end, label in labels:\n",
        "        span = doc.char_span(start, end, label=label, alignment_mode=\"contract\")\n",
        "        if span is None:\n",
        "            print(\"Skipping entity\")\n",
        "        else:\n",
        "            ents.append(span)\n",
        "    filtered_ents = filter_spans(ents)\n",
        "    doc.ents = filtered_ents\n",
        "    doc_bin.add(doc)\n",
        "\n",
        "doc_bin.to_disk(\"train.spacy\")"
      ]
    },
    {
      "cell_type": "code",
      "execution_count": 12,
      "metadata": {
        "colab": {
          "base_uri": "https://localhost:8080/"
        },
        "id": "cEq2l_k5HrvS",
        "outputId": "b3913dc2-72a7-462f-fc8e-d7f83e624c06"
      },
      "outputs": [
        {
          "data": {
            "text/plain": [
              "False"
            ]
          },
          "execution_count": 12,
          "metadata": {},
          "output_type": "execute_result"
        }
      ],
      "source": [
        "import torch\n",
        "torch.cuda.is_available()"
      ]
    },
    {
      "cell_type": "code",
      "execution_count": 13,
      "metadata": {
        "colab": {
          "base_uri": "https://localhost:8080/"
        },
        "id": "tJ72RLo-L3WF",
        "outputId": "69772c21-8590-4864-dc18-79758b6d577e",
        "vscode": {
          "languageId": "powershell"
        }
      },
      "outputs": [
        {
          "name": "stdout",
          "output_type": "stream",
          "text": [
            "nvcc: NVIDIA (R) Cuda compiler driver\n",
            "Copyright (c) 2005-2022 NVIDIA Corporation\n",
            "Built on Wed_Sep_21_10:33:58_PDT_2022\n",
            "Cuda compilation tools, release 11.8, V11.8.89\n",
            "Build cuda_11.8.r11.8/compiler.31833905_0\n"
          ]
        }
      ],
      "source": [
        "!nvcc --version"
      ]
    },
    {
      "cell_type": "markdown",
      "metadata": {},
      "source": [
        "### Create a config files"
      ]
    },
    {
      "cell_type": "markdown",
      "metadata": {},
      "source": [
        "SpaCy 3 uses a config file config.cfg that contains all the model training components to train the model. In [spaCy training page](https://spacy.io/usage/training), you can select the language of the model (English in this tutorial), the component (NER) and hardware (GPU) to use and download the config file template.  "
      ]
    },
    {
      "cell_type": "markdown",
      "metadata": {},
      "source": [
        "> In this model we use the file named base_config.cfg like [this](https://github.com/TungCan273/Fine-tuning/blob/master/Spacy/base_config.cfg)"
      ]
    },
    {
      "cell_type": "markdown",
      "metadata": {},
      "source": [
        "After you’ve saved the starter config to a file `base_config.cfg`, you can use the [init fill-config](https://spacy.io/api/cli#init-fill-config) command to fill in the remaining defaults. Training configs should always be complete and without hidden defaults, to keep your experiments reproducible."
      ]
    },
    {
      "cell_type": "code",
      "execution_count": 22,
      "metadata": {
        "colab": {
          "base_uri": "https://localhost:8080/"
        },
        "id": "bc19D-AkWKsc",
        "outputId": "6dcb30ed-81cd-4169-aff7-1140980a70fc",
        "vscode": {
          "languageId": "powershell"
        }
      },
      "outputs": [
        {
          "name": "stdout",
          "output_type": "stream",
          "text": [
            "2023-07-16 17:05:33.405578: W tensorflow/compiler/tf2tensorrt/utils/py_utils.cc:38] TF-TRT Warning: Could not find TensorRT\n",
            "\u001b[38;5;2m✔ Auto-filled config with all values\u001b[0m\n",
            "\u001b[38;5;2m✔ Saved config\u001b[0m\n",
            "config.cfg\n",
            "You can now add your data and train your pipeline:\n",
            "python -m spacy train config.cfg --paths.train ./train.spacy --paths.dev ./dev.spacy\n"
          ]
        }
      ],
      "source": [
        "!python -m spacy init fill-config base_config.cfg config.cfg"
      ]
    },
    {
      "cell_type": "markdown",
      "metadata": {},
      "source": [
        "This cell means `spaCy debug`.  \n",
        "The [spaCy debug](https://spacy.io/api/cli#debug) CLI includes helpful commands for debugging and profiling your configs, data and implementations."
      ]
    },
    {
      "cell_type": "code",
      "execution_count": 23,
      "metadata": {
        "colab": {
          "base_uri": "https://localhost:8080/"
        },
        "id": "95p92n3GTSxT",
        "outputId": "ed26461c-8b63-44bf-dba1-feab2128f30a",
        "vscode": {
          "languageId": "powershell"
        }
      },
      "outputs": [
        {
          "name": "stdout",
          "output_type": "stream",
          "text": [
            "2023-07-16 17:06:31.144598: W tensorflow/compiler/tf2tensorrt/utils/py_utils.cc:38] TF-TRT Warning: Could not find TensorRT\n",
            "\u001b[1m\n",
            "============================ Data file validation ============================\u001b[0m\n",
            "\u001b[38;5;2m✔ Pipeline can be initialized with data\u001b[0m\n",
            "\u001b[38;5;2m✔ Corpus is loadable\u001b[0m\n",
            "\u001b[1m\n",
            "=============================== Training stats ===============================\u001b[0m\n",
            "Language: vi\n",
            "Training pipeline: tok2vec, ner\n",
            "51 training docs\n",
            "51 evaluation docs\n",
            "\u001b[38;5;3m⚠ 51 training examples also in evaluation data\u001b[0m\n",
            "\u001b[38;5;1m✘ Low number of examples to train a new pipeline (51)\u001b[0m\n",
            "\u001b[1m\n",
            "============================== Vocab & Vectors ==============================\u001b[0m\n",
            "\u001b[38;5;4mℹ 473 total word(s) in the data (226 unique)\u001b[0m\n",
            "\u001b[38;5;4mℹ No word vectors present in the package\u001b[0m\n",
            "\u001b[1m\n",
            "========================== Named Entity Recognition ==========================\u001b[0m\n",
            "\u001b[38;5;4mℹ 4 label(s)\u001b[0m\n",
            "0 missing value(s) (tokens with '-' label)\n",
            "\u001b[38;5;3m⚠ Low number of examples for label 'ORGANIZATION_NAME' (16)\u001b[0m\n",
            "\u001b[2K\u001b[38;5;3m⚠ Low number of examples for label 'PERSON_NAME' (36)\u001b[0m\n",
            "\u001b[2K\u001b[38;5;3m⚠ Low number of examples for label 'LOCATION_NAME' (22)\u001b[0m\n",
            "\u001b[2K\u001b[38;5;3m⚠ Low number of examples for label 'DATE' (2)\u001b[0m\n",
            "\u001b[2K\u001b[38;5;2m✔ Examples without occurrences available for all labels\u001b[0m\n",
            "\u001b[38;5;2m✔ No entities consisting of or starting/ending with whitespace\u001b[0m\n",
            "\u001b[38;5;2m✔ No entities crossing sentence boundaries\u001b[0m\n",
            "\u001b[1m\n",
            "================================== Summary ==================================\u001b[0m\n",
            "\u001b[38;5;2m✔ 5 checks passed\u001b[0m\n",
            "\u001b[38;5;3m⚠ 5 warnings\u001b[0m\n",
            "\u001b[38;5;1m✘ 1 error\u001b[0m\n"
          ]
        }
      ],
      "source": [
        "!python -m spacy debug data ./config.cfg"
      ]
    },
    {
      "cell_type": "markdown",
      "metadata": {},
      "source": [
        "Instead of exporting your starter config from the [quickstart](https://spacy.io/usage/training#quickstart) widget and auto-filling it, you can also use the [init config](https://spacy.io/api/cli#init-fill-config) command and specify your requirement and settings as CLI arguments. You can now add your data and run train with your config. See the convert command for details on how to [convert](https://spacy.io/api/cli#convert) your data to spaCy’s binary `.spacy` format. You can either include the data paths in the [paths] section of your config, or pass them in via the command line."
      ]
    },
    {
      "cell_type": "code",
      "execution_count": 24,
      "metadata": {
        "colab": {
          "base_uri": "https://localhost:8080/"
        },
        "id": "qFQerR0VWlEZ",
        "outputId": "12568404-201c-4bde-fc15-f685dceba5a5",
        "vscode": {
          "languageId": "powershell"
        }
      },
      "outputs": [
        {
          "name": "stdout",
          "output_type": "stream",
          "text": [
            "2023-07-16 17:06:49.070836: W tensorflow/compiler/tf2tensorrt/utils/py_utils.cc:38] TF-TRT Warning: Could not find TensorRT\n",
            "\u001b[38;5;4mℹ Saving to output directory: output\u001b[0m\n",
            "\u001b[38;5;4mℹ Using CPU\u001b[0m\n",
            "\u001b[1m\n",
            "=========================== Initializing pipeline ===========================\u001b[0m\n",
            "[2023-07-16 17:06:52,952] [INFO] Set up nlp object from config\n",
            "[2023-07-16 17:06:52,974] [INFO] Pipeline: ['tok2vec', 'ner']\n",
            "[2023-07-16 17:06:52,979] [INFO] Created vocabulary\n",
            "[2023-07-16 17:06:52,979] [INFO] Finished initializing nlp object\n",
            "[2023-07-16 17:06:53,459] [INFO] Initialized pipeline components: ['tok2vec', 'ner']\n",
            "\u001b[38;5;2m✔ Initialized pipeline\u001b[0m\n",
            "\u001b[1m\n",
            "============================= Training pipeline =============================\u001b[0m\n",
            "\u001b[38;5;4mℹ Pipeline: ['tok2vec', 'ner']\u001b[0m\n",
            "\u001b[38;5;4mℹ Initial learn rate: 0.001\u001b[0m\n",
            "E    #       LOSS TOK2VEC  LOSS NER  ENTS_F  ENTS_P  ENTS_R  SCORE \n",
            "---  ------  ------------  --------  ------  ------  ------  ------\n",
            "  0       0          0.00     60.67    0.00    0.00    0.00    0.00\n",
            " 42     200         25.87   1649.57  100.00  100.00  100.00    1.00\n",
            " 92     400          0.38      0.98  100.00  100.00  100.00    1.00\n",
            "158     600         20.99     79.67  100.00  100.00  100.00    1.00\n",
            "228     800         73.65    150.50  100.00  100.00  100.00    1.00\n",
            "328    1000         29.77     49.43  100.00  100.00  100.00    1.00\n",
            "428    1200          0.00      0.00  100.00  100.00  100.00    1.00\n",
            "542    1400          0.00      0.00  100.00  100.00  100.00    1.00\n",
            "742    1600          0.00      0.00  100.00  100.00  100.00    1.00\n",
            "942    1800          0.00      0.00  100.00  100.00  100.00    1.00\n",
            "\u001b[38;5;2m✔ Saved pipeline to output directory\u001b[0m\n",
            "output/model-last\n"
          ]
        }
      ],
      "source": [
        "!python -m spacy train config.cfg --output ./output --paths.train ./train.spacy --paths.dev ./train.spacy"
      ]
    },
    {
      "cell_type": "markdown",
      "metadata": {},
      "source": [
        "At the end, it'll generate 2 folders named model-best and model-last."
      ]
    },
    {
      "cell_type": "code",
      "execution_count": 27,
      "metadata": {
        "id": "MVMsywZhWz4C"
      },
      "outputs": [],
      "source": [
        "nlp_ner = spacy.load(\"output/model-best\")"
      ]
    },
    {
      "cell_type": "code",
      "execution_count": 28,
      "metadata": {
        "colab": {
          "base_uri": "https://localhost:8080/"
        },
        "id": "RPmnUGtA1k7z",
        "outputId": "6098fc91-a311-4732-cf00-9c1bd692550e"
      },
      "outputs": [
        {
          "data": {
            "text/plain": [
              "<spacy.lang.vi.Vietnamese at 0x78e900f4abc0>"
            ]
          },
          "execution_count": 28,
          "metadata": {},
          "output_type": "execute_result"
        }
      ],
      "source": [
        "nlp_ner"
      ]
    },
    {
      "cell_type": "markdown",
      "metadata": {
        "id": "M0KLsIoohylo"
      },
      "source": [
        "# Test our model"
      ]
    },
    {
      "cell_type": "markdown",
      "metadata": {},
      "source": [
        "Install docx library for read docx files"
      ]
    },
    {
      "cell_type": "code",
      "execution_count": 29,
      "metadata": {
        "colab": {
          "base_uri": "https://localhost:8080/"
        },
        "id": "KZ26eyuiEouv",
        "outputId": "a55bb0bf-8648-4f18-ee78-252a9457a60c",
        "vscode": {
          "languageId": "powershell"
        }
      },
      "outputs": [
        {
          "name": "stdout",
          "output_type": "stream",
          "text": [
            "Requirement already satisfied: python-docx in /usr/local/lib/python3.10/dist-packages (0.8.11)\n",
            "Requirement already satisfied: lxml>=2.3.2 in /usr/local/lib/python3.10/dist-packages (from python-docx) (4.9.3)\n",
            "Requirement already satisfied: docx2txt in /usr/local/lib/python3.10/dist-packages (0.8)\n"
          ]
        }
      ],
      "source": [
        "!pip install python-docx"
      ]
    },
    {
      "cell_type": "code",
      "execution_count": 31,
      "metadata": {
        "colab": {
          "base_uri": "https://localhost:8080/"
        },
        "id": "8KZmvfdnEslJ",
        "outputId": "d9cb7842-e4b1-4d1f-be05-9cce39176b25"
      },
      "outputs": [
        {
          "name": "stdout",
          "output_type": "stream",
          "text": [
            "NHÂN DANH\n",
            "NƯỚC CỘNG HÒA XÃ HỘI CHỦ NGHĨA VIỆT NAM\n",
            "TÒA ÁN NHÂN DÂN QUẬN 10, THÀNH PHỐ HỒ CHÍ MINH\n",
            "- Thành phần Hội đồng xét xử sơ thẩm gồm có:\n",
            "Thẩm phán - Chủ tọa phiên tòa: Bà Lê Thị Lan \n",
            "Các Hội thẩm nhân dân:\n",
            "1. Bà Nguyễn Thị Thu Hằng\n",
            "2. Ông Nguyễn Vi Tường Thụy \n",
            "- Thư ký phiên tòa: Bà Phạm Hà Thiên Tâm - Thư ký Tòa án, Tòa án nhân dân Quận 10, Thành phố Hồ Chí Minh.\n",
            "- Đại diện Viện kiểm sát nhân dân Quận 10, Thành phố Hồ Chí Minh tham gia phiên tòa: Ông Nguyễn Tuấn Anh - Kiểm sát viên\n",
            " Ngày 06 tháng 01 năm 2020 tại trụ sở Toà án nhân dân Quận 10, Thành phố Hồ Chí Minh, xét xử sơ thẩm công khai vụ án thụ lý số: 629/2019/TLST-HNGĐ ngày 07 tháng 10 năm 2019 về tranh chấp ly hôn, theo Quyết định đưa vụ án ra xét xử số: 331/2019/QĐXXST-HNGĐ ngày 12 tháng 12 năm 2019 và Quyết định hoãn phiên toà số: 231/2019/QĐST-HNGĐ ngày 25 tháng 12 năm 2019, giữa các đương sự:\n",
            " - Nguyên đơn: Bà Lê Ngân H, sinh năm: 1989\n",
            "Địa chỉ: Số 73 đường Phó Đức Chính, phường V, Thành phố Nha Trang, tỉnh Khánh Hoà. (Có đơn xin vắng mặt)\n",
            " - Bị đơn: Ông Nguyễn Đăng T, sinh năm: 1989\n",
            "Địa chỉ: Số 132 đường Hùng vương, Phường X, Quận D, Thành phố Hồ Chí Minh. (Vắng mặt)\n",
            "NỘI DUNG VỤ ÁN:\n",
            " - Tại đơn khởi kiện ngày 23/9/2019, cùng các tài liệu, chứng cứ có trong hồ sơ, nguyên đơn bà Lê Ngân H trình bày: Bà và ông Nguyễn Đăng T tự nguyện chung sống và đăng ký kết hôn tại Uỷ ban nhân dân Phường X, Quận D, Thành phố Hồ Chí Minh, theo giấy chứng nhận kết hôn số 98, quyển số 01/2014 ngày 06/11/2014.\n",
            "Sau khi kết hôn, vì nhiều nguyên nhân trong đó có việc ông T có quan hệ tình cảm với người phụ nữ khác dẫn đến vợ chồng đã bắt đầu phát sinh nhiều mâu thuẫn. Vì muốn níu kéo hạnh phúc gia đình, bà H đã nhiều lần bỏ qua nhưng ông T vẫn không thay đổi. Từ tháng 9 năm 2018, bà H đã dọn ra khỏi nhà và vợ chồng sống ly thân cho đến nay. Nhận thấy tình cảm vợ chồng không còn khả năng hàn gắn nên bà yêu cầu Toà giải quyết cho ly hôn để ổn định cuộc sống.\n",
            "Về con chung: Bà H khai, giữa bà và ông T chung sống không có con chung.\n",
            "Về tài sản chung: Bà H không yêu cầu Toà án giải quyết.\n",
            "Và nợ chung: Bà H khai không có\n",
            "Ngày 10/12/2019, bà H có đơn đề nghị Toà án xét xử vắng mặt.\n",
            "Toà án tống đạt thông báo thụ lý, các văn bản tố tụng khác cho ông T nhưng ông T vắng mặt không có lý do.\n",
            "Đại diện Viện Kiểm sát nhân dân Quận D phát biểu quan điểm về việc tuân thủ pháp luật về tố tụng của Thẩm phán và Hội đồng xét xử từ giai đoạn thụ lý đến khi nghị án là tuân thủ đúng quy định pháp luật, đầy đủ.\n",
            "Về nội dung: Kiểm sát viên đề nghị chấp nhận yêu cầu của nguyên đơn. \n",
            "NHẬN ĐỊNH CỦA TÒA ÁN:\n",
            " [1]. Về tục tố tụng: Căn cứ vào yêu cầu khởi kiện của nguyên đơn, Hội đồng xét xử có cơ sở xác định quan hệ tranh chấp giữa bà H và ông T là“ Tranh chấp về ly hôn”. Bị đơn ông Nguyễn Đăng T có địa chỉ cư trú tại Quận D, Thành phố Hồ Chí Minh nên vụ án thuộc thẩm quyền giải quyết của Toà án nhân dân Quận 10, Thành phố Hồ Chí Minh.\n",
            " - Nguyên đơn có đơn đề nghị Toà án xét xử vắng mặt, Hội đồng xét xử xét xử căn cứ vào điểm a khoản 2 Điều 227, khoản 1 Điều 228 của Bộ luật tố tụng dân sự 2015, tiến hành xét xử vụ án vắng mặt bà H.\n",
            "Toà án triệu tập hợp lệ lần thứ hai, bị đơn vắng mặt nên Hội đồng xét xử căn cứ vào điểm b khoản 2 Điều 227, khoản 3 Điều 228 của Bộ luật tố tụng dân sự, tiến hành xét xử vụ án vắng mặt ông T.\n",
            " [2]. Về yêu cầu của nguyên đơn:\n",
            " - Xét yêu cầu xin ly hôn:\n",
            "Luật Hôn nhân và gia đình quy định: Vợ chồng có nghĩa vụ thương yêu, quan tâm, chăm sóc, giúp đỡ nhau, cùng nhau chia sẻ, thực hiện các công việc của gia đình. Tuy nhiên, giữa bà H và ông T lại sống ly thân cho thấy mục đích hôn nhân của bà H và ông T không đạt được. Hơn nữa, ông T đã được Toà án tống đạt thông báo về phiên họp kiểm tra việc giao nộp, công khai chứng cứ và hoà giải cũng như các văn bản tố tụng khác nhưng vẫn không có mặt và cũng không có bất kỳ ý kiến nào gửi cho Toà án về việc bà H xin ly hôn. Như vậy, ông T cũng không còn quan tâm, thiết tha đến cuộc sống hôn nhân này nữa nên tình cảm vợ chồng giữa bà H và ông T không còn khả năng đoàn tụ nên yêu cầu xin ly hôn của bà H là có cơ sở để Hội đồng xét xử chấp nhận.\n",
            " - Về con chung: Bà H khai không có\n",
            " - Về tài sản chung: Bà H không yêu cầu Toà án giải quyết.\n",
            " - Về nợ chung: Bà H khai không có.\n",
            " - Án phí dân sự sơ thẩm: Bà H phải chịu án phí về Hôn nhân gia đình theo quy định tại khoản 5 Điều 27 của Nghị quyết số 326/2016/UBTVQH14 ngày 30/12/2016.\n",
            "Vì các lẽ trên;\n",
            "QUYẾT ĐỊNH:\n",
            "Căn cứ vào vào khoản 1 Điều 28, điểm a khoản 1 Điều 35, điểm a khoản 1 Điều 39, khoản 4 Điều 147, khoản 1, điểm a, b khoản 2 Điều 227, khoản 1 khoản 3 Điều 228 và khoản 1 Điều 273 của Bộ luật tố tụng dân sự năm 2015;\n",
            "Căn cứ vào Điều 56 của Luật hôn nhân và gia đình;\n",
            "Căn cứ vào khoản 5 Điều 27 của Nghị quyết số 326/2016/UBTVQH14 ngày 30/12/2016.\n",
            "Chấp nhận yêu cầu của bà Lê Ngân H\n",
            "\n",
            "\n",
            "\n",
            "\n",
            "\n",
            "\n",
            "\n",
            "\n",
            "\n",
            "\n",
            "\n",
            "\n",
            "\n",
            "\n"
          ]
        }
      ],
      "source": [
        "import docx\n",
        "path_docx = \"/content/6 HN_MAU.docx\"\n",
        "# doc = docx.Document(path_docx)\n",
        "def getText(filename):\n",
        "    doc = docx.Document(filename)\n",
        "    fullText = []\n",
        "    for para in doc.paragraphs:\n",
        "        fullText.append(para.text)\n",
        "    return '\\n'.join(fullText)\n",
        "print(getText(\"/content/6 HN_MAU.docx\"))"
      ]
    },
    {
      "cell_type": "code",
      "execution_count": 33,
      "metadata": {
        "colab": {
          "base_uri": "https://localhost:8080/",
          "height": 52
        },
        "id": "wRzAEEXVjDDw",
        "outputId": "e58cace5-ad3f-4f9c-fd22-2d71cc4c5b65"
      },
      "outputs": [
        {
          "data": {
            "text/html": [
              "<span class=\"tex2jax_ignore\"><div class=\"entities\" style=\"line-height: 2.5; direction: ltr\">Ông \n",
              "<mark class=\"entity\" style=\"background: #ddd; padding: 0.45em 0.6em; margin: 0 0.25em; line-height: 1; border-radius: 0.35em;\">\n",
              "    Tô Bình Yi,\n",
              "    <span style=\"font-size: 0.8em; font-weight: bold; line-height: 1; border-radius: 0.35em; vertical-align: middle; margin-left: 0.5rem\">PERSON_NAME</span>\n",
              "</mark>\n",
              " sinh năm 1970 (Có đơn xin vắng mặt)</div></span>"
            ],
            "text/plain": [
              "<IPython.core.display.HTML object>"
            ]
          },
          "metadata": {},
          "output_type": "display_data"
        }
      ],
      "source": [
        "doc = nlp_ner(\"Ông Tô Bình Yi, sinh năm 1970 (Có đơn xin vắng mặt)\")\n",
        "\n",
        "spacy.displacy.render(doc, style=\"ent\", jupyter=True)"
      ]
    },
    {
      "cell_type": "code",
      "execution_count": 34,
      "metadata": {
        "colab": {
          "base_uri": "https://localhost:8080/",
          "height": 87
        },
        "id": "V9szX-9420Gm",
        "outputId": "d089e3db-cec3-4998-90c7-4ceaf6693208"
      },
      "outputs": [
        {
          "data": {
            "text/html": [
              "<span class=\"tex2jax_ignore\"><div class=\"entities\" style=\"line-height: 2.5; direction: ltr\">Thư ký phiên tòa\n",
              "<mark class=\"entity\" style=\"background: #ddd; padding: 0.45em 0.6em; margin: 0 0.25em; line-height: 1; border-radius: 0.35em;\">\n",
              "    : Bà Trà Thị\n",
              "    <span style=\"font-size: 0.8em; font-weight: bold; line-height: 1; border-radius: 0.35em; vertical-align: middle; margin-left: 0.5rem\">PERSON_NAME</span>\n",
              "</mark>\n",
              " Thúy Diễm – Thư ký \n",
              "<mark class=\"entity\" style=\"background: #ddd; padding: 0.45em 0.6em; margin: 0 0.25em; line-height: 1; border-radius: 0.35em;\">\n",
              "    Tòa án\n",
              "    <span style=\"font-size: 0.8em; font-weight: bold; line-height: 1; border-radius: 0.35em; vertical-align: middle; margin-left: 0.5rem\">ORGANIZATION_NAME</span>\n",
              "</mark>\n",
              " nhân dân \n",
              "<mark class=\"entity\" style=\"background: #ddd; padding: 0.45em 0.6em; margin: 0 0.25em; line-height: 1; border-radius: 0.35em;\">\n",
              "    Quận 10,\n",
              "    <span style=\"font-size: 0.8em; font-weight: bold; line-height: 1; border-radius: 0.35em; vertical-align: middle; margin-left: 0.5rem\">LOCATION_NAME</span>\n",
              "</mark>\n",
              " Thành phố Hồ Chí Minh. </div></span>"
            ],
            "text/plain": [
              "<IPython.core.display.HTML object>"
            ]
          },
          "metadata": {},
          "output_type": "display_data"
        }
      ],
      "source": [
        "doc1 = nlp_ner(\"Thư ký phiên tòa: Bà Trà Thị Thúy Diễm – Thư ký Tòa án nhân dân Quận 10, Thành phố Hồ Chí Minh. \")\n",
        "spacy.displacy.render(doc1, style=\"ent\", jupyter=True)"
      ]
    },
    {
      "cell_type": "code",
      "execution_count": 35,
      "metadata": {
        "colab": {
          "base_uri": "https://localhost:8080/",
          "height": 52
        },
        "id": "DUK1jhBZ520i",
        "outputId": "d47658f3-e5de-485b-c7e9-9b5b459e395e"
      },
      "outputs": [
        {
          "data": {
            "text/html": [
              "<span class=\"tex2jax_ignore\"><div class=\"entities\" style=\"line-height: 2.5; direction: ltr\">Bà Phan Thị \n",
              "<mark class=\"entity\" style=\"background: #ddd; padding: 0.45em 0.6em; margin: 0 0.25em; line-height: 1; border-radius: 0.35em;\">\n",
              "    Cẩm Ngọc,\n",
              "    <span style=\"font-size: 0.8em; font-weight: bold; line-height: 1; border-radius: 0.35em; vertical-align: middle; margin-left: 0.5rem\">PERSON_NAME</span>\n",
              "</mark>\n",
              " sinh năm 1975 (Có mặt)</div></span>"
            ],
            "text/plain": [
              "<IPython.core.display.HTML object>"
            ]
          },
          "metadata": {},
          "output_type": "display_data"
        }
      ],
      "source": [
        "doc2 = nlp_ner(\"Bà Phan Thị Cẩm Ngọc, sinh năm 1975 (Có mặt)\")\n",
        "spacy.displacy.render(doc2, style = \"ent\", jupyter=True)"
      ]
    },
    {
      "cell_type": "code",
      "execution_count": 36,
      "metadata": {
        "colab": {
          "base_uri": "https://localhost:8080/"
        },
        "id": "1a81qW9-3eU6",
        "outputId": "1570e4e6-bbec-4afe-e09b-14b47c6707cc"
      },
      "outputs": [
        {
          "name": "stdout",
          "output_type": "stream",
          "text": [
            "[('Tô Bình Yi,', 4, 15, 'PERSON_NAME')]\n",
            "[(': Bà Trà Thị', 16, 28, 'PERSON_NAME'), ('Tòa án', 48, 54, 'ORGANIZATION_NAME'), ('Quận 10,', 64, 72, 'LOCATION_NAME')]\n",
            "[('Cẩm Ngọc,', 'PERSON_NAME')]\n"
          ]
        }
      ],
      "source": [
        "ents = [(e.text, e.start_char, e.end_char, e.label_) for e in doc.ents]\n",
        "print(ents)\n",
        "ents1 = [(e.text, e.start_char, e.end_char, e.label_) for e in doc1.ents]\n",
        "print(ents1)\n",
        "ents2 = [(e.text, e.label_) for e in doc2.ents]\n",
        "print(ents2)"
      ]
    },
    {
      "cell_type": "code",
      "execution_count": 45,
      "metadata": {
        "colab": {
          "base_uri": "https://localhost:8080/",
          "height": 182
        },
        "id": "dgccQG1vqfdS",
        "outputId": "e729cb6c-593a-44da-c5a1-fcfaded42a96"
      },
      "outputs": [
        {
          "data": {
            "application/vnd.google.colaboratory.intrinsic+json": {
              "type": "string"
            },
            "text/plain": [
              "'NHÂN DANH NƯỚC CỘNG HÒA XÃ HỘI CHỦ NGHĨA VIỆT NAM TÒA ÁN NHÂN DÂN QUẬN 10, THÀNH PHỐ HỒ CHÍ MINH - Thành phần Hội đồng xét xử sơ thẩm gồm có: Thẩm phánChủ tọa phiên tòa: Bà Lê Thị Lan  Các Hội thẩm nhân dân: 1. Bà Nguyễn Thị Thu Hằng 2. Ông Nguyễn Vi Tường Thụy  - Thư ký phiên tòa: Bà Phạm Hà Thiên TâmThư ký Tòa án, Tòa án nhân dân Quận 10, Thành phố Hồ Chí Minh. - Đại diện Viện kiểm sát nhân dân Quận 10, Thành phố Hồ Chí Minh tham gia phiên tòa: Ông Nguyễn Tuấn AnhKiểm sát viên  Ngày 06 tháng 01 năm 2020 tại trụ sở Toà án nhân dân Quận 10, Thành phố Hồ Chí Minh, xét xử sơ thẩm công khai vụ án thụ lý số: 629/2019/TLST-HNGĐ ngày 07 tháng 10 năm 2019 về tranh chấp ly hôn, theo Quyết định đưa vụ án ra xét xử số: 331/2019/QĐXXST-HNGĐ ngày 12 tháng 12 năm 2019 và Quyết định hoãn phiên toà số: 231/2019/QĐST-HNGĐ ngày 25 tháng 12 năm 2019, giữa các đương sự: Nguyên đơn: Bà Lê Ngân H, sinh năm: 1989 Địa chỉ: Số 73 đường Phó Đức Chính, phường V, Thành phố Nha Trang, tỉnh Khánh Hoà. (Có đơn xin vắng mặt) Bị đơn: Ông Nguyễn Đăng T, sinh năm: 1989 Địa chỉ: Số 132 đường Hùng vương, Phường X, Quận D, Thành phố Hồ Chí Minh. (Vắng mặt) NỘI DUNG VỤ ÁN: Tại đơn khởi kiện ngày 23/9/2019, cùng các tài liệu, chứng cứ có trong hồ sơ, nguyên đơn bà Lê Ngân H trình bày: Bà và ông Nguyễn Đăng T tự nguyện chung sống và đăng ký kết hôn tại Uỷ ban nhân dân Phường X, Quận D, Thành phố Hồ Chí Minh, theo giấy chứng nhận kết hôn số 98, quyển số 01/2014 ngày 06/11/2014. Sau khi kết hôn, vì nhiều nguyên nhân trong đó có việc ông T có quan hệ tình cảm với người phụ nữ khác dẫn đến vợ chồng đã bắt đầu phát sinh nhiều mâu thuẫn. Vì muốn níu kéo hạnh phúc gia đình, bà H đã nhiều lần bỏ qua nhưng ông T vẫn không thay đổi. Từ tháng 9 năm 2018, bà H đã dọn ra khỏi nhà và vợ chồng sống ly thân cho đến nay. Nhận thấy tình cảm vợ chồng không còn khả năng hàn gắn nên bà yêu cầu Toà giải quyết cho ly hôn để ổn định cuộc sống. Về con chung: Bà H khai, giữa bà và ông T chung sống không có con chung. Về tài sản chung: Bà H không yêu cầu Toà án giải quyết. Và nợ chung: Bà H khai không có Ngày 10/12/2019, bà H có đơn đề nghị Toà án xét xử vắng mặt. Toà án tống đạt thông báo thụ lý, các văn bản tố tụng khác cho ông T nhưng ông T vắng mặt không có lý do. Đại diện Viện Kiểm sát nhân dân Quận D phát biểu quan điểm về việc tuân thủ pháp luật về tố tụng của Thẩm phán và Hội đồng xét xử từ giai đoạn thụ lý đến khi nghị án là tuân thủ đúng quy định pháp luật, đầy đủ. Về nội dung: Kiểm sát viên đề nghị chấp nhận yêu cầu của nguyên đơn.  NHẬN ĐỊNH CỦA TÒA ÁN:  [1]. Về tục tố tụng: Căn cứ vào yêu cầu khởi kiện của nguyên đơn, Hội đồng xét xử có cơ sở xác định quan hệ tranh chấp giữa bà H và ông T là“ Tranh chấp về ly hôn”. Bị đơn ông Nguyễn Đăng T có địa chỉ cư trú tại Quận D, Thành phố Hồ Chí Minh nên vụ án thuộc thẩm quyền giải quyết của Toà án nhân dân Quận 10, Thành phố Hồ Chí Minh. Nguyên đơn có đơn đề nghị Toà án xét xử vắng mặt, Hội đồng xét xử xét xử căn cứ vào điểm a khoản 2 Điều 227, khoản 1 Điều 228 của Bộ luật tố tụng dân sự 2015, tiến hành xét xử vụ án vắng mặt bà H. Toà án triệu tập hợp lệ lần thứ hai, bị đơn vắng mặt nên Hội đồng xét xử căn cứ vào điểm b khoản 2 Điều 227, khoản 3 Điều 228 của Bộ luật tố tụng dân sự, tiến hành xét xử vụ án vắng mặt ông T.  [2]. Về yêu cầu của nguyên đơn: Xét yêu cầu xin ly hôn: Luật Hôn nhân và gia đình quy định: Vợ chồng có nghĩa vụ thương yêu, quan tâm, chăm sóc, giúp đỡ nhau, cùng nhau chia sẻ, thực hiện các công việc của gia đình. Tuy nhiên, giữa bà H và ông T lại sống ly thân cho thấy mục đích hôn nhân của bà H và ông T không đạt được. Hơn nữa, ông T đã được Toà án tống đạt thông báo về phiên họp kiểm tra việc giao nộp, công khai chứng cứ và hoà giải cũng như các văn bản tố tụng khác nhưng vẫn không có mặt và cũng không có bất kỳ ý kiến nào gửi cho Toà án về việc bà H xin ly hôn. Như vậy, ông T cũng không còn quan tâm, thiết tha đến cuộc sống hôn nhân này nữa nên tình cảm vợ chồng giữa bà H và ông T không còn khả năng đoàn tụ nên yêu cầu xin ly hôn của bà H là có cơ sở để Hội đồng xét xử chấp nhận. Về con chung: Bà H khai không có Về tài sản chung: Bà H không yêu cầu Toà án giải quyết. Về nợ chung: Bà H khai không có. Án phí dân sự sơ thẩm: Bà H phải chịu án phí về Hôn nhân gia đình theo quy định tại khoản 5 Điều 27 của Nghị quyết số 326/2016/UBTVQH14 ngày 30/12/2016. Vì các lẽ trên; QUYẾT ĐỊNH: Căn cứ vào vào khoản 1 Điều 28, điểm a khoản 1 Điều 35, điểm a khoản 1 Điều 39, khoản 4 Điều 147, khoản 1, điểm a, b khoản 2 Điều 227, khoản 1 khoản 3 Điều 228 và khoản 1 Điều 273 của Bộ luật tố tụng dân sự năm 2015; Căn cứ vào Điều 56 của Luật hôn nhân và gia đình; Căn cứ vào khoản 5 Điều 27 của Nghị quyết số 326/2016/UBTVQH14 ngày 30/12/2016. Chấp nhận yêu cầu của bà Lê Ngân H             '"
            ]
          },
          "execution_count": 45,
          "metadata": {},
          "output_type": "execute_result"
        }
      ],
      "source": [
        "text = getText(\"/content/6 HN_MAU.docx\")\n",
        "# Combine the texts into one string\n",
        "combined_text = text.replace(string.punctuation, \" \").replace(\" - \", \"\")\n",
        "\n",
        "# Split the combined_text into individual lines\n",
        "lines = combined_text.splitlines()\n",
        "\n",
        "text_ = \" \".join([line for line in lines])\n",
        "text_"
      ]
    },
    {
      "cell_type": "code",
      "execution_count": 46,
      "metadata": {
        "id": "lZzXLHvWhQYv"
      },
      "outputs": [],
      "source": [
        "docs_ = nlp_ner(text_)"
      ]
    },
    {
      "cell_type": "code",
      "execution_count": 47,
      "metadata": {
        "colab": {
          "base_uri": "https://localhost:8080/"
        },
        "id": "QZrcKtNhKizX",
        "outputId": "f73c6d85-52f9-4d3b-e7ad-3dcb9f89584d"
      },
      "outputs": [
        {
          "data": {
            "text/plain": [
              "[('NAM TÒA ÁN NHÂN DÂN', 'LOCATION_NAME'),\n",
              " ('QUẬN 10,', 'LOCATION_NAME'),\n",
              " ('HỒ CHÍ MINH -', 'LOCATION_NAME'),\n",
              " (': Thẩm', 'PERSON_NAME'),\n",
              " (': Bà', 'PERSON_NAME'),\n",
              " ('Hội thẩm', 'PERSON_NAME'),\n",
              " (': 1', 'PERSON_NAME'),\n",
              " ('Nguyễn Vi Tường Thụy', 'PERSON_NAME'),\n",
              " (': Bà', 'PERSON_NAME'),\n",
              " ('ký Tòa án', 'PERSON_NAME'),\n",
              " ('Tòa án', 'ORGANIZATION_NAME'),\n",
              " ('Quận 10,', 'LOCATION_NAME'),\n",
              " ('Quận 10,', 'LOCATION_NAME'),\n",
              " (': Ông', 'PERSON_NAME'),\n",
              " ('tại trụ sở', 'ORGANIZATION_NAME'),\n",
              " ('Toà án', 'ORGANIZATION_NAME'),\n",
              " ('Quận 10,', 'LOCATION_NAME'),\n",
              " (': 629', 'PERSON_NAME'),\n",
              " ('/', 'PERSON_NAME'),\n",
              " (': 331', 'PERSON_NAME'),\n",
              " ('/QĐXXST', 'PERSON_NAME'),\n",
              " ('hoãn phiên toà', 'ORGANIZATION_NAME'),\n",
              " (': 231', 'PERSON_NAME'),\n",
              " ('/QĐST-', 'LOCATION_NAME'),\n",
              " (': Bà', 'PERSON_NAME'),\n",
              " ('Lê Ngân H,', 'PERSON_NAME'),\n",
              " (': Số', 'PERSON_NAME'),\n",
              " ('đường Phó Đức Chính', 'LOCATION_NAME'),\n",
              " (': Ông', 'PERSON_NAME'),\n",
              " (': Số', 'PERSON_NAME'),\n",
              " ('đường', 'PERSON_NAME'),\n",
              " ('Quận D,', 'LOCATION_NAME'),\n",
              " (': Tại', 'PERSON_NAME'),\n",
              " (': Bà và', 'PERSON_NAME'),\n",
              " ('Uỷ ban', 'ORGANIZATION_NAME'),\n",
              " ('Phường X,', 'LOCATION_NAME'),\n",
              " ('Quận D,', 'LOCATION_NAME'),\n",
              " ('giấy chứng nhận', 'LOCATION_NAME'),\n",
              " ('kết hôn', 'PERSON_NAME'),\n",
              " ('số', 'ORGANIZATION_NAME'),\n",
              " ('/', 'PERSON_NAME'),\n",
              " ('khi kết hôn,', 'PERSON_NAME'),\n",
              " ('hạnh phúc', 'LOCATION_NAME'),\n",
              " ('con chung', 'PERSON_NAME'),\n",
              " (': Bà H khai', 'PERSON_NAME'),\n",
              " ('bà và', 'PERSON_NAME'),\n",
              " (': Bà', 'PERSON_NAME'),\n",
              " ('không yêu cầu', 'LOCATION_NAME'),\n",
              " ('Và', 'PERSON_NAME'),\n",
              " (': Bà H khai', 'PERSON_NAME'),\n",
              " ('khác', 'LOCATION_NAME'),\n",
              " ('phát biểu quan điểm', 'LOCATION_NAME'),\n",
              " ('tố tụng của Thẩm phán', 'PERSON_NAME'),\n",
              " ('và', 'PERSON_NAME'),\n",
              " ('yêu cầu của', 'PERSON_NAME'),\n",
              " ('CỦA', 'DATE'),\n",
              " (':  ', 'PERSON_NAME'),\n",
              " ('khởi kiện của', 'PERSON_NAME'),\n",
              " ('giữa bà', 'PERSON_NAME'),\n",
              " ('“ Tranh chấp về', 'LOCATION_NAME'),\n",
              " ('tại', 'ORGANIZATION_NAME'),\n",
              " ('Quận', 'LOCATION_NAME'),\n",
              " ('giải quyết của', 'PERSON_NAME'),\n",
              " ('Toà án', 'ORGANIZATION_NAME'),\n",
              " ('Quận 10,', 'LOCATION_NAME'),\n",
              " ('228 của', 'PERSON_NAME'),\n",
              " ('khoản 3', 'LOCATION_NAME'),\n",
              " ('228 của', 'PERSON_NAME'),\n",
              " ('tố tụng', 'LOCATION_NAME'),\n",
              " ('yêu cầu của', 'PERSON_NAME'),\n",
              " (': Xét', 'PERSON_NAME'),\n",
              " (': Luật', 'PERSON_NAME'),\n",
              " ('Hôn nhân', 'PERSON_NAME'),\n",
              " ('các công việc', 'LOCATION_NAME'),\n",
              " ('hôn nhân của bà', 'PERSON_NAME'),\n",
              " ('Hơn nữa,', 'PERSON_NAME'),\n",
              " ('họp kiểm tra', 'ORGANIZATION_NAME'),\n",
              " ('chứng cứ', 'PERSON_NAME'),\n",
              " ('khác nhưng', 'LOCATION_NAME'),\n",
              " ('cho Toà án', 'PERSON_NAME'),\n",
              " ('giữa bà', 'PERSON_NAME'),\n",
              " ('ly hôn của', 'PERSON_NAME'),\n",
              " ('con chung', 'PERSON_NAME'),\n",
              " (': Bà H khai', 'PERSON_NAME'),\n",
              " (': Bà', 'PERSON_NAME'),\n",
              " ('không yêu cầu', 'LOCATION_NAME'),\n",
              " (': Bà H khai', 'PERSON_NAME'),\n",
              " (': Bà', 'PERSON_NAME'),\n",
              " ('phải chịu', 'LOCATION_NAME'),\n",
              " ('theo quy định', 'LOCATION_NAME'),\n",
              " ('27 của', 'PERSON_NAME'),\n",
              " ('số', 'PERSON_NAME'),\n",
              " (': Căn cứ', 'PERSON_NAME'),\n",
              " ('khoản 1', 'LOCATION_NAME'),\n",
              " ('Điều', 'LOCATION_NAME'),\n",
              " ('a khoản 1', 'LOCATION_NAME'),\n",
              " ('Điều', 'LOCATION_NAME'),\n",
              " ('a khoản 1', 'LOCATION_NAME'),\n",
              " ('Điều', 'LOCATION_NAME'),\n",
              " ('a,', 'PERSON_NAME'),\n",
              " ('khoản 2', 'LOCATION_NAME'),\n",
              " ('228', 'PERSON_NAME'),\n",
              " ('khoản 1', 'LOCATION_NAME'),\n",
              " ('273 của', 'PERSON_NAME'),\n",
              " ('56 của', 'PERSON_NAME'),\n",
              " ('hôn nhân và gia đình', 'PERSON_NAME'),\n",
              " ('27 của', 'PERSON_NAME'),\n",
              " ('số', 'PERSON_NAME'),\n",
              " ('yêu cầu của', 'PERSON_NAME'),\n",
              " ('bà', 'LOCATION_NAME')]"
            ]
          },
          "execution_count": 47,
          "metadata": {},
          "output_type": "execute_result"
        }
      ],
      "source": [
        "ents = [(e.text, e.label_) for e in docs_.ents]\n",
        "ents"
      ]
    },
    {
      "cell_type": "code",
      "execution_count": 48,
      "metadata": {
        "colab": {
          "base_uri": "https://localhost:8080/",
          "height": 1000
        },
        "id": "tTskfr90ezQ_",
        "outputId": "76e57efb-beaf-4e45-f173-79ce1321fa14"
      },
      "outputs": [
        {
          "data": {
            "text/html": [
              "<span class=\"tex2jax_ignore\"><div class=\"entities\" style=\"line-height: 2.5; direction: ltr\">NHÂN DANH NƯỚC CỘNG HÒA XÃ HỘI CHỦ NGHĨA VIỆT \n",
              "<mark class=\"entity\" style=\"background: #ddd; padding: 0.45em 0.6em; margin: 0 0.25em; line-height: 1; border-radius: 0.35em;\">\n",
              "    NAM TÒA ÁN NHÂN DÂN\n",
              "    <span style=\"font-size: 0.8em; font-weight: bold; line-height: 1; border-radius: 0.35em; vertical-align: middle; margin-left: 0.5rem\">LOCATION_NAME</span>\n",
              "</mark>\n",
              " \n",
              "<mark class=\"entity\" style=\"background: #ddd; padding: 0.45em 0.6em; margin: 0 0.25em; line-height: 1; border-radius: 0.35em;\">\n",
              "    QUẬN 10,\n",
              "    <span style=\"font-size: 0.8em; font-weight: bold; line-height: 1; border-radius: 0.35em; vertical-align: middle; margin-left: 0.5rem\">LOCATION_NAME</span>\n",
              "</mark>\n",
              " THÀNH PHỐ \n",
              "<mark class=\"entity\" style=\"background: #ddd; padding: 0.45em 0.6em; margin: 0 0.25em; line-height: 1; border-radius: 0.35em;\">\n",
              "    HỒ CHÍ MINH -\n",
              "    <span style=\"font-size: 0.8em; font-weight: bold; line-height: 1; border-radius: 0.35em; vertical-align: middle; margin-left: 0.5rem\">LOCATION_NAME</span>\n",
              "</mark>\n",
              " Thành phần Hội đồng xét xử sơ thẩm gồm có\n",
              "<mark class=\"entity\" style=\"background: #ddd; padding: 0.45em 0.6em; margin: 0 0.25em; line-height: 1; border-radius: 0.35em;\">\n",
              "    : Thẩm\n",
              "    <span style=\"font-size: 0.8em; font-weight: bold; line-height: 1; border-radius: 0.35em; vertical-align: middle; margin-left: 0.5rem\">PERSON_NAME</span>\n",
              "</mark>\n",
              " phánChủ tọa phiên tòa\n",
              "<mark class=\"entity\" style=\"background: #ddd; padding: 0.45em 0.6em; margin: 0 0.25em; line-height: 1; border-radius: 0.35em;\">\n",
              "    : Bà\n",
              "    <span style=\"font-size: 0.8em; font-weight: bold; line-height: 1; border-radius: 0.35em; vertical-align: middle; margin-left: 0.5rem\">PERSON_NAME</span>\n",
              "</mark>\n",
              " Lê Thị Lan  Các \n",
              "<mark class=\"entity\" style=\"background: #ddd; padding: 0.45em 0.6em; margin: 0 0.25em; line-height: 1; border-radius: 0.35em;\">\n",
              "    Hội thẩm\n",
              "    <span style=\"font-size: 0.8em; font-weight: bold; line-height: 1; border-radius: 0.35em; vertical-align: middle; margin-left: 0.5rem\">PERSON_NAME</span>\n",
              "</mark>\n",
              " nhân dân\n",
              "<mark class=\"entity\" style=\"background: #ddd; padding: 0.45em 0.6em; margin: 0 0.25em; line-height: 1; border-radius: 0.35em;\">\n",
              "    : 1\n",
              "    <span style=\"font-size: 0.8em; font-weight: bold; line-height: 1; border-radius: 0.35em; vertical-align: middle; margin-left: 0.5rem\">PERSON_NAME</span>\n",
              "</mark>\n",
              ". Bà Nguyễn Thị Thu Hằng 2. Ông \n",
              "<mark class=\"entity\" style=\"background: #ddd; padding: 0.45em 0.6em; margin: 0 0.25em; line-height: 1; border-radius: 0.35em;\">\n",
              "    Nguyễn Vi Tường Thụy\n",
              "    <span style=\"font-size: 0.8em; font-weight: bold; line-height: 1; border-radius: 0.35em; vertical-align: middle; margin-left: 0.5rem\">PERSON_NAME</span>\n",
              "</mark>\n",
              "  - Thư ký phiên tòa\n",
              "<mark class=\"entity\" style=\"background: #ddd; padding: 0.45em 0.6em; margin: 0 0.25em; line-height: 1; border-radius: 0.35em;\">\n",
              "    : Bà\n",
              "    <span style=\"font-size: 0.8em; font-weight: bold; line-height: 1; border-radius: 0.35em; vertical-align: middle; margin-left: 0.5rem\">PERSON_NAME</span>\n",
              "</mark>\n",
              " Phạm Hà Thiên TâmThư \n",
              "<mark class=\"entity\" style=\"background: #ddd; padding: 0.45em 0.6em; margin: 0 0.25em; line-height: 1; border-radius: 0.35em;\">\n",
              "    ký Tòa án\n",
              "    <span style=\"font-size: 0.8em; font-weight: bold; line-height: 1; border-radius: 0.35em; vertical-align: middle; margin-left: 0.5rem\">PERSON_NAME</span>\n",
              "</mark>\n",
              ", \n",
              "<mark class=\"entity\" style=\"background: #ddd; padding: 0.45em 0.6em; margin: 0 0.25em; line-height: 1; border-radius: 0.35em;\">\n",
              "    Tòa án\n",
              "    <span style=\"font-size: 0.8em; font-weight: bold; line-height: 1; border-radius: 0.35em; vertical-align: middle; margin-left: 0.5rem\">ORGANIZATION_NAME</span>\n",
              "</mark>\n",
              " nhân dân \n",
              "<mark class=\"entity\" style=\"background: #ddd; padding: 0.45em 0.6em; margin: 0 0.25em; line-height: 1; border-radius: 0.35em;\">\n",
              "    Quận 10,\n",
              "    <span style=\"font-size: 0.8em; font-weight: bold; line-height: 1; border-radius: 0.35em; vertical-align: middle; margin-left: 0.5rem\">LOCATION_NAME</span>\n",
              "</mark>\n",
              " Thành phố Hồ Chí Minh. - Đại diện Viện kiểm sát nhân dân \n",
              "<mark class=\"entity\" style=\"background: #ddd; padding: 0.45em 0.6em; margin: 0 0.25em; line-height: 1; border-radius: 0.35em;\">\n",
              "    Quận 10,\n",
              "    <span style=\"font-size: 0.8em; font-weight: bold; line-height: 1; border-radius: 0.35em; vertical-align: middle; margin-left: 0.5rem\">LOCATION_NAME</span>\n",
              "</mark>\n",
              " Thành phố Hồ Chí Minh tham gia phiên tòa\n",
              "<mark class=\"entity\" style=\"background: #ddd; padding: 0.45em 0.6em; margin: 0 0.25em; line-height: 1; border-radius: 0.35em;\">\n",
              "    : Ông\n",
              "    <span style=\"font-size: 0.8em; font-weight: bold; line-height: 1; border-radius: 0.35em; vertical-align: middle; margin-left: 0.5rem\">PERSON_NAME</span>\n",
              "</mark>\n",
              " Nguyễn Tuấn AnhKiểm sát viên  Ngày 06 tháng 01 năm 2020 \n",
              "<mark class=\"entity\" style=\"background: #ddd; padding: 0.45em 0.6em; margin: 0 0.25em; line-height: 1; border-radius: 0.35em;\">\n",
              "    tại trụ sở\n",
              "    <span style=\"font-size: 0.8em; font-weight: bold; line-height: 1; border-radius: 0.35em; vertical-align: middle; margin-left: 0.5rem\">ORGANIZATION_NAME</span>\n",
              "</mark>\n",
              " \n",
              "<mark class=\"entity\" style=\"background: #ddd; padding: 0.45em 0.6em; margin: 0 0.25em; line-height: 1; border-radius: 0.35em;\">\n",
              "    Toà án\n",
              "    <span style=\"font-size: 0.8em; font-weight: bold; line-height: 1; border-radius: 0.35em; vertical-align: middle; margin-left: 0.5rem\">ORGANIZATION_NAME</span>\n",
              "</mark>\n",
              " nhân dân \n",
              "<mark class=\"entity\" style=\"background: #ddd; padding: 0.45em 0.6em; margin: 0 0.25em; line-height: 1; border-radius: 0.35em;\">\n",
              "    Quận 10,\n",
              "    <span style=\"font-size: 0.8em; font-weight: bold; line-height: 1; border-radius: 0.35em; vertical-align: middle; margin-left: 0.5rem\">LOCATION_NAME</span>\n",
              "</mark>\n",
              " Thành phố Hồ Chí Minh, xét xử sơ thẩm công khai vụ án thụ lý số\n",
              "<mark class=\"entity\" style=\"background: #ddd; padding: 0.45em 0.6em; margin: 0 0.25em; line-height: 1; border-radius: 0.35em;\">\n",
              "    : 629\n",
              "    <span style=\"font-size: 0.8em; font-weight: bold; line-height: 1; border-radius: 0.35em; vertical-align: middle; margin-left: 0.5rem\">PERSON_NAME</span>\n",
              "</mark>\n",
              "/2019\n",
              "<mark class=\"entity\" style=\"background: #ddd; padding: 0.45em 0.6em; margin: 0 0.25em; line-height: 1; border-radius: 0.35em;\">\n",
              "    /\n",
              "    <span style=\"font-size: 0.8em; font-weight: bold; line-height: 1; border-radius: 0.35em; vertical-align: middle; margin-left: 0.5rem\">PERSON_NAME</span>\n",
              "</mark>\n",
              "TLST-HNGĐ ngày 07 tháng 10 năm 2019 về tranh chấp ly hôn, theo Quyết định đưa vụ án ra xét xử số\n",
              "<mark class=\"entity\" style=\"background: #ddd; padding: 0.45em 0.6em; margin: 0 0.25em; line-height: 1; border-radius: 0.35em;\">\n",
              "    : 331\n",
              "    <span style=\"font-size: 0.8em; font-weight: bold; line-height: 1; border-radius: 0.35em; vertical-align: middle; margin-left: 0.5rem\">PERSON_NAME</span>\n",
              "</mark>\n",
              "/2019\n",
              "<mark class=\"entity\" style=\"background: #ddd; padding: 0.45em 0.6em; margin: 0 0.25em; line-height: 1; border-radius: 0.35em;\">\n",
              "    /QĐXXST\n",
              "    <span style=\"font-size: 0.8em; font-weight: bold; line-height: 1; border-radius: 0.35em; vertical-align: middle; margin-left: 0.5rem\">PERSON_NAME</span>\n",
              "</mark>\n",
              "-HNGĐ ngày 12 tháng 12 năm 2019 và Quyết định \n",
              "<mark class=\"entity\" style=\"background: #ddd; padding: 0.45em 0.6em; margin: 0 0.25em; line-height: 1; border-radius: 0.35em;\">\n",
              "    hoãn phiên toà\n",
              "    <span style=\"font-size: 0.8em; font-weight: bold; line-height: 1; border-radius: 0.35em; vertical-align: middle; margin-left: 0.5rem\">ORGANIZATION_NAME</span>\n",
              "</mark>\n",
              " số\n",
              "<mark class=\"entity\" style=\"background: #ddd; padding: 0.45em 0.6em; margin: 0 0.25em; line-height: 1; border-radius: 0.35em;\">\n",
              "    : 231\n",
              "    <span style=\"font-size: 0.8em; font-weight: bold; line-height: 1; border-radius: 0.35em; vertical-align: middle; margin-left: 0.5rem\">PERSON_NAME</span>\n",
              "</mark>\n",
              "/2019\n",
              "<mark class=\"entity\" style=\"background: #ddd; padding: 0.45em 0.6em; margin: 0 0.25em; line-height: 1; border-radius: 0.35em;\">\n",
              "    /QĐST-\n",
              "    <span style=\"font-size: 0.8em; font-weight: bold; line-height: 1; border-radius: 0.35em; vertical-align: middle; margin-left: 0.5rem\">LOCATION_NAME</span>\n",
              "</mark>\n",
              "HNGĐ ngày 25 tháng 12 năm 2019, giữa các đương sự: Nguyên đơn\n",
              "<mark class=\"entity\" style=\"background: #ddd; padding: 0.45em 0.6em; margin: 0 0.25em; line-height: 1; border-radius: 0.35em;\">\n",
              "    : Bà\n",
              "    <span style=\"font-size: 0.8em; font-weight: bold; line-height: 1; border-radius: 0.35em; vertical-align: middle; margin-left: 0.5rem\">PERSON_NAME</span>\n",
              "</mark>\n",
              " \n",
              "<mark class=\"entity\" style=\"background: #ddd; padding: 0.45em 0.6em; margin: 0 0.25em; line-height: 1; border-radius: 0.35em;\">\n",
              "    Lê Ngân H,\n",
              "    <span style=\"font-size: 0.8em; font-weight: bold; line-height: 1; border-radius: 0.35em; vertical-align: middle; margin-left: 0.5rem\">PERSON_NAME</span>\n",
              "</mark>\n",
              " sinh năm: 1989 Địa chỉ\n",
              "<mark class=\"entity\" style=\"background: #ddd; padding: 0.45em 0.6em; margin: 0 0.25em; line-height: 1; border-radius: 0.35em;\">\n",
              "    : Số\n",
              "    <span style=\"font-size: 0.8em; font-weight: bold; line-height: 1; border-radius: 0.35em; vertical-align: middle; margin-left: 0.5rem\">PERSON_NAME</span>\n",
              "</mark>\n",
              " 73 \n",
              "<mark class=\"entity\" style=\"background: #ddd; padding: 0.45em 0.6em; margin: 0 0.25em; line-height: 1; border-radius: 0.35em;\">\n",
              "    đường Phó Đức Chính\n",
              "    <span style=\"font-size: 0.8em; font-weight: bold; line-height: 1; border-radius: 0.35em; vertical-align: middle; margin-left: 0.5rem\">LOCATION_NAME</span>\n",
              "</mark>\n",
              ", phường V, Thành phố Nha Trang, tỉnh Khánh Hoà. (Có đơn xin vắng mặt) Bị đơn\n",
              "<mark class=\"entity\" style=\"background: #ddd; padding: 0.45em 0.6em; margin: 0 0.25em; line-height: 1; border-radius: 0.35em;\">\n",
              "    : Ông\n",
              "    <span style=\"font-size: 0.8em; font-weight: bold; line-height: 1; border-radius: 0.35em; vertical-align: middle; margin-left: 0.5rem\">PERSON_NAME</span>\n",
              "</mark>\n",
              " Nguyễn Đăng T, sinh năm: 1989 Địa chỉ\n",
              "<mark class=\"entity\" style=\"background: #ddd; padding: 0.45em 0.6em; margin: 0 0.25em; line-height: 1; border-radius: 0.35em;\">\n",
              "    : Số\n",
              "    <span style=\"font-size: 0.8em; font-weight: bold; line-height: 1; border-radius: 0.35em; vertical-align: middle; margin-left: 0.5rem\">PERSON_NAME</span>\n",
              "</mark>\n",
              " 132 \n",
              "<mark class=\"entity\" style=\"background: #ddd; padding: 0.45em 0.6em; margin: 0 0.25em; line-height: 1; border-radius: 0.35em;\">\n",
              "    đường\n",
              "    <span style=\"font-size: 0.8em; font-weight: bold; line-height: 1; border-radius: 0.35em; vertical-align: middle; margin-left: 0.5rem\">PERSON_NAME</span>\n",
              "</mark>\n",
              " Hùng vương, Phường X, \n",
              "<mark class=\"entity\" style=\"background: #ddd; padding: 0.45em 0.6em; margin: 0 0.25em; line-height: 1; border-radius: 0.35em;\">\n",
              "    Quận D,\n",
              "    <span style=\"font-size: 0.8em; font-weight: bold; line-height: 1; border-radius: 0.35em; vertical-align: middle; margin-left: 0.5rem\">LOCATION_NAME</span>\n",
              "</mark>\n",
              " Thành phố Hồ Chí Minh. (Vắng mặt) NỘI DUNG VỤ ÁN\n",
              "<mark class=\"entity\" style=\"background: #ddd; padding: 0.45em 0.6em; margin: 0 0.25em; line-height: 1; border-radius: 0.35em;\">\n",
              "    : Tại\n",
              "    <span style=\"font-size: 0.8em; font-weight: bold; line-height: 1; border-radius: 0.35em; vertical-align: middle; margin-left: 0.5rem\">PERSON_NAME</span>\n",
              "</mark>\n",
              " đơn khởi kiện ngày 23/9/2019, cùng các tài liệu, chứng cứ có trong hồ sơ, nguyên đơn bà Lê Ngân H trình bày\n",
              "<mark class=\"entity\" style=\"background: #ddd; padding: 0.45em 0.6em; margin: 0 0.25em; line-height: 1; border-radius: 0.35em;\">\n",
              "    : Bà và\n",
              "    <span style=\"font-size: 0.8em; font-weight: bold; line-height: 1; border-radius: 0.35em; vertical-align: middle; margin-left: 0.5rem\">PERSON_NAME</span>\n",
              "</mark>\n",
              " ông Nguyễn Đăng T tự nguyện chung sống và đăng ký kết hôn tại \n",
              "<mark class=\"entity\" style=\"background: #ddd; padding: 0.45em 0.6em; margin: 0 0.25em; line-height: 1; border-radius: 0.35em;\">\n",
              "    Uỷ ban\n",
              "    <span style=\"font-size: 0.8em; font-weight: bold; line-height: 1; border-radius: 0.35em; vertical-align: middle; margin-left: 0.5rem\">ORGANIZATION_NAME</span>\n",
              "</mark>\n",
              " nhân dân \n",
              "<mark class=\"entity\" style=\"background: #ddd; padding: 0.45em 0.6em; margin: 0 0.25em; line-height: 1; border-radius: 0.35em;\">\n",
              "    Phường X,\n",
              "    <span style=\"font-size: 0.8em; font-weight: bold; line-height: 1; border-radius: 0.35em; vertical-align: middle; margin-left: 0.5rem\">LOCATION_NAME</span>\n",
              "</mark>\n",
              " \n",
              "<mark class=\"entity\" style=\"background: #ddd; padding: 0.45em 0.6em; margin: 0 0.25em; line-height: 1; border-radius: 0.35em;\">\n",
              "    Quận D,\n",
              "    <span style=\"font-size: 0.8em; font-weight: bold; line-height: 1; border-radius: 0.35em; vertical-align: middle; margin-left: 0.5rem\">LOCATION_NAME</span>\n",
              "</mark>\n",
              " Thành phố Hồ Chí Minh, theo \n",
              "<mark class=\"entity\" style=\"background: #ddd; padding: 0.45em 0.6em; margin: 0 0.25em; line-height: 1; border-radius: 0.35em;\">\n",
              "    giấy chứng nhận\n",
              "    <span style=\"font-size: 0.8em; font-weight: bold; line-height: 1; border-radius: 0.35em; vertical-align: middle; margin-left: 0.5rem\">LOCATION_NAME</span>\n",
              "</mark>\n",
              " \n",
              "<mark class=\"entity\" style=\"background: #ddd; padding: 0.45em 0.6em; margin: 0 0.25em; line-height: 1; border-radius: 0.35em;\">\n",
              "    kết hôn\n",
              "    <span style=\"font-size: 0.8em; font-weight: bold; line-height: 1; border-radius: 0.35em; vertical-align: middle; margin-left: 0.5rem\">PERSON_NAME</span>\n",
              "</mark>\n",
              " số 98, quyển \n",
              "<mark class=\"entity\" style=\"background: #ddd; padding: 0.45em 0.6em; margin: 0 0.25em; line-height: 1; border-radius: 0.35em;\">\n",
              "    số\n",
              "    <span style=\"font-size: 0.8em; font-weight: bold; line-height: 1; border-radius: 0.35em; vertical-align: middle; margin-left: 0.5rem\">ORGANIZATION_NAME</span>\n",
              "</mark>\n",
              " 01/2014 ngày 06/11\n",
              "<mark class=\"entity\" style=\"background: #ddd; padding: 0.45em 0.6em; margin: 0 0.25em; line-height: 1; border-radius: 0.35em;\">\n",
              "    /\n",
              "    <span style=\"font-size: 0.8em; font-weight: bold; line-height: 1; border-radius: 0.35em; vertical-align: middle; margin-left: 0.5rem\">PERSON_NAME</span>\n",
              "</mark>\n",
              "2014. Sau \n",
              "<mark class=\"entity\" style=\"background: #ddd; padding: 0.45em 0.6em; margin: 0 0.25em; line-height: 1; border-radius: 0.35em;\">\n",
              "    khi kết hôn,\n",
              "    <span style=\"font-size: 0.8em; font-weight: bold; line-height: 1; border-radius: 0.35em; vertical-align: middle; margin-left: 0.5rem\">PERSON_NAME</span>\n",
              "</mark>\n",
              " vì nhiều nguyên nhân trong đó có việc ông T có quan hệ tình cảm với người phụ nữ khác dẫn đến vợ chồng đã bắt đầu phát sinh nhiều mâu thuẫn. Vì muốn níu kéo \n",
              "<mark class=\"entity\" style=\"background: #ddd; padding: 0.45em 0.6em; margin: 0 0.25em; line-height: 1; border-radius: 0.35em;\">\n",
              "    hạnh phúc\n",
              "    <span style=\"font-size: 0.8em; font-weight: bold; line-height: 1; border-radius: 0.35em; vertical-align: middle; margin-left: 0.5rem\">LOCATION_NAME</span>\n",
              "</mark>\n",
              " gia đình, bà H đã nhiều lần bỏ qua nhưng ông T vẫn không thay đổi. Từ tháng 9 năm 2018, bà H đã dọn ra khỏi nhà và vợ chồng sống ly thân cho đến nay. Nhận thấy tình cảm vợ chồng không còn khả năng hàn gắn nên bà yêu cầu Toà giải quyết cho ly hôn để ổn định cuộc sống. Về \n",
              "<mark class=\"entity\" style=\"background: #ddd; padding: 0.45em 0.6em; margin: 0 0.25em; line-height: 1; border-radius: 0.35em;\">\n",
              "    con chung\n",
              "    <span style=\"font-size: 0.8em; font-weight: bold; line-height: 1; border-radius: 0.35em; vertical-align: middle; margin-left: 0.5rem\">PERSON_NAME</span>\n",
              "</mark>\n",
              "\n",
              "<mark class=\"entity\" style=\"background: #ddd; padding: 0.45em 0.6em; margin: 0 0.25em; line-height: 1; border-radius: 0.35em;\">\n",
              "    : Bà H khai\n",
              "    <span style=\"font-size: 0.8em; font-weight: bold; line-height: 1; border-radius: 0.35em; vertical-align: middle; margin-left: 0.5rem\">PERSON_NAME</span>\n",
              "</mark>\n",
              ", giữa \n",
              "<mark class=\"entity\" style=\"background: #ddd; padding: 0.45em 0.6em; margin: 0 0.25em; line-height: 1; border-radius: 0.35em;\">\n",
              "    bà và\n",
              "    <span style=\"font-size: 0.8em; font-weight: bold; line-height: 1; border-radius: 0.35em; vertical-align: middle; margin-left: 0.5rem\">PERSON_NAME</span>\n",
              "</mark>\n",
              " ông T chung sống không có con chung. Về tài sản chung\n",
              "<mark class=\"entity\" style=\"background: #ddd; padding: 0.45em 0.6em; margin: 0 0.25em; line-height: 1; border-radius: 0.35em;\">\n",
              "    : Bà\n",
              "    <span style=\"font-size: 0.8em; font-weight: bold; line-height: 1; border-radius: 0.35em; vertical-align: middle; margin-left: 0.5rem\">PERSON_NAME</span>\n",
              "</mark>\n",
              " H \n",
              "<mark class=\"entity\" style=\"background: #ddd; padding: 0.45em 0.6em; margin: 0 0.25em; line-height: 1; border-radius: 0.35em;\">\n",
              "    không yêu cầu\n",
              "    <span style=\"font-size: 0.8em; font-weight: bold; line-height: 1; border-radius: 0.35em; vertical-align: middle; margin-left: 0.5rem\">LOCATION_NAME</span>\n",
              "</mark>\n",
              " Toà án giải quyết. \n",
              "<mark class=\"entity\" style=\"background: #ddd; padding: 0.45em 0.6em; margin: 0 0.25em; line-height: 1; border-radius: 0.35em;\">\n",
              "    Và\n",
              "    <span style=\"font-size: 0.8em; font-weight: bold; line-height: 1; border-radius: 0.35em; vertical-align: middle; margin-left: 0.5rem\">PERSON_NAME</span>\n",
              "</mark>\n",
              " nợ chung\n",
              "<mark class=\"entity\" style=\"background: #ddd; padding: 0.45em 0.6em; margin: 0 0.25em; line-height: 1; border-radius: 0.35em;\">\n",
              "    : Bà H khai\n",
              "    <span style=\"font-size: 0.8em; font-weight: bold; line-height: 1; border-radius: 0.35em; vertical-align: middle; margin-left: 0.5rem\">PERSON_NAME</span>\n",
              "</mark>\n",
              " không có Ngày 10/12/2019, bà H có đơn đề nghị Toà án xét xử vắng mặt. Toà án tống đạt thông báo thụ lý, các văn bản tố tụng \n",
              "<mark class=\"entity\" style=\"background: #ddd; padding: 0.45em 0.6em; margin: 0 0.25em; line-height: 1; border-radius: 0.35em;\">\n",
              "    khác\n",
              "    <span style=\"font-size: 0.8em; font-weight: bold; line-height: 1; border-radius: 0.35em; vertical-align: middle; margin-left: 0.5rem\">LOCATION_NAME</span>\n",
              "</mark>\n",
              " cho ông T nhưng ông T vắng mặt không có lý do. Đại diện Viện Kiểm sát nhân dân Quận D \n",
              "<mark class=\"entity\" style=\"background: #ddd; padding: 0.45em 0.6em; margin: 0 0.25em; line-height: 1; border-radius: 0.35em;\">\n",
              "    phát biểu quan điểm\n",
              "    <span style=\"font-size: 0.8em; font-weight: bold; line-height: 1; border-radius: 0.35em; vertical-align: middle; margin-left: 0.5rem\">LOCATION_NAME</span>\n",
              "</mark>\n",
              " về việc tuân thủ pháp luật về \n",
              "<mark class=\"entity\" style=\"background: #ddd; padding: 0.45em 0.6em; margin: 0 0.25em; line-height: 1; border-radius: 0.35em;\">\n",
              "    tố tụng của Thẩm phán\n",
              "    <span style=\"font-size: 0.8em; font-weight: bold; line-height: 1; border-radius: 0.35em; vertical-align: middle; margin-left: 0.5rem\">PERSON_NAME</span>\n",
              "</mark>\n",
              " \n",
              "<mark class=\"entity\" style=\"background: #ddd; padding: 0.45em 0.6em; margin: 0 0.25em; line-height: 1; border-radius: 0.35em;\">\n",
              "    và\n",
              "    <span style=\"font-size: 0.8em; font-weight: bold; line-height: 1; border-radius: 0.35em; vertical-align: middle; margin-left: 0.5rem\">PERSON_NAME</span>\n",
              "</mark>\n",
              " Hội đồng xét xử từ giai đoạn thụ lý đến khi nghị án là tuân thủ đúng quy định pháp luật, đầy đủ. Về nội dung: Kiểm sát viên đề nghị chấp nhận \n",
              "<mark class=\"entity\" style=\"background: #ddd; padding: 0.45em 0.6em; margin: 0 0.25em; line-height: 1; border-radius: 0.35em;\">\n",
              "    yêu cầu của\n",
              "    <span style=\"font-size: 0.8em; font-weight: bold; line-height: 1; border-radius: 0.35em; vertical-align: middle; margin-left: 0.5rem\">PERSON_NAME</span>\n",
              "</mark>\n",
              " nguyên đơn.  NHẬN ĐỊNH \n",
              "<mark class=\"entity\" style=\"background: #bfe1d9; padding: 0.45em 0.6em; margin: 0 0.25em; line-height: 1; border-radius: 0.35em;\">\n",
              "    CỦA\n",
              "    <span style=\"font-size: 0.8em; font-weight: bold; line-height: 1; border-radius: 0.35em; vertical-align: middle; margin-left: 0.5rem\">DATE</span>\n",
              "</mark>\n",
              " TÒA ÁN\n",
              "<mark class=\"entity\" style=\"background: #ddd; padding: 0.45em 0.6em; margin: 0 0.25em; line-height: 1; border-radius: 0.35em;\">\n",
              "    :  \n",
              "    <span style=\"font-size: 0.8em; font-weight: bold; line-height: 1; border-radius: 0.35em; vertical-align: middle; margin-left: 0.5rem\">PERSON_NAME</span>\n",
              "</mark>\n",
              "[1]. Về tục tố tụng: Căn cứ vào yêu cầu \n",
              "<mark class=\"entity\" style=\"background: #ddd; padding: 0.45em 0.6em; margin: 0 0.25em; line-height: 1; border-radius: 0.35em;\">\n",
              "    khởi kiện của\n",
              "    <span style=\"font-size: 0.8em; font-weight: bold; line-height: 1; border-radius: 0.35em; vertical-align: middle; margin-left: 0.5rem\">PERSON_NAME</span>\n",
              "</mark>\n",
              " nguyên đơn, Hội đồng xét xử có cơ sở xác định quan hệ tranh chấp \n",
              "<mark class=\"entity\" style=\"background: #ddd; padding: 0.45em 0.6em; margin: 0 0.25em; line-height: 1; border-radius: 0.35em;\">\n",
              "    giữa bà\n",
              "    <span style=\"font-size: 0.8em; font-weight: bold; line-height: 1; border-radius: 0.35em; vertical-align: middle; margin-left: 0.5rem\">PERSON_NAME</span>\n",
              "</mark>\n",
              " H và ông T là\n",
              "<mark class=\"entity\" style=\"background: #ddd; padding: 0.45em 0.6em; margin: 0 0.25em; line-height: 1; border-radius: 0.35em;\">\n",
              "    “ Tranh chấp về\n",
              "    <span style=\"font-size: 0.8em; font-weight: bold; line-height: 1; border-radius: 0.35em; vertical-align: middle; margin-left: 0.5rem\">LOCATION_NAME</span>\n",
              "</mark>\n",
              " ly hôn”. Bị đơn ông Nguyễn Đăng T có địa chỉ cư trú \n",
              "<mark class=\"entity\" style=\"background: #ddd; padding: 0.45em 0.6em; margin: 0 0.25em; line-height: 1; border-radius: 0.35em;\">\n",
              "    tại\n",
              "    <span style=\"font-size: 0.8em; font-weight: bold; line-height: 1; border-radius: 0.35em; vertical-align: middle; margin-left: 0.5rem\">ORGANIZATION_NAME</span>\n",
              "</mark>\n",
              " \n",
              "<mark class=\"entity\" style=\"background: #ddd; padding: 0.45em 0.6em; margin: 0 0.25em; line-height: 1; border-radius: 0.35em;\">\n",
              "    Quận\n",
              "    <span style=\"font-size: 0.8em; font-weight: bold; line-height: 1; border-radius: 0.35em; vertical-align: middle; margin-left: 0.5rem\">LOCATION_NAME</span>\n",
              "</mark>\n",
              " D, Thành phố Hồ Chí Minh nên vụ án thuộc thẩm quyền \n",
              "<mark class=\"entity\" style=\"background: #ddd; padding: 0.45em 0.6em; margin: 0 0.25em; line-height: 1; border-radius: 0.35em;\">\n",
              "    giải quyết của\n",
              "    <span style=\"font-size: 0.8em; font-weight: bold; line-height: 1; border-radius: 0.35em; vertical-align: middle; margin-left: 0.5rem\">PERSON_NAME</span>\n",
              "</mark>\n",
              " \n",
              "<mark class=\"entity\" style=\"background: #ddd; padding: 0.45em 0.6em; margin: 0 0.25em; line-height: 1; border-radius: 0.35em;\">\n",
              "    Toà án\n",
              "    <span style=\"font-size: 0.8em; font-weight: bold; line-height: 1; border-radius: 0.35em; vertical-align: middle; margin-left: 0.5rem\">ORGANIZATION_NAME</span>\n",
              "</mark>\n",
              " nhân dân \n",
              "<mark class=\"entity\" style=\"background: #ddd; padding: 0.45em 0.6em; margin: 0 0.25em; line-height: 1; border-radius: 0.35em;\">\n",
              "    Quận 10,\n",
              "    <span style=\"font-size: 0.8em; font-weight: bold; line-height: 1; border-radius: 0.35em; vertical-align: middle; margin-left: 0.5rem\">LOCATION_NAME</span>\n",
              "</mark>\n",
              " Thành phố Hồ Chí Minh. Nguyên đơn có đơn đề nghị Toà án xét xử vắng mặt, Hội đồng xét xử xét xử căn cứ vào điểm a khoản 2 Điều 227, khoản 1 Điều \n",
              "<mark class=\"entity\" style=\"background: #ddd; padding: 0.45em 0.6em; margin: 0 0.25em; line-height: 1; border-radius: 0.35em;\">\n",
              "    228 của\n",
              "    <span style=\"font-size: 0.8em; font-weight: bold; line-height: 1; border-radius: 0.35em; vertical-align: middle; margin-left: 0.5rem\">PERSON_NAME</span>\n",
              "</mark>\n",
              " Bộ luật tố tụng dân sự 2015, tiến hành xét xử vụ án vắng mặt bà H. Toà án triệu tập hợp lệ lần thứ hai, bị đơn vắng mặt nên Hội đồng xét xử căn cứ vào điểm b khoản 2 Điều 227, \n",
              "<mark class=\"entity\" style=\"background: #ddd; padding: 0.45em 0.6em; margin: 0 0.25em; line-height: 1; border-radius: 0.35em;\">\n",
              "    khoản 3\n",
              "    <span style=\"font-size: 0.8em; font-weight: bold; line-height: 1; border-radius: 0.35em; vertical-align: middle; margin-left: 0.5rem\">LOCATION_NAME</span>\n",
              "</mark>\n",
              " Điều \n",
              "<mark class=\"entity\" style=\"background: #ddd; padding: 0.45em 0.6em; margin: 0 0.25em; line-height: 1; border-radius: 0.35em;\">\n",
              "    228 của\n",
              "    <span style=\"font-size: 0.8em; font-weight: bold; line-height: 1; border-radius: 0.35em; vertical-align: middle; margin-left: 0.5rem\">PERSON_NAME</span>\n",
              "</mark>\n",
              " Bộ luật \n",
              "<mark class=\"entity\" style=\"background: #ddd; padding: 0.45em 0.6em; margin: 0 0.25em; line-height: 1; border-radius: 0.35em;\">\n",
              "    tố tụng\n",
              "    <span style=\"font-size: 0.8em; font-weight: bold; line-height: 1; border-radius: 0.35em; vertical-align: middle; margin-left: 0.5rem\">LOCATION_NAME</span>\n",
              "</mark>\n",
              " dân sự, tiến hành xét xử vụ án vắng mặt ông T.  [2]. Về \n",
              "<mark class=\"entity\" style=\"background: #ddd; padding: 0.45em 0.6em; margin: 0 0.25em; line-height: 1; border-radius: 0.35em;\">\n",
              "    yêu cầu của\n",
              "    <span style=\"font-size: 0.8em; font-weight: bold; line-height: 1; border-radius: 0.35em; vertical-align: middle; margin-left: 0.5rem\">PERSON_NAME</span>\n",
              "</mark>\n",
              " nguyên đơn\n",
              "<mark class=\"entity\" style=\"background: #ddd; padding: 0.45em 0.6em; margin: 0 0.25em; line-height: 1; border-radius: 0.35em;\">\n",
              "    : Xét\n",
              "    <span style=\"font-size: 0.8em; font-weight: bold; line-height: 1; border-radius: 0.35em; vertical-align: middle; margin-left: 0.5rem\">PERSON_NAME</span>\n",
              "</mark>\n",
              " yêu cầu xin ly hôn\n",
              "<mark class=\"entity\" style=\"background: #ddd; padding: 0.45em 0.6em; margin: 0 0.25em; line-height: 1; border-radius: 0.35em;\">\n",
              "    : Luật\n",
              "    <span style=\"font-size: 0.8em; font-weight: bold; line-height: 1; border-radius: 0.35em; vertical-align: middle; margin-left: 0.5rem\">PERSON_NAME</span>\n",
              "</mark>\n",
              " \n",
              "<mark class=\"entity\" style=\"background: #ddd; padding: 0.45em 0.6em; margin: 0 0.25em; line-height: 1; border-radius: 0.35em;\">\n",
              "    Hôn nhân\n",
              "    <span style=\"font-size: 0.8em; font-weight: bold; line-height: 1; border-radius: 0.35em; vertical-align: middle; margin-left: 0.5rem\">PERSON_NAME</span>\n",
              "</mark>\n",
              " và gia đình quy định: Vợ chồng có nghĩa vụ thương yêu, quan tâm, chăm sóc, giúp đỡ nhau, cùng nhau chia sẻ, thực hiện \n",
              "<mark class=\"entity\" style=\"background: #ddd; padding: 0.45em 0.6em; margin: 0 0.25em; line-height: 1; border-radius: 0.35em;\">\n",
              "    các công việc\n",
              "    <span style=\"font-size: 0.8em; font-weight: bold; line-height: 1; border-radius: 0.35em; vertical-align: middle; margin-left: 0.5rem\">LOCATION_NAME</span>\n",
              "</mark>\n",
              " của gia đình. Tuy nhiên, giữa bà H và ông T lại sống ly thân cho thấy mục đích \n",
              "<mark class=\"entity\" style=\"background: #ddd; padding: 0.45em 0.6em; margin: 0 0.25em; line-height: 1; border-radius: 0.35em;\">\n",
              "    hôn nhân của bà\n",
              "    <span style=\"font-size: 0.8em; font-weight: bold; line-height: 1; border-radius: 0.35em; vertical-align: middle; margin-left: 0.5rem\">PERSON_NAME</span>\n",
              "</mark>\n",
              " H và ông T không đạt được. \n",
              "<mark class=\"entity\" style=\"background: #ddd; padding: 0.45em 0.6em; margin: 0 0.25em; line-height: 1; border-radius: 0.35em;\">\n",
              "    Hơn nữa,\n",
              "    <span style=\"font-size: 0.8em; font-weight: bold; line-height: 1; border-radius: 0.35em; vertical-align: middle; margin-left: 0.5rem\">PERSON_NAME</span>\n",
              "</mark>\n",
              " ông T đã được Toà án tống đạt thông báo về phiên \n",
              "<mark class=\"entity\" style=\"background: #ddd; padding: 0.45em 0.6em; margin: 0 0.25em; line-height: 1; border-radius: 0.35em;\">\n",
              "    họp kiểm tra\n",
              "    <span style=\"font-size: 0.8em; font-weight: bold; line-height: 1; border-radius: 0.35em; vertical-align: middle; margin-left: 0.5rem\">ORGANIZATION_NAME</span>\n",
              "</mark>\n",
              " việc giao nộp, công khai \n",
              "<mark class=\"entity\" style=\"background: #ddd; padding: 0.45em 0.6em; margin: 0 0.25em; line-height: 1; border-radius: 0.35em;\">\n",
              "    chứng cứ\n",
              "    <span style=\"font-size: 0.8em; font-weight: bold; line-height: 1; border-radius: 0.35em; vertical-align: middle; margin-left: 0.5rem\">PERSON_NAME</span>\n",
              "</mark>\n",
              " và hoà giải cũng như các văn bản tố tụng \n",
              "<mark class=\"entity\" style=\"background: #ddd; padding: 0.45em 0.6em; margin: 0 0.25em; line-height: 1; border-radius: 0.35em;\">\n",
              "    khác nhưng\n",
              "    <span style=\"font-size: 0.8em; font-weight: bold; line-height: 1; border-radius: 0.35em; vertical-align: middle; margin-left: 0.5rem\">LOCATION_NAME</span>\n",
              "</mark>\n",
              " vẫn không có mặt và cũng không có bất kỳ ý kiến nào gửi \n",
              "<mark class=\"entity\" style=\"background: #ddd; padding: 0.45em 0.6em; margin: 0 0.25em; line-height: 1; border-radius: 0.35em;\">\n",
              "    cho Toà án\n",
              "    <span style=\"font-size: 0.8em; font-weight: bold; line-height: 1; border-radius: 0.35em; vertical-align: middle; margin-left: 0.5rem\">PERSON_NAME</span>\n",
              "</mark>\n",
              " về việc bà H xin ly hôn. Như vậy, ông T cũng không còn quan tâm, thiết tha đến cuộc sống hôn nhân này nữa nên tình cảm vợ chồng \n",
              "<mark class=\"entity\" style=\"background: #ddd; padding: 0.45em 0.6em; margin: 0 0.25em; line-height: 1; border-radius: 0.35em;\">\n",
              "    giữa bà\n",
              "    <span style=\"font-size: 0.8em; font-weight: bold; line-height: 1; border-radius: 0.35em; vertical-align: middle; margin-left: 0.5rem\">PERSON_NAME</span>\n",
              "</mark>\n",
              " H và ông T không còn khả năng đoàn tụ nên yêu cầu xin \n",
              "<mark class=\"entity\" style=\"background: #ddd; padding: 0.45em 0.6em; margin: 0 0.25em; line-height: 1; border-radius: 0.35em;\">\n",
              "    ly hôn của\n",
              "    <span style=\"font-size: 0.8em; font-weight: bold; line-height: 1; border-radius: 0.35em; vertical-align: middle; margin-left: 0.5rem\">PERSON_NAME</span>\n",
              "</mark>\n",
              " bà H là có cơ sở để Hội đồng xét xử chấp nhận. Về \n",
              "<mark class=\"entity\" style=\"background: #ddd; padding: 0.45em 0.6em; margin: 0 0.25em; line-height: 1; border-radius: 0.35em;\">\n",
              "    con chung\n",
              "    <span style=\"font-size: 0.8em; font-weight: bold; line-height: 1; border-radius: 0.35em; vertical-align: middle; margin-left: 0.5rem\">PERSON_NAME</span>\n",
              "</mark>\n",
              "\n",
              "<mark class=\"entity\" style=\"background: #ddd; padding: 0.45em 0.6em; margin: 0 0.25em; line-height: 1; border-radius: 0.35em;\">\n",
              "    : Bà H khai\n",
              "    <span style=\"font-size: 0.8em; font-weight: bold; line-height: 1; border-radius: 0.35em; vertical-align: middle; margin-left: 0.5rem\">PERSON_NAME</span>\n",
              "</mark>\n",
              " không có Về tài sản chung\n",
              "<mark class=\"entity\" style=\"background: #ddd; padding: 0.45em 0.6em; margin: 0 0.25em; line-height: 1; border-radius: 0.35em;\">\n",
              "    : Bà\n",
              "    <span style=\"font-size: 0.8em; font-weight: bold; line-height: 1; border-radius: 0.35em; vertical-align: middle; margin-left: 0.5rem\">PERSON_NAME</span>\n",
              "</mark>\n",
              " H \n",
              "<mark class=\"entity\" style=\"background: #ddd; padding: 0.45em 0.6em; margin: 0 0.25em; line-height: 1; border-radius: 0.35em;\">\n",
              "    không yêu cầu\n",
              "    <span style=\"font-size: 0.8em; font-weight: bold; line-height: 1; border-radius: 0.35em; vertical-align: middle; margin-left: 0.5rem\">LOCATION_NAME</span>\n",
              "</mark>\n",
              " Toà án giải quyết. Về nợ chung\n",
              "<mark class=\"entity\" style=\"background: #ddd; padding: 0.45em 0.6em; margin: 0 0.25em; line-height: 1; border-radius: 0.35em;\">\n",
              "    : Bà H khai\n",
              "    <span style=\"font-size: 0.8em; font-weight: bold; line-height: 1; border-radius: 0.35em; vertical-align: middle; margin-left: 0.5rem\">PERSON_NAME</span>\n",
              "</mark>\n",
              " không có. Án phí dân sự sơ thẩm\n",
              "<mark class=\"entity\" style=\"background: #ddd; padding: 0.45em 0.6em; margin: 0 0.25em; line-height: 1; border-radius: 0.35em;\">\n",
              "    : Bà\n",
              "    <span style=\"font-size: 0.8em; font-weight: bold; line-height: 1; border-radius: 0.35em; vertical-align: middle; margin-left: 0.5rem\">PERSON_NAME</span>\n",
              "</mark>\n",
              " H \n",
              "<mark class=\"entity\" style=\"background: #ddd; padding: 0.45em 0.6em; margin: 0 0.25em; line-height: 1; border-radius: 0.35em;\">\n",
              "    phải chịu\n",
              "    <span style=\"font-size: 0.8em; font-weight: bold; line-height: 1; border-radius: 0.35em; vertical-align: middle; margin-left: 0.5rem\">LOCATION_NAME</span>\n",
              "</mark>\n",
              " án phí về Hôn nhân gia đình \n",
              "<mark class=\"entity\" style=\"background: #ddd; padding: 0.45em 0.6em; margin: 0 0.25em; line-height: 1; border-radius: 0.35em;\">\n",
              "    theo quy định\n",
              "    <span style=\"font-size: 0.8em; font-weight: bold; line-height: 1; border-radius: 0.35em; vertical-align: middle; margin-left: 0.5rem\">LOCATION_NAME</span>\n",
              "</mark>\n",
              " tại khoản 5 Điều \n",
              "<mark class=\"entity\" style=\"background: #ddd; padding: 0.45em 0.6em; margin: 0 0.25em; line-height: 1; border-radius: 0.35em;\">\n",
              "    27 của\n",
              "    <span style=\"font-size: 0.8em; font-weight: bold; line-height: 1; border-radius: 0.35em; vertical-align: middle; margin-left: 0.5rem\">PERSON_NAME</span>\n",
              "</mark>\n",
              " Nghị quyết \n",
              "<mark class=\"entity\" style=\"background: #ddd; padding: 0.45em 0.6em; margin: 0 0.25em; line-height: 1; border-radius: 0.35em;\">\n",
              "    số\n",
              "    <span style=\"font-size: 0.8em; font-weight: bold; line-height: 1; border-radius: 0.35em; vertical-align: middle; margin-left: 0.5rem\">PERSON_NAME</span>\n",
              "</mark>\n",
              " 326/2016/UBTVQH14 ngày 30/12/2016. Vì các lẽ trên; QUYẾT ĐỊNH\n",
              "<mark class=\"entity\" style=\"background: #ddd; padding: 0.45em 0.6em; margin: 0 0.25em; line-height: 1; border-radius: 0.35em;\">\n",
              "    : Căn cứ\n",
              "    <span style=\"font-size: 0.8em; font-weight: bold; line-height: 1; border-radius: 0.35em; vertical-align: middle; margin-left: 0.5rem\">PERSON_NAME</span>\n",
              "</mark>\n",
              " vào vào \n",
              "<mark class=\"entity\" style=\"background: #ddd; padding: 0.45em 0.6em; margin: 0 0.25em; line-height: 1; border-radius: 0.35em;\">\n",
              "    khoản 1\n",
              "    <span style=\"font-size: 0.8em; font-weight: bold; line-height: 1; border-radius: 0.35em; vertical-align: middle; margin-left: 0.5rem\">LOCATION_NAME</span>\n",
              "</mark>\n",
              " \n",
              "<mark class=\"entity\" style=\"background: #ddd; padding: 0.45em 0.6em; margin: 0 0.25em; line-height: 1; border-radius: 0.35em;\">\n",
              "    Điều\n",
              "    <span style=\"font-size: 0.8em; font-weight: bold; line-height: 1; border-radius: 0.35em; vertical-align: middle; margin-left: 0.5rem\">LOCATION_NAME</span>\n",
              "</mark>\n",
              " 28, điểm \n",
              "<mark class=\"entity\" style=\"background: #ddd; padding: 0.45em 0.6em; margin: 0 0.25em; line-height: 1; border-radius: 0.35em;\">\n",
              "    a khoản 1\n",
              "    <span style=\"font-size: 0.8em; font-weight: bold; line-height: 1; border-radius: 0.35em; vertical-align: middle; margin-left: 0.5rem\">LOCATION_NAME</span>\n",
              "</mark>\n",
              " \n",
              "<mark class=\"entity\" style=\"background: #ddd; padding: 0.45em 0.6em; margin: 0 0.25em; line-height: 1; border-radius: 0.35em;\">\n",
              "    Điều\n",
              "    <span style=\"font-size: 0.8em; font-weight: bold; line-height: 1; border-radius: 0.35em; vertical-align: middle; margin-left: 0.5rem\">LOCATION_NAME</span>\n",
              "</mark>\n",
              " 35, điểm \n",
              "<mark class=\"entity\" style=\"background: #ddd; padding: 0.45em 0.6em; margin: 0 0.25em; line-height: 1; border-radius: 0.35em;\">\n",
              "    a khoản 1\n",
              "    <span style=\"font-size: 0.8em; font-weight: bold; line-height: 1; border-radius: 0.35em; vertical-align: middle; margin-left: 0.5rem\">LOCATION_NAME</span>\n",
              "</mark>\n",
              " \n",
              "<mark class=\"entity\" style=\"background: #ddd; padding: 0.45em 0.6em; margin: 0 0.25em; line-height: 1; border-radius: 0.35em;\">\n",
              "    Điều\n",
              "    <span style=\"font-size: 0.8em; font-weight: bold; line-height: 1; border-radius: 0.35em; vertical-align: middle; margin-left: 0.5rem\">LOCATION_NAME</span>\n",
              "</mark>\n",
              " 39, khoản 4 Điều 147, khoản 1, điểm \n",
              "<mark class=\"entity\" style=\"background: #ddd; padding: 0.45em 0.6em; margin: 0 0.25em; line-height: 1; border-radius: 0.35em;\">\n",
              "    a,\n",
              "    <span style=\"font-size: 0.8em; font-weight: bold; line-height: 1; border-radius: 0.35em; vertical-align: middle; margin-left: 0.5rem\">PERSON_NAME</span>\n",
              "</mark>\n",
              " b \n",
              "<mark class=\"entity\" style=\"background: #ddd; padding: 0.45em 0.6em; margin: 0 0.25em; line-height: 1; border-radius: 0.35em;\">\n",
              "    khoản 2\n",
              "    <span style=\"font-size: 0.8em; font-weight: bold; line-height: 1; border-radius: 0.35em; vertical-align: middle; margin-left: 0.5rem\">LOCATION_NAME</span>\n",
              "</mark>\n",
              " Điều 227, khoản 1 khoản 3 Điều \n",
              "<mark class=\"entity\" style=\"background: #ddd; padding: 0.45em 0.6em; margin: 0 0.25em; line-height: 1; border-radius: 0.35em;\">\n",
              "    228\n",
              "    <span style=\"font-size: 0.8em; font-weight: bold; line-height: 1; border-radius: 0.35em; vertical-align: middle; margin-left: 0.5rem\">PERSON_NAME</span>\n",
              "</mark>\n",
              " và \n",
              "<mark class=\"entity\" style=\"background: #ddd; padding: 0.45em 0.6em; margin: 0 0.25em; line-height: 1; border-radius: 0.35em;\">\n",
              "    khoản 1\n",
              "    <span style=\"font-size: 0.8em; font-weight: bold; line-height: 1; border-radius: 0.35em; vertical-align: middle; margin-left: 0.5rem\">LOCATION_NAME</span>\n",
              "</mark>\n",
              " Điều \n",
              "<mark class=\"entity\" style=\"background: #ddd; padding: 0.45em 0.6em; margin: 0 0.25em; line-height: 1; border-radius: 0.35em;\">\n",
              "    273 của\n",
              "    <span style=\"font-size: 0.8em; font-weight: bold; line-height: 1; border-radius: 0.35em; vertical-align: middle; margin-left: 0.5rem\">PERSON_NAME</span>\n",
              "</mark>\n",
              " Bộ luật tố tụng dân sự năm 2015; Căn cứ vào Điều \n",
              "<mark class=\"entity\" style=\"background: #ddd; padding: 0.45em 0.6em; margin: 0 0.25em; line-height: 1; border-radius: 0.35em;\">\n",
              "    56 của\n",
              "    <span style=\"font-size: 0.8em; font-weight: bold; line-height: 1; border-radius: 0.35em; vertical-align: middle; margin-left: 0.5rem\">PERSON_NAME</span>\n",
              "</mark>\n",
              " Luật \n",
              "<mark class=\"entity\" style=\"background: #ddd; padding: 0.45em 0.6em; margin: 0 0.25em; line-height: 1; border-radius: 0.35em;\">\n",
              "    hôn nhân và gia đình\n",
              "    <span style=\"font-size: 0.8em; font-weight: bold; line-height: 1; border-radius: 0.35em; vertical-align: middle; margin-left: 0.5rem\">PERSON_NAME</span>\n",
              "</mark>\n",
              "; Căn cứ vào khoản 5 Điều \n",
              "<mark class=\"entity\" style=\"background: #ddd; padding: 0.45em 0.6em; margin: 0 0.25em; line-height: 1; border-radius: 0.35em;\">\n",
              "    27 của\n",
              "    <span style=\"font-size: 0.8em; font-weight: bold; line-height: 1; border-radius: 0.35em; vertical-align: middle; margin-left: 0.5rem\">PERSON_NAME</span>\n",
              "</mark>\n",
              " Nghị quyết \n",
              "<mark class=\"entity\" style=\"background: #ddd; padding: 0.45em 0.6em; margin: 0 0.25em; line-height: 1; border-radius: 0.35em;\">\n",
              "    số\n",
              "    <span style=\"font-size: 0.8em; font-weight: bold; line-height: 1; border-radius: 0.35em; vertical-align: middle; margin-left: 0.5rem\">PERSON_NAME</span>\n",
              "</mark>\n",
              " 326/2016/UBTVQH14 ngày 30/12/2016. Chấp nhận \n",
              "<mark class=\"entity\" style=\"background: #ddd; padding: 0.45em 0.6em; margin: 0 0.25em; line-height: 1; border-radius: 0.35em;\">\n",
              "    yêu cầu của\n",
              "    <span style=\"font-size: 0.8em; font-weight: bold; line-height: 1; border-radius: 0.35em; vertical-align: middle; margin-left: 0.5rem\">PERSON_NAME</span>\n",
              "</mark>\n",
              " \n",
              "<mark class=\"entity\" style=\"background: #ddd; padding: 0.45em 0.6em; margin: 0 0.25em; line-height: 1; border-radius: 0.35em;\">\n",
              "    bà\n",
              "    <span style=\"font-size: 0.8em; font-weight: bold; line-height: 1; border-radius: 0.35em; vertical-align: middle; margin-left: 0.5rem\">LOCATION_NAME</span>\n",
              "</mark>\n",
              " Lê Ngân H             </div></span>"
            ],
            "text/plain": [
              "<IPython.core.display.HTML object>"
            ]
          },
          "metadata": {},
          "output_type": "display_data"
        }
      ],
      "source": [
        "spacy.displacy.render(docs_, style = \"ent\", jupyter=True)"
      ]
    },
    {
      "cell_type": "markdown",
      "metadata": {
        "id": "7BJqaSTZh4TX"
      },
      "source": [
        "### show person name"
      ]
    },
    {
      "cell_type": "code",
      "execution_count": null,
      "metadata": {
        "id": "4aRGx0prGmA-"
      },
      "outputs": [],
      "source": [
        "list_name = []\n",
        "for e in docs_.ents:\n",
        "  if e.label_ == \"PERSON_NAME\":\n",
        "    # list_name.append(e.text)\n",
        "    print(e)"
      ]
    },
    {
      "cell_type": "markdown",
      "metadata": {},
      "source": [
        "### Further fine tuning (TODO)"
      ]
    },
    {
      "cell_type": "markdown",
      "metadata": {},
      "source": [
        "Refer to:\n",
        "- https://spacy.io/usage/training\n",
        "- https://spacy.io/usage/spacy-101\n",
        "- https://spacy.io/api/cli#init-fill-config"
      ]
    }
  ],
  "metadata": {
    "colab": {
      "gpuType": "T4",
      "provenance": []
    },
    "kernelspec": {
      "display_name": "Python 3",
      "name": "python3"
    },
    "language_info": {
      "name": "python"
    }
  },
  "nbformat": 4,
  "nbformat_minor": 0
}
