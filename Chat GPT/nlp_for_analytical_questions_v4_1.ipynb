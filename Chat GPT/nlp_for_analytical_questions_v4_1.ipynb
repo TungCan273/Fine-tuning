{
  "cells": [
    {
      "cell_type": "markdown",
      "metadata": {
        "id": "kf9S3Q5l5yvG"
      },
      "source": [
        "# Data privacy\n",
        "\n",
        "According to [Open AI's official statement](https://help.openai.com/en/articles/5722486-how-your-data-is-used-to-improve-model-performance):\n",
        "\n",
        ">OpenAI does not use data submitted by customers via our API to train OpenAI models or improve OpenAI’s service offering. In order to support the continuous improvement of our models, you can fill out this form to opt-in to share your data with us.\n",
        "\n",
        "According to [Open AI's API data usage policies](https://openai.com/policies/api-data-usage-policies):\n",
        "\n",
        ">1. OpenAI will not use data submitted by customers via our API to train or improve our models, unless you explicitly decide to share your data with us for this purpose. You can opt-in to share data.\n",
        ">2. Any data sent through the API will be retained for abuse and misuse monitoring purposes for a maximum of 30 days, after which it will be deleted (unless otherwise required by law)."
      ]
    },
    {
      "cell_type": "markdown",
      "metadata": {
        "id": "ScQAFNfx5yvO"
      },
      "source": [
        "# Library import and client setup"
      ]
    },
    {
      "cell_type": "code",
      "execution_count": null,
      "metadata": {
        "id": "1ElqoZ3Y5yvQ"
      },
      "outputs": [],
      "source": [
        "import openai\n",
        "import traceback\n",
        "import pandas as pd\n",
        "import tiktoken\n",
        "import re\n",
        "\n",
        "from datetime import datetime\n",
        "from google.cloud import bigquery\n",
        "from google.cloud.exceptions import BadRequest\n",
        "from typing import Dict, List, Union"
      ]
    },
    {
      "cell_type": "code",
      "execution_count": null,
      "metadata": {
        "id": "8DtAifx35yvT"
      },
      "outputs": [],
      "source": [
        "client = bigquery.Client()"
      ]
    },
    {
      "cell_type": "markdown",
      "metadata": {
        "id": "v1uP_-_N5yvV"
      },
      "source": [
        "__NOTE:__ The variable `MAX_ALLOWED_TOKENS` should be set in such a way that there's a safe buffer (at least 100) between its value and the actual maximum token allowed by the API"
      ]
    },
    {
      "cell_type": "code",
      "execution_count": null,
      "metadata": {
        "id": "la5PdPmv5yvW"
      },
      "outputs": [],
      "source": [
        "# Set up OpenAI API credentials\n",
        "openai.api_key = \"YOUR_API_KEY\"\n",
        "\n",
        "# Define the GPT-4 model prompt\n",
        "DEFAULT_GPT_MODEL = \"gpt-3.5-turbo-0301\"\n",
        "\n",
        "# Max token\n",
        "MAX_ALLOWED_TOKENS = 2000\n",
        "\n",
        "# model_name = \"gpt-4\"\n",
        "# GPT-4 is not available to even subscribed accounts. Need to join the waitlist for this: https://openai.com/waitlist/gpt-4-api"
      ]
    },
    {
      "cell_type": "markdown",
      "metadata": {
        "id": "O4pha8A25yvX"
      },
      "source": [
        "# Table info feed-in"
      ]
    },
    {
      "cell_type": "code",
      "execution_count": null,
      "metadata": {
        "id": "WyMiAMYU5yvZ"
      },
      "outputs": [],
      "source": [
        "def export_table_schema(table_name: str) -> str:\n",
        "    \"\"\"Get table schema from given table name\n",
        "\n",
        "    Args:\n",
        "        table_name (str): Name of table to extract schema.\n",
        "        Note that the dataset should already have been initialized with the BigQuery client.\n",
        "        This is to avoid feeding into the table project name, which could contain sensitive info\n",
        "\n",
        "    Returns:\n",
        "        str: Schema of the table in format `column_1 type, column_2 type, ...`\n",
        "    \"\"\"\n",
        "    table = client.get_table(table_name)\n",
        "    schema = table.schema\n",
        "    # Extract table schemas, except columns whose name includes \"aeris\"\n",
        "    schema_fields = [f\"{field.name} {field.field_type}\" for field in schema if \"aeris\" not in field.name.lower()]\n",
        "    schema_text = \", \".join(schema_fields)\n",
        "    return schema_text"
      ]
    },
    {
      "cell_type": "code",
      "execution_count": null,
      "metadata": {
        "id": "wIZRBtgS5yva"
      },
      "outputs": [],
      "source": [
        "# Initialize table(s) to feed into the model\n",
        "\n",
        "def init_tables(tables: Union[str, List[str]]) -> List[Dict]:\n",
        "    \"\"\"Get table names and schema to feed to the GPT model\n",
        "\n",
        "    Args:\n",
        "        tables (Union[str, List[str]]): Table name in BigQuery. Must be in format `dataset.table_name`\n",
        "\n",
        "    Returns:\n",
        "        List[Dict]: List of dictionaries, each of the item contain the table name and its schema\n",
        "    \"\"\"\n",
        "    if not isinstance(tables, list):\n",
        "        tables = [tables]\n",
        "\n",
        "    tables_with_schema = [\n",
        "        {\n",
        "            \"name\": table,\n",
        "            \"schema\": export_table_schema(table)\n",
        "        } for table in tables\n",
        "    ]\n",
        "\n",
        "    return tables_with_schema\n"
      ]
    },
    {
      "cell_type": "markdown",
      "metadata": {
        "id": "iHUeC-nH5yvb"
      },
      "source": [
        "# GPT interation class"
      ]
    },
    {
      "cell_type": "code",
      "execution_count": null,
      "metadata": {
        "id": "u0tHVMyv5yvc"
      },
      "outputs": [],
      "source": [
        "class GPTQueryGenerator:\n",
        "    def __init__(self, tables: List, model: str = \"gpt-3.5-turbo-0301\", max_tokens: int = 2000) -> None:\n",
        "        self._model = model\n",
        "        self._max_tokens = max_tokens\n",
        "        self._messages = [\n",
        "            {\"role\": \"system\", \"content\": f\"TABLE `{table['name']}` - SCHEMA `{table['schema']}`\"} for table in tables\n",
        "        ]\n",
        "        # Initialize the list of messages with some instructions for better query\n",
        "        self._messages += [\n",
        "            {\n",
        "                \"role\": \"system\",\n",
        "                \"content\": \"Use the reference tables - schemas to compose SQL query in BigQuery dialect\",\n",
        "            },\n",
        "            {\"role\": \"system\", \"content\": \"Answer user's questions with SQL queries only\"},\n",
        "            # {\"role\": \"system\", \"content\": \"Only join tables in reference if needed. Do not join unnecessarily.\"},\n",
        "            {\"role\": \"system\", \"content\": \"Only use the columns existing in the corresponding schema for each table\"},\n",
        "            {\n",
        "                \"role\": \"system\",\n",
        "                \"content\": \"Columns of types DATE and TIMESTAMP are incompatible. Convert before do operations related to both\",\n",
        "            },\n",
        "            # {\"role\": \"assistant\", \"content\": \"If the user ask for something by X, then it's a good idea to have a GROUP BY X clause in the SQL\"},\n",
        "            # {\"role\": \"assistant\", \"content\": \"New column names in AS clause should not have any white spaces and do not put them inside quotes\"},\n",
        "            # {\"role\": \"assistant\", \"content\": \"Remember to make sure all the columns are grouped nor aggregated when you are using aggragation in SQL\"},\n",
        "            # {\"role\": \"assistant\", \"content\": \"If the user do not mention any time period, the query should take into account all the dates available in the table\"},\n",
        "            # {\"role\": \"assistant\", \"content\": \"When the user do not mention any specific requirements for the numeric values, default to average\"},\n",
        "            # {\"role\": \"system\", \"content\": \"Only provide the SQL query. Do not provide anything else outside the query.\"},\n",
        "        ]\n",
        "\n",
        "    def generate_sql_query(self, question: str, temperature: float = 0.2) -> str:\n",
        "        \"\"\"Get the SQL query the model generated to answer user's question. The context will be specific to the tables initialed with the object\n",
        "\n",
        "        Args:\n",
        "            question (str): Question for the query to answer\n",
        "            temperature (float, optional): temperature parameter for the GPT model, range from `0-2`. Higher means more likely to generate more 'random' answer, lower means the answers will be more 'focused' to the topic given as input. Defaults to 0.2.\n",
        "\n",
        "        Returns:\n",
        "            str: Executable query, specific to the user's question and the schemas provided\n",
        "        \"\"\"\n",
        "        print(f\"Question:\\n{question}\")\n",
        "        # Guarantee that the number tokens from our messages will not exceed the maximum allowed\n",
        "        self._prune_messages()\n",
        "        # Extract content without timestamp field because extra fields are not allowed for the API\n",
        "        msg = [{key: value for key, value in d.items() if key != \"timestamp\"} for d in self._messages] + [\n",
        "            {\"role\": \"user\", \"content\": question}\n",
        "        ]\n",
        "\n",
        "        response = openai.ChatCompletion.create(\n",
        "            model=self._model,\n",
        "            messages=msg,\n",
        "            max_tokens=MAX_ALLOWED_TOKENS,\n",
        "            temperature=temperature,\n",
        "            n=1,\n",
        "            stop=None,\n",
        "        )\n",
        "        answer = response.choices[0].message[\"content\"]\n",
        "        print(f\"Answer:\\n{answer}\")\n",
        "        sql_query = self._parse_query(answer)\n",
        "        # Adding User's previous question as context for conversation.\n",
        "        self._messages += [\n",
        "            {\n",
        "                \"role\": \"system\",\n",
        "                \"name\": \"user_previous_question\",\n",
        "                \"content\": question,\n",
        "                \"timestamp\": datetime.utcnow().timestamp(),\n",
        "            }\n",
        "        ]\n",
        "        return sql_query\n",
        "\n",
        "    def execute_sql_query(self, sql_query: str) -> pd.DataFrame:\n",
        "        \"\"\"Run a SQL queries on predefined project.\n",
        "        Note that the `client` variable for BigQuery client must be initialized before runnign this method\n",
        "\n",
        "        Args:\n",
        "            sql_query (str): Query to run\n",
        "\n",
        "        Returns:\n",
        "            pd.DataFrame: Pandas dataframe containing the results of the query\n",
        "        \"\"\"\n",
        "        result = client.query(sql_query).to_dataframe()\n",
        "        return result\n",
        "\n",
        "    def get_query_response(self, question: str = None) -> str:\n",
        "        \"\"\"Get the SQL response (with explanations and other filler words the GPT model will likely to give)\n",
        "\n",
        "        Args:\n",
        "            question (str, optional): What we want to ask the model. If not provided beforehand then it will be prompted as an input box\n",
        "\n",
        "        Returns:\n",
        "            str: Model's query response to the question\n",
        "        \"\"\"\n",
        "        user_input = input(\"Input question:\") if not question else question\n",
        "\n",
        "        sql_query = self.generate_sql_query(user_input)\n",
        "        print(\"Generated SQL Query:\\n\", sql_query)\n",
        "        return sql_query\n",
        "\n",
        "    def ask_question_and_validate(\n",
        "        self, question: str = None, temperature: float = 0.2, debug: bool = False\n",
        "    ) -> pd.DataFrame:\n",
        "        \"\"\"Ask GPT some questions on predefined tables. The query generated will be automatically executed\n",
        "\n",
        "        Args:\n",
        "            question (str, optional): What we want to ask the model. If not provided beforehand then it will be prompted as an input box.\n",
        "            temperature (float, optional): temperature parameter for the GPT model, range from `0-2`. Higher means more likely to generate more 'random' answer, lower means the answers will be more 'focused' to the topic given as input. Defaults to 0.2.\n",
        "            debug (bool, optional): Debug mode. Enable to get the full stacktrace when query execution encounter errors. Defaults to False.\n",
        "\n",
        "        Returns:\n",
        "            pd.DataFrame: Pandas dataframe object as the result of running the query\n",
        "        \"\"\"\n",
        "        user_input = input(\"Input question:\") if not question else question\n",
        "\n",
        "        sql_query = self.generate_sql_query(user_input, temperature)\n",
        "\n",
        "        # Execute the generated SQL query\n",
        "        try:\n",
        "            result = self.execute_sql_query(sql_query)\n",
        "        except BadRequest as err:\n",
        "            # Notify the user about the bad query generated\n",
        "            print(f\"Running the generated query caused the error: {err.errors}\")\n",
        "            if debug:\n",
        "                print(traceback.format_exc())\n",
        "            print(f\"Please try to ask the question again, rephrase or provide additional guides if necessary\")\n",
        "            result = None\n",
        "        # print(\"Result:\", result)\n",
        "        return result\n",
        "\n",
        "    def _parse_query(self, msg: str) -> str:\n",
        "        \"\"\"Extract the SQL from an  answer from GPT\n",
        "\n",
        "        Args:\n",
        "            msg (str): Raw string answer from GPT\n",
        "\n",
        "        Returns:\n",
        "            str: The extracted SQL from the answer. If there's no SQL then return `None`\n",
        "        \"\"\"\n",
        "        pattern = r\"```[a-zA-Z]*\\n([\\s\\S]+?)\\n```\"\n",
        "        matching = re.search(pattern, msg)\n",
        "        if matching:\n",
        "            matching = matching[0]\n",
        "            # The SQL in the answer will always be in wrapped in side two ```, with a line break\n",
        "            idx1 = matching.find(\"\\n\")\n",
        "            idx2 = matching.rfind(\"\\n\")\n",
        "            return matching[idx1 + 1 : idx2]\n",
        "        else:\n",
        "            return None\n",
        "\n",
        "    def _num_tokens_from_message(self) -> int:\n",
        "        \"\"\"Returns the number of tokens used by a list of messages.\"\"\"\n",
        "        # Only get the valid messages\n",
        "        actual_content = [{key: value for key, value in d.items() if key != \"timestamp\"} for d in self._messages]\n",
        "        try:\n",
        "            encoding = tiktoken.encoding_for_model(self._model)\n",
        "        except KeyError:\n",
        "            encoding = tiktoken.get_encoding(\"cl100k_base\")\n",
        "\n",
        "        if self._model == \"gpt-3.5-turbo-0301\":  # note: future models may deviate from this\n",
        "            num_tokens = 0\n",
        "            for message in actual_content:\n",
        "                num_tokens += 4  # every message follows <im_start>{role/name}\\n{content}<im_end>\\n\n",
        "                for key, value in message.items():\n",
        "                    num_tokens += len(encoding.encode(value))\n",
        "                    if key == \"name\":  # if there's a name, the role is omitted\n",
        "                        num_tokens += -1  # role is always required and always 1 token\n",
        "            num_tokens += 2  # every reply is primed with <im_start>assistant\n",
        "            return num_tokens\n",
        "        else:\n",
        "            raise NotImplementedError(\n",
        "                f\"\"\"num_tokens_from_messages() is not presently implemented for model {self._model}.\n",
        "        See https://github.com/openai/openai-python/blob/main/chatml.md for information on how messages are converted to tokens.\"\"\"\n",
        "            )\n",
        "\n",
        "    def _prune_messages(self) -> None:\n",
        "        \"\"\"Adjust the promts sent to model so that the total number of tokens\n",
        "        do not exceed the max number of tokens allowed by the model\n",
        "        \"\"\"\n",
        "        # Recursively remove the ealiest messages until the number of tokens is within limit.\n",
        "        while self._num_tokens_from_message() > MAX_ALLOWED_TOKENS:\n",
        "            # Filter dictionaries with the \"timestamp\" field\n",
        "            filtered_data = [d for d in self._messages if \"timestamp\" in d]\n",
        "            # Find the dictionary with the earliest timestamp\n",
        "            if filtered_data:\n",
        "                earliest_entry = min(filtered_data, key=lambda x: x[\"timestamp\"])\n",
        "                self._messages.remove(earliest_entry)\n",
        "            self._prune_messages()"
      ]
    },
    {
      "cell_type": "markdown",
      "metadata": {
        "id": "u6qLj2lN5yve"
      },
      "source": [
        "# Interation testing"
      ]
    },
    {
      "cell_type": "code",
      "execution_count": null,
      "metadata": {
        "id": "VH000XMY5yvf"
      },
      "outputs": [],
      "source": [
        "table_names = [\n",
        "    ## Test tables containing data from open data source\n",
        "    \"test_financial_open_data.trans\",\n",
        "    \"test_financial_open_data.account\",\n",
        "    \"test_financial_open_data.client\",\n",
        "    \"test_financial_open_data.order\",\n",
        "\n",
        "    ## Aeris tables\n",
        "    # \"cmp_dw_prov.aersys_accounts\",\n",
        "    # \"cmp_dw_prov.device\",\n",
        "    # \"cmp_dw_prov.product\",\n",
        "    # \"ais_acp_int_ds.packet_data \",\n",
        "    # \"location.all_cell_locations\",\n",
        "]"
      ]
    },
    {
      "cell_type": "code",
      "execution_count": null,
      "metadata": {
        "id": "zMuA2pjZ5yvf",
        "outputId": "aefb4f99-f92a-4c6f-e833-16ea1d111dcd"
      },
      "outputs": [
        {
          "data": {
            "text/plain": [
              "[{'name': 'test_financial_open_data.trans',\n",
              "  'schema': 'trans_id INTEGER, account_id INTEGER, date DATE, type STRING, operation STRING, amount INTEGER, balance INTEGER, k_symbol STRING, bank STRING, account INTEGER'},\n",
              " {'name': 'test_financial_open_data.account',\n",
              "  'schema': 'account_id INTEGER, district_id INTEGER, frequency STRING, date DATE'},\n",
              " {'name': 'test_financial_open_data.client',\n",
              "  'schema': 'client_id INTEGER, gender STRING, birth_date DATE, district_id INTEGER'},\n",
              " {'name': 'test_financial_open_data.order',\n",
              "  'schema': 'order_id INTEGER, account_id INTEGER, bank_to STRING, account_to INTEGER, amount FLOAT, k_symbol STRING'}]"
            ]
          },
          "execution_count": 8,
          "metadata": {},
          "output_type": "execute_result"
        }
      ],
      "source": [
        "tables = init_tables(table_names)\n",
        "tables"
      ]
    },
    {
      "cell_type": "code",
      "execution_count": null,
      "metadata": {
        "id": "8Q9ftvXX5yvh"
      },
      "outputs": [],
      "source": [
        "gpt = GPTQueryGenerator(tables=tables)"
      ]
    },
    {
      "cell_type": "code",
      "execution_count": null,
      "metadata": {
        "id": "M3BrjJLL5yvh",
        "outputId": "adf13f12-8f0b-4e38-b397-739148254aa0"
      },
      "outputs": [
        {
          "name": "stdout",
          "output_type": "stream",
          "text": [
            "Question:\n",
            "top 10 accounts with most transactions in all time period\n",
            "Answer:\n",
            "Here's the query to get the top 10 accounts with the most transactions in all time period:\n",
            "\n",
            "```\n",
            "SELECT account_id, COUNT(*) AS transaction_count\n",
            "FROM test_financial_open_data.trans\n",
            "GROUP BY account_id\n",
            "ORDER BY transaction_count DESC\n",
            "LIMIT 10\n",
            "```\n"
          ]
        },
        {
          "data": {
            "text/html": [
              "<div>\n",
              "<style scoped>\n",
              "    .dataframe tbody tr th:only-of-type {\n",
              "        vertical-align: middle;\n",
              "    }\n",
              "\n",
              "    .dataframe tbody tr th {\n",
              "        vertical-align: top;\n",
              "    }\n",
              "\n",
              "    .dataframe thead th {\n",
              "        text-align: right;\n",
              "    }\n",
              "</style>\n",
              "<table border=\"1\" class=\"dataframe\">\n",
              "  <thead>\n",
              "    <tr style=\"text-align: right;\">\n",
              "      <th></th>\n",
              "      <th>account_id</th>\n",
              "      <th>transaction_count</th>\n",
              "    </tr>\n",
              "  </thead>\n",
              "  <tbody>\n",
              "    <tr>\n",
              "      <th>0</th>\n",
              "      <td>8261</td>\n",
              "      <td>675</td>\n",
              "    </tr>\n",
              "    <tr>\n",
              "      <th>1</th>\n",
              "      <td>3834</td>\n",
              "      <td>665</td>\n",
              "    </tr>\n",
              "    <tr>\n",
              "      <th>2</th>\n",
              "      <td>96</td>\n",
              "      <td>661</td>\n",
              "    </tr>\n",
              "    <tr>\n",
              "      <th>3</th>\n",
              "      <td>2932</td>\n",
              "      <td>655</td>\n",
              "    </tr>\n",
              "    <tr>\n",
              "      <th>4</th>\n",
              "      <td>9307</td>\n",
              "      <td>649</td>\n",
              "    </tr>\n",
              "    <tr>\n",
              "      <th>5</th>\n",
              "      <td>9265</td>\n",
              "      <td>643</td>\n",
              "    </tr>\n",
              "    <tr>\n",
              "      <th>6</th>\n",
              "      <td>5215</td>\n",
              "      <td>637</td>\n",
              "    </tr>\n",
              "    <tr>\n",
              "      <th>7</th>\n",
              "      <td>2762</td>\n",
              "      <td>634</td>\n",
              "    </tr>\n",
              "    <tr>\n",
              "      <th>8</th>\n",
              "      <td>1801</td>\n",
              "      <td>633</td>\n",
              "    </tr>\n",
              "    <tr>\n",
              "      <th>9</th>\n",
              "      <td>5952</td>\n",
              "      <td>628</td>\n",
              "    </tr>\n",
              "  </tbody>\n",
              "</table>\n",
              "</div>"
            ],
            "text/plain": [
              "   account_id  transaction_count\n",
              "0        8261                675\n",
              "1        3834                665\n",
              "2          96                661\n",
              "3        2932                655\n",
              "4        9307                649\n",
              "5        9265                643\n",
              "6        5215                637\n",
              "7        2762                634\n",
              "8        1801                633\n",
              "9        5952                628"
            ]
          },
          "execution_count": 10,
          "metadata": {},
          "output_type": "execute_result"
        }
      ],
      "source": [
        "df = gpt.ask_question_and_validate(\"top 10 accounts with most transactions in all time period\")\n",
        "df"
      ]
    },
    {
      "cell_type": "code",
      "execution_count": null,
      "metadata": {
        "id": "QadgBV4X5yvi"
      },
      "outputs": [],
      "source": [
        "def extract_sql(s:str):\n",
        "    pattern = r\"```[a-zA-Z]*\\n([\\s\\S]+?)\\n```\"\n",
        "    m = re.search(pattern, s)[0]\n",
        "    ind1 = m.find('\\n')\n",
        "    ind2 = m.rfind('\\n')\n",
        "    return m[ind1+1:ind2]\n"
      ]
    },
    {
      "cell_type": "code",
      "execution_count": null,
      "metadata": {
        "id": "e1ih1dyj5yvj"
      },
      "outputs": [],
      "source": [
        "s = \"\"\"Here's the query to get the top 10 accounts with the most transactions in all time period:\n",
        "\n",
        "```sql\n",
        "SELECT account_id, COUNT(*) AS transaction_count\n",
        "FROM test_financial_open_data.trans\n",
        "GROUP BY account_id\n",
        "ORDER BY transaction_count DESC\n",
        "LIMIT 10\n",
        "```\"\"\""
      ]
    },
    {
      "cell_type": "code",
      "execution_count": null,
      "metadata": {
        "id": "6XJ4611T5yvj",
        "outputId": "72513acf-bfaa-478e-d9f3-ca32d1d8ca5d"
      },
      "outputs": [
        {
          "name": "stdout",
          "output_type": "stream",
          "text": [
            "SELECT account_id, COUNT(*) AS transaction_count\n",
            "FROM test_financial_open_data.trans\n",
            "GROUP BY account_id\n",
            "ORDER BY transaction_count DESC\n",
            "LIMIT 10\n"
          ]
        }
      ],
      "source": [
        "print(extract_sql(s))"
      ]
    },
    {
      "cell_type": "code",
      "execution_count": null,
      "metadata": {
        "id": "HaBbBdqN5yvk",
        "outputId": "57d27e3c-35b8-431f-fb3e-229556f58d7e"
      },
      "outputs": [
        {
          "name": "stdout",
          "output_type": "stream",
          "text": [
            "Question:\n",
            "number of male and female customers\n",
            "Answer:\n",
            "To get the number of male and female customers, we can use the `client` table and group by the `gender` column. Here's the query:\n",
            "\n",
            "```\n",
            "SELECT gender, COUNT(*) as count\n",
            "FROM test_financial_open_data.client\n",
            "GROUP BY gender\n",
            "```\n",
            "\n",
            "This will give us a result with two rows, one for each gender, and the count of customers for each gender.\n"
          ]
        },
        {
          "data": {
            "text/html": [
              "<div>\n",
              "<style scoped>\n",
              "    .dataframe tbody tr th:only-of-type {\n",
              "        vertical-align: middle;\n",
              "    }\n",
              "\n",
              "    .dataframe tbody tr th {\n",
              "        vertical-align: top;\n",
              "    }\n",
              "\n",
              "    .dataframe thead th {\n",
              "        text-align: right;\n",
              "    }\n",
              "</style>\n",
              "<table border=\"1\" class=\"dataframe\">\n",
              "  <thead>\n",
              "    <tr style=\"text-align: right;\">\n",
              "      <th></th>\n",
              "      <th>gender</th>\n",
              "      <th>count</th>\n",
              "    </tr>\n",
              "  </thead>\n",
              "  <tbody>\n",
              "    <tr>\n",
              "      <th>0</th>\n",
              "      <td>F</td>\n",
              "      <td>2645</td>\n",
              "    </tr>\n",
              "    <tr>\n",
              "      <th>1</th>\n",
              "      <td>M</td>\n",
              "      <td>2724</td>\n",
              "    </tr>\n",
              "  </tbody>\n",
              "</table>\n",
              "</div>"
            ],
            "text/plain": [
              "  gender  count\n",
              "0      F   2645\n",
              "1      M   2724"
            ]
          },
          "execution_count": 11,
          "metadata": {},
          "output_type": "execute_result"
        }
      ],
      "source": [
        "df = gpt.ask_question_and_validate(\"number of male and female customers\")\n",
        "df"
      ]
    },
    {
      "cell_type": "code",
      "execution_count": null,
      "metadata": {
        "id": "hkKz3ZXL5yvk",
        "outputId": "18bd9b38-565c-4ad0-9c81-2fe52812ae15"
      },
      "outputs": [
        {
          "name": "stdout",
          "output_type": "stream",
          "text": [
            "Question:\n",
            "client's birth year distribution\n",
            "Answer:\n",
            "Here's the SQL query to get the client's birth year distribution:\n",
            "\n",
            "```\n",
            "SELECT EXTRACT(YEAR FROM birth_date) AS birth_year, COUNT(*) AS count\n",
            "FROM test_financial_open_data.client\n",
            "GROUP BY birth_year\n",
            "ORDER BY birth_year ASC\n",
            "```\n",
            "\n",
            "This query extracts the birth year from the `birth_date` column, groups the clients by birth year, and counts the number of clients in each group. The result is ordered by birth year in ascending order.\n"
          ]
        },
        {
          "data": {
            "text/html": [
              "<div>\n",
              "<style scoped>\n",
              "    .dataframe tbody tr th:only-of-type {\n",
              "        vertical-align: middle;\n",
              "    }\n",
              "\n",
              "    .dataframe tbody tr th {\n",
              "        vertical-align: top;\n",
              "    }\n",
              "\n",
              "    .dataframe thead th {\n",
              "        text-align: right;\n",
              "    }\n",
              "</style>\n",
              "<table border=\"1\" class=\"dataframe\">\n",
              "  <thead>\n",
              "    <tr style=\"text-align: right;\">\n",
              "      <th></th>\n",
              "      <th>birth_year</th>\n",
              "      <th>count</th>\n",
              "    </tr>\n",
              "  </thead>\n",
              "  <tbody>\n",
              "    <tr>\n",
              "      <th>0</th>\n",
              "      <td>1911</td>\n",
              "      <td>2</td>\n",
              "    </tr>\n",
              "    <tr>\n",
              "      <th>1</th>\n",
              "      <td>1912</td>\n",
              "      <td>1</td>\n",
              "    </tr>\n",
              "    <tr>\n",
              "      <th>2</th>\n",
              "      <td>1913</td>\n",
              "      <td>3</td>\n",
              "    </tr>\n",
              "    <tr>\n",
              "      <th>3</th>\n",
              "      <td>1914</td>\n",
              "      <td>4</td>\n",
              "    </tr>\n",
              "    <tr>\n",
              "      <th>4</th>\n",
              "      <td>1915</td>\n",
              "      <td>4</td>\n",
              "    </tr>\n",
              "    <tr>\n",
              "      <th>...</th>\n",
              "      <td>...</td>\n",
              "      <td>...</td>\n",
              "    </tr>\n",
              "    <tr>\n",
              "      <th>72</th>\n",
              "      <td>1983</td>\n",
              "      <td>3</td>\n",
              "    </tr>\n",
              "    <tr>\n",
              "      <th>73</th>\n",
              "      <td>1984</td>\n",
              "      <td>1</td>\n",
              "    </tr>\n",
              "    <tr>\n",
              "      <th>74</th>\n",
              "      <td>1985</td>\n",
              "      <td>3</td>\n",
              "    </tr>\n",
              "    <tr>\n",
              "      <th>75</th>\n",
              "      <td>1986</td>\n",
              "      <td>1</td>\n",
              "    </tr>\n",
              "    <tr>\n",
              "      <th>76</th>\n",
              "      <td>1987</td>\n",
              "      <td>1</td>\n",
              "    </tr>\n",
              "  </tbody>\n",
              "</table>\n",
              "<p>77 rows × 2 columns</p>\n",
              "</div>"
            ],
            "text/plain": [
              "    birth_year  count\n",
              "0         1911      2\n",
              "1         1912      1\n",
              "2         1913      3\n",
              "3         1914      4\n",
              "4         1915      4\n",
              "..         ...    ...\n",
              "72        1983      3\n",
              "73        1984      1\n",
              "74        1985      3\n",
              "75        1986      1\n",
              "76        1987      1\n",
              "\n",
              "[77 rows x 2 columns]"
            ]
          },
          "execution_count": 12,
          "metadata": {},
          "output_type": "execute_result"
        }
      ],
      "source": [
        "df = gpt.ask_question_and_validate(\"client's birth year distribution\")\n",
        "df"
      ]
    },
    {
      "cell_type": "code",
      "execution_count": null,
      "metadata": {
        "id": "hhOyyl2H5yvl",
        "outputId": "cbd6536b-ca5d-4423-8c94-275433211758"
      },
      "outputs": [
        {
          "name": "stdout",
          "output_type": "stream",
          "text": [
            "Question:\n",
            "show client's total spending by birth year.\n",
            "Answer:\n",
            "```\n",
            "SELECT \n",
            "  EXTRACT(YEAR FROM c.birth_date) AS birth_year, \n",
            "  SUM(t.amount) AS total_spending\n",
            "FROM \n",
            "  test_financial_open_data.client c\n",
            "  JOIN test_financial_open_data.account a ON c.client_id = a.account_id\n",
            "  JOIN test_financial_open_data.trans t ON a.account_id = t.account_id\n",
            "GROUP BY \n",
            "  birth_year\n",
            "ORDER BY \n",
            "  birth_year\n",
            "``` \n",
            "\n",
            "This query will join the `client`, `account`, and `trans` tables to get the total spending of each client by their birth year. We first extract the birth year from the `birth_date` column using the `EXTRACT` function. Then we join the tables and group the results by birth year. Finally, we sort the results by birth year in ascending order.\n"
          ]
        },
        {
          "data": {
            "text/html": [
              "<div>\n",
              "<style scoped>\n",
              "    .dataframe tbody tr th:only-of-type {\n",
              "        vertical-align: middle;\n",
              "    }\n",
              "\n",
              "    .dataframe tbody tr th {\n",
              "        vertical-align: top;\n",
              "    }\n",
              "\n",
              "    .dataframe thead th {\n",
              "        text-align: right;\n",
              "    }\n",
              "</style>\n",
              "<table border=\"1\" class=\"dataframe\">\n",
              "  <thead>\n",
              "    <tr style=\"text-align: right;\">\n",
              "      <th></th>\n",
              "      <th>birth_year</th>\n",
              "      <th>total_spending</th>\n",
              "    </tr>\n",
              "  </thead>\n",
              "  <tbody>\n",
              "    <tr>\n",
              "      <th>0</th>\n",
              "      <td>1911</td>\n",
              "      <td>600994</td>\n",
              "    </tr>\n",
              "    <tr>\n",
              "      <th>1</th>\n",
              "      <td>1912</td>\n",
              "      <td>233099</td>\n",
              "    </tr>\n",
              "    <tr>\n",
              "      <th>2</th>\n",
              "      <td>1913</td>\n",
              "      <td>2605796</td>\n",
              "    </tr>\n",
              "    <tr>\n",
              "      <th>3</th>\n",
              "      <td>1914</td>\n",
              "      <td>2020703</td>\n",
              "    </tr>\n",
              "    <tr>\n",
              "      <th>4</th>\n",
              "      <td>1915</td>\n",
              "      <td>2331146</td>\n",
              "    </tr>\n",
              "    <tr>\n",
              "      <th>...</th>\n",
              "      <td>...</td>\n",
              "      <td>...</td>\n",
              "    </tr>\n",
              "    <tr>\n",
              "      <th>71</th>\n",
              "      <td>1982</td>\n",
              "      <td>35151313</td>\n",
              "    </tr>\n",
              "    <tr>\n",
              "      <th>72</th>\n",
              "      <td>1983</td>\n",
              "      <td>5052739</td>\n",
              "    </tr>\n",
              "    <tr>\n",
              "      <th>73</th>\n",
              "      <td>1985</td>\n",
              "      <td>715306</td>\n",
              "    </tr>\n",
              "    <tr>\n",
              "      <th>74</th>\n",
              "      <td>1986</td>\n",
              "      <td>1632106</td>\n",
              "    </tr>\n",
              "    <tr>\n",
              "      <th>75</th>\n",
              "      <td>1987</td>\n",
              "      <td>425417</td>\n",
              "    </tr>\n",
              "  </tbody>\n",
              "</table>\n",
              "<p>76 rows × 2 columns</p>\n",
              "</div>"
            ],
            "text/plain": [
              "    birth_year  total_spending\n",
              "0         1911          600994\n",
              "1         1912          233099\n",
              "2         1913         2605796\n",
              "3         1914         2020703\n",
              "4         1915         2331146\n",
              "..         ...             ...\n",
              "71        1982        35151313\n",
              "72        1983         5052739\n",
              "73        1985          715306\n",
              "74        1986         1632106\n",
              "75        1987          425417\n",
              "\n",
              "[76 rows x 2 columns]"
            ]
          },
          "execution_count": 10,
          "metadata": {},
          "output_type": "execute_result"
        }
      ],
      "source": [
        "df = gpt.ask_question_and_validate(\"show client's total spending by birth year.\")\n",
        "df"
      ]
    },
    {
      "cell_type": "code",
      "execution_count": null,
      "metadata": {
        "id": "PWnDxceV5yvm",
        "outputId": "b637ae10-3261-41d1-f381-fabeb7828d21"
      },
      "outputs": [
        {
          "name": "stdout",
          "output_type": "stream",
          "text": [
            "Question:\n",
            "show the bank receiving the most money for each customer. Specify where you get the column client_id in every subquery if necessary. Table account does not have the column client_id\n",
            "Answer:\n",
            "Here is the query that shows the bank receiving the most money for each customer. I have specified where I get the column client_id in every subquery if necessary. Since the table account does not have the column client_id, I have used the table trans to get the client_id.\n",
            "\n",
            "```\n",
            "SELECT \n",
            "    t.client_id, \n",
            "    o.bank_to, \n",
            "    SUM(o.amount) AS total_amount\n",
            "FROM \n",
            "    test_financial_open_data.order o\n",
            "    JOIN (\n",
            "        SELECT DISTINCT \n",
            "            t1.account_id, \n",
            "            t2.client_id\n",
            "        FROM \n",
            "            test_financial_open_data.trans t1\n",
            "            JOIN test_financial_open_data.account t2 ON t1.account_id = t2.account_id\n",
            "    ) t ON o.account_id = t.account_id\n",
            "GROUP BY \n",
            "    t.client_id, \n",
            "    o.bank_to\n",
            "HAVING \n",
            "    SUM(o.amount) = (\n",
            "        SELECT \n",
            "            MAX(total_amount) \n",
            "        FROM (\n",
            "            SELECT \n",
            "                t.client_id, \n",
            "                o.bank_to, \n",
            "                SUM(o.amount) AS total_amount\n",
            "            FROM \n",
            "                test_financial_open_data.order o\n",
            "                JOIN (\n",
            "                    SELECT DISTINCT \n",
            "                        t1.account_id, \n",
            "                        t2.client_id\n",
            "                    FROM \n",
            "                        test_financial_open_data.trans t1\n",
            "                        JOIN test_financial_open_data.account t2 ON t1.account_id = t2.account_id\n",
            "                ) t ON o.account_id = t.account_id\n",
            "            GROUP BY \n",
            "                t.client_id, \n",
            "                o.bank_to\n",
            "        ) AS subquery\n",
            "        WHERE subquery.client_id = t.client_id\n",
            "    )\n",
            "ORDER BY \n",
            "    t.client_id\n",
            "```\n",
            "Running the generated query caused the error: [{'reason': 'invalidQuery', 'location': 'query', 'message': 'Name client_id not found inside t2 at [10:16]'}]\n",
            "Traceback (most recent call last):\n",
            "  File \"/var/folders/gk/91lqkf8j3n59pmztchnc6cx40000gp/T/ipykernel_72860/2217028545.py\", line 63, in ask_question_and_validate\n",
            "    result = self.execute_sql_query(sql_query)\n",
            "  File \"/var/folders/gk/91lqkf8j3n59pmztchnc6cx40000gp/T/ipykernel_72860/2217028545.py\", line 45, in execute_sql_query\n",
            "    result = client.query(sql_query).to_dataframe()\n",
            "  File \"/Users/longieee/.pyenv/versions/3.10.6/envs/aeris/lib/python3.10/site-packages/google/cloud/bigquery/job/query.py\", line 1694, in to_dataframe\n",
            "    query_result = wait_for_query(self, progress_bar_type, max_results=max_results)\n",
            "  File \"/Users/longieee/.pyenv/versions/3.10.6/envs/aeris/lib/python3.10/site-packages/google/cloud/bigquery/_tqdm_helpers.py\", line 88, in wait_for_query\n",
            "    return query_job.result(max_results=max_results)\n",
            "  File \"/Users/longieee/.pyenv/versions/3.10.6/envs/aeris/lib/python3.10/site-packages/google/cloud/bigquery/job/query.py\", line 1498, in result\n",
            "    do_get_result()\n",
            "  File \"/Users/longieee/.pyenv/versions/3.10.6/envs/aeris/lib/python3.10/site-packages/google/api_core/retry.py\", line 349, in retry_wrapped_func\n",
            "    return retry_target(\n",
            "  File \"/Users/longieee/.pyenv/versions/3.10.6/envs/aeris/lib/python3.10/site-packages/google/api_core/retry.py\", line 191, in retry_target\n",
            "    return target()\n",
            "  File \"/Users/longieee/.pyenv/versions/3.10.6/envs/aeris/lib/python3.10/site-packages/google/cloud/bigquery/job/query.py\", line 1488, in do_get_result\n",
            "    super(QueryJob, self).result(retry=retry, timeout=timeout)\n",
            "  File \"/Users/longieee/.pyenv/versions/3.10.6/envs/aeris/lib/python3.10/site-packages/google/cloud/bigquery/job/base.py\", line 728, in result\n",
            "    return super(_AsyncJob, self).result(timeout=timeout, **kwargs)\n",
            "  File \"/Users/longieee/.pyenv/versions/3.10.6/envs/aeris/lib/python3.10/site-packages/google/api_core/future/polling.py\", line 261, in result\n",
            "    raise self._exception\n",
            "google.api_core.exceptions.BadRequest: 400 Name client_id not found inside t2 at [10:16]\n",
            "\n",
            "Location: US\n",
            "Job ID: e2f04355-cb86-4482-b6f5-be14b4dc4f7e\n",
            "\n",
            "\n",
            "Please try to ask the question again, rephrase or provide additional guides if necessary\n"
          ]
        }
      ],
      "source": [
        "df = gpt.ask_question_and_validate(\"show the bank receiving the most money for each customer. Specify where you get the column client_id in every subquery if necessary. Table account does not have the column client_id\", debug=True)\n",
        "df"
      ]
    },
    {
      "cell_type": "markdown",
      "metadata": {
        "id": "_5mBwNW55yvm"
      },
      "source": [
        "# Using ChatGPT to generate queries for Aeris data warehouse"
      ]
    },
    {
      "cell_type": "code",
      "execution_count": null,
      "metadata": {
        "id": "auBUE6e-5yvm"
      },
      "outputs": [],
      "source": [
        "client = bigquery.Client(project=\"aeriscom-acpcmn-pre-202006\")"
      ]
    },
    {
      "cell_type": "code",
      "execution_count": null,
      "metadata": {
        "id": "7w9LTXKN5yvn",
        "outputId": "9e381492-5398-4b12-fbbd-6c0b4fe4fc78"
      },
      "outputs": [
        {
          "data": {
            "text/plain": [
              "[{'name': 'cmp_dw_prov.aersys_accounts',\n",
              "  'schema': 'ACCOUNT_ID INTEGER, ACCOUNT_TYPE INTEGER, NAME STRING, DIVISION STRING, WWW_ADDR STRING, SERVICE_NAME STRING, TMIN_MAXREQUEST INTEGER, TMIN_MAXTOTAL STRING, DATAINFO_TYPE STRING, DATAREPORT_TYPE STRING, MIN_MAXREQUEST INTEGER, PREDEVELOPER_ID INTEGER, NOT_USED INTEGER, MARKETING_TEAM STRING, REMARKS STRING, REGION_CODE INTEGER, PEAKTIME_BEGIN INTEGER, PEAKTIME_END INTEGER, REP_TIME INTEGER'},\n",
              " {'name': 'cmp_dw_prov.device',\n",
              "  'schema': 'REP_TIMESTAMP INTEGER, DEVICE_ID INTEGER, ACCOUNT_ID INTEGER, DEVICE_STATUS INTEGER, IMSI STRING, ICCID STRING, PRIMARY_MIN STRING, ESN STRING, IMEI STRING, MEID STRING, MSISDN STRING, RADIO_MAKER STRING, FW_VERSION STRING, HW_VERSION STRING, DEVICE_TYPE INTEGER, APPLICATION_TYPE STRING, ACTIVE_DATE INTEGER, DEACTIVATE_DATE INTEGER, DEVICE_DESCRIPTION STRING, TERM_DATE INTEGER, CARRIER_PROVIDER STRING, LAST_MODIFIED_BY STRING, LAST_MODIFIED_DATE INTEGER, APP_FW_VERSION STRING, APP_HW_VERSION STRING, CURRENT_LOCATION STRING, CUSTOM_FIELD_1 STRING, CUSTOM_FIELD_2 STRING, CUSTOM_FIELD_3 STRING, CUSTOM_FIELD_4 STRING, CUSTOM_FIELD_5 STRING, DEVICE_NAME STRING, REPORTGROUP INTEGER, CANCEL_ID INTEGER, SUBSCRIBER_ID STRING, SERVICE_NAME STRING, IP_ADDRESS STRING, ALT_MSISDN STRING, SUBSCRIPTION_ID STRING, PRODUCT_ID INTEGER, TECHNOLOGY STRING, AGENT_ID STRING, PROMO_CODE STRING, COMMUNICATION_PLAN_CODE INTEGER, EID STRING'},\n",
              " {'name': 'cmp_dw_prov.product',\n",
              "  'schema': 'REP_TIMESTAMP INTEGER, PRODUCT_ID INTEGER, PRODUCT_NAME STRING, TECHNOLOGY STRING, DATE_CREATED INTEGER, CREATED_BY STRING, CARRIER_ID INTEGER, MSISDN_RANGE STRING, STATIC_IP_RANGE STRING, IS_SUBSCRIPTION_LEVEL_ONLY INTEGER, USE_SIM_INVENTORY INTEGER, AUTO_SIM_ASSIGNMENT INTEGER, PREFETCH_STATIC_IP INTEGER, PRODUCT_TYPE STRING, IS_ESIM_PRODUCT STRING, DEFAULT_CARRIER_ID STRING'},\n",
              " {'name': 'ais_acp_int_ds.packet_data',\n",
              "  'schema': 'deviceId INTEGER, imsi STRING, msisdn STRING, pmin STRING, meid STRING, technology STRING, sessionId STRING, assignedIp STRING, callingStationId STRING, locationInfo STRING, eventType STRING, sessionStartTime TIMESTAMP, sessionStopTime TIMESTAMP, bin FLOAT, bout FLOAT, accountId INTEGER, eventDate TIMESTAMP, eventTime TIMESTAMP, productId INTEGER, productName STRING, imei STRING, ingestionTime TIMESTAMP, calledStationId STRING, subscriptionId STRING, mccMnc STRING, carrierProvider STRING'},\n",
              " {'name': 'device_location.all_cell_locations',\n",
              "  'schema': 'location_info STRING, mcc INTEGER, mnc INTEGER, lac INTEGER, cid INTEGER, longitude FLOAT, latitude FLOAT, source STRING, yearmonth_added STRING'}]"
            ]
          },
          "execution_count": 8,
          "metadata": {},
          "output_type": "execute_result"
        }
      ],
      "source": [
        "table_names = [\n",
        "    ## Test tables containing data from open data source\n",
        "    # \"test_financial_open_data.trans\",\n",
        "    # \"test_financial_open_data.account\",\n",
        "    # \"test_financial_open_data.client\",\n",
        "    # \"test_financial_open_data.order\",\n",
        "\n",
        "    ## Aeris tables\n",
        "    \"cmp_dw_prov.aersys_accounts\",\n",
        "    \"cmp_dw_prov.device\",\n",
        "    \"cmp_dw_prov.product\",\n",
        "    \"ais_acp_int_ds.packet_data\",\n",
        "    \"device_location.all_cell_locations\",\n",
        "]\n",
        "tables = init_tables(table_names)\n",
        "tables"
      ]
    },
    {
      "cell_type": "code",
      "execution_count": null,
      "metadata": {
        "id": "Iy_8u78k5yvn"
      },
      "outputs": [],
      "source": [
        "gpt = GPTQueryGenerator(tables=tables, model=DEFAULT_GPT_MODEL, max_tokens=MAX_ALLOWED_TOKENS)"
      ]
    },
    {
      "cell_type": "code",
      "execution_count": null,
      "metadata": {
        "id": "Nr5I-vVp5yvn",
        "outputId": "27dd760a-4c71-403e-cd5f-9a04f21d565b"
      },
      "outputs": [
        {
          "name": "stdout",
          "output_type": "stream",
          "text": [
            "Question:\n",
            "show top 5 accounts with the most devices in United States. Note that table all_cell_locations does not have column mccMnc and table all_cell_locations does not have the column country\n",
            "Answer:\n",
            "To solve this question, we need to join the following tables: `cmp_dw_prov.device`, `cmp_dw_prov.aersys_accounts` and `device_location.all_cell_locations`. \n",
            "\n",
            "We can join the tables `cmp_dw_prov.device` and `cmp_dw_prov.aersys_accounts` using the `ACCOUNT_ID` column. Then, we can join the resulting table with `device_location.all_cell_locations` using the `msisdn` column from `cmp_dw_prov.device` and the `mcc` and `mnc` columns from `device_location.all_cell_locations`.\n",
            "\n",
            "After that, we can filter the resulting table to only include rows where the `country` column from `device_location.all_cell_locations` is equal to \"United States\". Finally, we can group the resulting table by the `ACCOUNT_ID` column and count the number of devices for each account. We can then sort the resulting table by the number of devices in descending order and show the top 5 accounts.\n",
            "\n",
            "Here's the SQL query:\n",
            "\n",
            "```sql\n",
            "SELECT a.ACCOUNT_ID, a.NAME, COUNT(*) AS num_devices\n",
            "FROM `cmp_dw_prov.device` d\n",
            "JOIN `cmp_dw_prov.aersys_accounts` a ON d.ACCOUNT_ID = a.ACCOUNT_ID\n",
            "JOIN `device_location.all_cell_locations` l ON d.MSISDN = l.location_info AND d.TECHNOLOGY = l.source AND d.CARRIER_PROVIDER = CONCAT(l.mcc, l.mnc)\n",
            "WHERE l.country = 'United States'\n",
            "GROUP BY a.ACCOUNT_ID, a.NAME\n",
            "ORDER BY num_devices DESC\n",
            "LIMIT 5\n",
            "```\n",
            "\n",
            "Note that we are joining the `cmp_dw_prov.device` table with `device_location.all_cell_locations` using the `MSISDN` column from `cmp_dw_prov.device` and the `location_info`, `source` and `mcc` and `mnc` columns from `device_location.all_cell_locations`. We are also using the `CONCAT` function to concatenate the `mcc` and `mnc` columns from `device_location.all_cell_locations` into a single string to match the `CARRIER_PROVIDER` column from `cmp_dw_prov.device`.\n",
            "Running the generated query caused the error: [{'reason': 'invalidQuery', 'location': 'query', 'message': 'Name country not found inside l at [5:9]'}]\n",
            "Please try to ask the question again, rephrase or provide additional guides if necessary\n"
          ]
        }
      ],
      "source": [
        "df = gpt.ask_question_and_validate(\n",
        "    \"show top 5 accounts with the most devices in United States. Note that table all_cell_locations does not have column mccMnc and table all_cell_locations does not have the column country\"\n",
        ")\n",
        "df"
      ]
    },
    {
      "cell_type": "code",
      "execution_count": null,
      "metadata": {
        "id": "vzcYFEON5yvo",
        "outputId": "9dbf237c-1f5f-450c-8bcb-bfde03e2d3d5"
      },
      "outputs": [
        {
          "data": {
            "text/plain": [
              "717"
            ]
          },
          "execution_count": 98,
          "metadata": {},
          "output_type": "execute_result"
        }
      ],
      "source": [
        "gpt._num_tokens_from_message()"
      ]
    },
    {
      "cell_type": "code",
      "execution_count": null,
      "metadata": {
        "id": "9a5KyD8a5yvo",
        "outputId": "d54cdd13-8507-4aeb-ce96-350227e7dbe3"
      },
      "outputs": [
        {
          "name": "stdout",
          "output_type": "stream",
          "text": [
            "Question:\n",
            "Show top 10 accounts with the most devices\n",
            "Answer:\n",
            "Sure! Here's the SQL query to show the top 10 accounts with the most devices:\n",
            "\n",
            "```sql\n",
            "SELECT ACCOUNT_ID, COUNT(*) AS DEVICE_COUNT\n",
            "FROM cmp_dw_prov.device\n",
            "GROUP BY ACCOUNT_ID\n",
            "ORDER BY DEVICE_COUNT DESC\n",
            "LIMIT 10\n",
            "```\n",
            "\n",
            "This query selects the `ACCOUNT_ID` column and counts the number of devices for each account using `COUNT(*)`. It then groups the results by `ACCOUNT_ID` and sorts the results in descending order by `DEVICE_COUNT`. Finally, it limits the results to the top 10 accounts with the most devices.\n"
          ]
        },
        {
          "data": {
            "text/html": [
              "<div>\n",
              "<style scoped>\n",
              "    .dataframe tbody tr th:only-of-type {\n",
              "        vertical-align: middle;\n",
              "    }\n",
              "\n",
              "    .dataframe tbody tr th {\n",
              "        vertical-align: top;\n",
              "    }\n",
              "\n",
              "    .dataframe thead th {\n",
              "        text-align: right;\n",
              "    }\n",
              "</style>\n",
              "<table border=\"1\" class=\"dataframe\">\n",
              "  <thead>\n",
              "    <tr style=\"text-align: right;\">\n",
              "      <th></th>\n",
              "      <th>ACCOUNT_ID</th>\n",
              "      <th>DEVICE_COUNT</th>\n",
              "    </tr>\n",
              "  </thead>\n",
              "  <tbody>\n",
              "    <tr>\n",
              "      <th>0</th>\n",
              "      <td>40028</td>\n",
              "      <td>4267183</td>\n",
              "    </tr>\n",
              "    <tr>\n",
              "      <th>1</th>\n",
              "      <td>10931</td>\n",
              "      <td>3225152</td>\n",
              "    </tr>\n",
              "    <tr>\n",
              "      <th>2</th>\n",
              "      <td>10115</td>\n",
              "      <td>1715295</td>\n",
              "    </tr>\n",
              "    <tr>\n",
              "      <th>3</th>\n",
              "      <td>41071</td>\n",
              "      <td>1705211</td>\n",
              "    </tr>\n",
              "    <tr>\n",
              "      <th>4</th>\n",
              "      <td>10578</td>\n",
              "      <td>1629963</td>\n",
              "    </tr>\n",
              "    <tr>\n",
              "      <th>5</th>\n",
              "      <td>21561</td>\n",
              "      <td>1511710</td>\n",
              "    </tr>\n",
              "    <tr>\n",
              "      <th>6</th>\n",
              "      <td>16544</td>\n",
              "      <td>1500704</td>\n",
              "    </tr>\n",
              "    <tr>\n",
              "      <th>7</th>\n",
              "      <td>13647</td>\n",
              "      <td>1361136</td>\n",
              "    </tr>\n",
              "    <tr>\n",
              "      <th>8</th>\n",
              "      <td>11034</td>\n",
              "      <td>1077637</td>\n",
              "    </tr>\n",
              "    <tr>\n",
              "      <th>9</th>\n",
              "      <td>24012</td>\n",
              "      <td>781503</td>\n",
              "    </tr>\n",
              "  </tbody>\n",
              "</table>\n",
              "</div>"
            ],
            "text/plain": [
              "   ACCOUNT_ID  DEVICE_COUNT\n",
              "0       40028       4267183\n",
              "1       10931       3225152\n",
              "2       10115       1715295\n",
              "3       41071       1705211\n",
              "4       10578       1629963\n",
              "5       21561       1511710\n",
              "6       16544       1500704\n",
              "7       13647       1361136\n",
              "8       11034       1077637\n",
              "9       24012        781503"
            ]
          },
          "execution_count": 99,
          "metadata": {},
          "output_type": "execute_result"
        }
      ],
      "source": [
        "df = gpt.ask_question_and_validate(\"Show top 10 accounts with the most devices\")\n",
        "df"
      ]
    },
    {
      "cell_type": "code",
      "execution_count": null,
      "metadata": {
        "id": "iS_AnuJp5yvp",
        "outputId": "188c1156-4b93-41ec-e27e-fc233ee6f377"
      },
      "outputs": [
        {
          "data": {
            "text/plain": [
              "733"
            ]
          },
          "execution_count": 100,
          "metadata": {},
          "output_type": "execute_result"
        }
      ],
      "source": [
        "gpt._num_tokens_from_message()"
      ]
    },
    {
      "cell_type": "code",
      "execution_count": null,
      "metadata": {
        "id": "b73bhLiZ5yvp",
        "outputId": "7b84433e-330a-4098-c4bd-e116886bb318"
      },
      "outputs": [
        {
          "name": "stdout",
          "output_type": "stream",
          "text": [
            "Question:\n",
            "Show top 10 accounts with the least devices\n",
            "Answer:\n",
            "To show the top 10 accounts with the least devices, we can use the `device` table and group by `account_id`, then order by the count of devices per account in ascending order and limit the results to 10. Here's the SQL query:\n",
            "\n",
            "```sql\n",
            "SELECT account_id, COUNT(*) AS device_count\n",
            "FROM cmp_dw_prov.device\n",
            "GROUP BY account_id\n",
            "ORDER BY device_count ASC\n",
            "LIMIT 10\n",
            "```\n"
          ]
        },
        {
          "data": {
            "text/html": [
              "<div>\n",
              "<style scoped>\n",
              "    .dataframe tbody tr th:only-of-type {\n",
              "        vertical-align: middle;\n",
              "    }\n",
              "\n",
              "    .dataframe tbody tr th {\n",
              "        vertical-align: top;\n",
              "    }\n",
              "\n",
              "    .dataframe thead th {\n",
              "        text-align: right;\n",
              "    }\n",
              "</style>\n",
              "<table border=\"1\" class=\"dataframe\">\n",
              "  <thead>\n",
              "    <tr style=\"text-align: right;\">\n",
              "      <th></th>\n",
              "      <th>account_id</th>\n",
              "      <th>device_count</th>\n",
              "    </tr>\n",
              "  </thead>\n",
              "  <tbody>\n",
              "    <tr>\n",
              "      <th>0</th>\n",
              "      <td>22078</td>\n",
              "      <td>1</td>\n",
              "    </tr>\n",
              "    <tr>\n",
              "      <th>1</th>\n",
              "      <td>26540</td>\n",
              "      <td>1</td>\n",
              "    </tr>\n",
              "    <tr>\n",
              "      <th>2</th>\n",
              "      <td>10986</td>\n",
              "      <td>1</td>\n",
              "    </tr>\n",
              "    <tr>\n",
              "      <th>3</th>\n",
              "      <td>18038</td>\n",
              "      <td>1</td>\n",
              "    </tr>\n",
              "    <tr>\n",
              "      <th>4</th>\n",
              "      <td>30205</td>\n",
              "      <td>1</td>\n",
              "    </tr>\n",
              "    <tr>\n",
              "      <th>5</th>\n",
              "      <td>38367</td>\n",
              "      <td>1</td>\n",
              "    </tr>\n",
              "    <tr>\n",
              "      <th>6</th>\n",
              "      <td>12561</td>\n",
              "      <td>1</td>\n",
              "    </tr>\n",
              "    <tr>\n",
              "      <th>7</th>\n",
              "      <td>20910</td>\n",
              "      <td>1</td>\n",
              "    </tr>\n",
              "    <tr>\n",
              "      <th>8</th>\n",
              "      <td>28902</td>\n",
              "      <td>1</td>\n",
              "    </tr>\n",
              "    <tr>\n",
              "      <th>9</th>\n",
              "      <td>12986</td>\n",
              "      <td>1</td>\n",
              "    </tr>\n",
              "  </tbody>\n",
              "</table>\n",
              "</div>"
            ],
            "text/plain": [
              "   account_id  device_count\n",
              "0       22078             1\n",
              "1       26540             1\n",
              "2       10986             1\n",
              "3       18038             1\n",
              "4       30205             1\n",
              "5       38367             1\n",
              "6       12561             1\n",
              "7       20910             1\n",
              "8       28902             1\n",
              "9       12986             1"
            ]
          },
          "execution_count": 101,
          "metadata": {},
          "output_type": "execute_result"
        }
      ],
      "source": [
        "df = gpt.ask_question_and_validate(\"Show top 10 accounts with the least devices\")\n",
        "df"
      ]
    },
    {
      "cell_type": "code",
      "execution_count": null,
      "metadata": {
        "id": "hyDGhR815yvp",
        "outputId": "99499749-af6d-4426-82bd-e565539a2da5"
      },
      "outputs": [
        {
          "data": {
            "text/plain": [
              "749"
            ]
          },
          "execution_count": 102,
          "metadata": {},
          "output_type": "execute_result"
        }
      ],
      "source": [
        "gpt._num_tokens_from_message()"
      ]
    },
    {
      "cell_type": "code",
      "execution_count": null,
      "metadata": {
        "id": "8gFsxmNB5yvq",
        "outputId": "93a06954-c2a1-4f85-9fba-dd64d843df2c"
      },
      "outputs": [
        {
          "name": "stdout",
          "output_type": "stream",
          "text": [
            "Question:\n",
            "Show top 10 accounts with most data transferred (in GB) yesterday\n",
            "Answer:\n",
            "To show the top 10 accounts with the most data transferred (in GB) yesterday, we need to join the `ais_acp_int_ds.packet_data` table with the `cmp_dw_prov.device` table to get the account ID and then aggregate the data transferred by account. We can use the following query:\n",
            "\n",
            "```sql\n",
            "SELECT\n",
            "  a.ACCOUNT_ID,\n",
            "  SUM(p.BIN + p.BOUT) / 1024 / 1024 / 1024 AS DATA_TRANSFERRED_GB\n",
            "FROM\n",
            "  `ais_acp_int_ds.packet_data` p\n",
            "JOIN\n",
            "  `cmp_dw_prov.device` d\n",
            "ON\n",
            "  p.deviceId = d.DEVICE_ID\n",
            "JOIN\n",
            "  `cmp_dw_prov.aersys_accounts` a\n",
            "ON\n",
            "  d.ACCOUNT_ID = a.ACCOUNT_ID\n",
            "WHERE\n",
            "  DATE(p.eventTime) = DATE_SUB(CURRENT_DATE(), INTERVAL 1 DAY)\n",
            "GROUP BY\n",
            "  a.ACCOUNT_ID\n",
            "ORDER BY\n",
            "  DATA_TRANSFERRED_GB DESC\n",
            "LIMIT\n",
            "  10\n",
            "```\n",
            "\n",
            "This query joins the `ais_acp_int_ds.packet_data` table with the `cmp_dw_prov.device` table on the `deviceId` column and then joins the `cmp_dw_prov.device` table with the `cmp_dw_prov.aersys_accounts` table on the `ACCOUNT_ID` column. It then filters the results to only include data from yesterday using the `DATE` function and the `CURRENT_DATE()` function. Finally, it aggregates the data transferred by account using the `SUM` function and orders the results by the amount of data transferred in descending order. The `LIMIT` clause limits the results to the top 10 accounts.\n"
          ]
        },
        {
          "data": {
            "text/html": [
              "<div>\n",
              "<style scoped>\n",
              "    .dataframe tbody tr th:only-of-type {\n",
              "        vertical-align: middle;\n",
              "    }\n",
              "\n",
              "    .dataframe tbody tr th {\n",
              "        vertical-align: top;\n",
              "    }\n",
              "\n",
              "    .dataframe thead th {\n",
              "        text-align: right;\n",
              "    }\n",
              "</style>\n",
              "<table border=\"1\" class=\"dataframe\">\n",
              "  <thead>\n",
              "    <tr style=\"text-align: right;\">\n",
              "      <th></th>\n",
              "      <th>ACCOUNT_ID</th>\n",
              "      <th>DATA_TRANSFERRED_GB</th>\n",
              "    </tr>\n",
              "  </thead>\n",
              "  <tbody>\n",
              "    <tr>\n",
              "      <th>0</th>\n",
              "      <td>10115</td>\n",
              "      <td>21873.192659</td>\n",
              "    </tr>\n",
              "    <tr>\n",
              "      <th>1</th>\n",
              "      <td>34105</td>\n",
              "      <td>10970.388692</td>\n",
              "    </tr>\n",
              "    <tr>\n",
              "      <th>2</th>\n",
              "      <td>13670</td>\n",
              "      <td>10896.835574</td>\n",
              "    </tr>\n",
              "    <tr>\n",
              "      <th>3</th>\n",
              "      <td>23567</td>\n",
              "      <td>6013.739582</td>\n",
              "    </tr>\n",
              "    <tr>\n",
              "      <th>4</th>\n",
              "      <td>19008</td>\n",
              "      <td>3826.402539</td>\n",
              "    </tr>\n",
              "    <tr>\n",
              "      <th>5</th>\n",
              "      <td>18930</td>\n",
              "      <td>2319.145089</td>\n",
              "    </tr>\n",
              "    <tr>\n",
              "      <th>6</th>\n",
              "      <td>11008</td>\n",
              "      <td>2286.520810</td>\n",
              "    </tr>\n",
              "    <tr>\n",
              "      <th>7</th>\n",
              "      <td>22958</td>\n",
              "      <td>2066.983230</td>\n",
              "    </tr>\n",
              "    <tr>\n",
              "      <th>8</th>\n",
              "      <td>18914</td>\n",
              "      <td>2047.222646</td>\n",
              "    </tr>\n",
              "    <tr>\n",
              "      <th>9</th>\n",
              "      <td>90308</td>\n",
              "      <td>1773.686794</td>\n",
              "    </tr>\n",
              "  </tbody>\n",
              "</table>\n",
              "</div>"
            ],
            "text/plain": [
              "   ACCOUNT_ID  DATA_TRANSFERRED_GB\n",
              "0       10115         21873.192659\n",
              "1       34105         10970.388692\n",
              "2       13670         10896.835574\n",
              "3       23567          6013.739582\n",
              "4       19008          3826.402539\n",
              "5       18930          2319.145089\n",
              "6       11008          2286.520810\n",
              "7       22958          2066.983230\n",
              "8       18914          2047.222646\n",
              "9       90308          1773.686794"
            ]
          },
          "execution_count": 103,
          "metadata": {},
          "output_type": "execute_result"
        }
      ],
      "source": [
        "df = gpt.ask_question_and_validate(\"Show top 10 accounts with most data transferred (in GB) yesterday\")\n",
        "df"
      ]
    },
    {
      "cell_type": "code",
      "execution_count": null,
      "metadata": {
        "id": "eXHOnC5C5yvq",
        "outputId": "d2a7efc2-6aa5-4e55-fdaa-0dc7ab922d2f"
      },
      "outputs": [
        {
          "data": {
            "text/plain": [
              "770"
            ]
          },
          "execution_count": 104,
          "metadata": {},
          "output_type": "execute_result"
        }
      ],
      "source": [
        "gpt._num_tokens_from_message()"
      ]
    },
    {
      "cell_type": "code",
      "execution_count": null,
      "metadata": {
        "id": "66eOlSbR5yvr",
        "outputId": "0006bf81-b5a5-4872-e129-709355ba4f71"
      },
      "outputs": [
        {
          "name": "stdout",
          "output_type": "stream",
          "text": [
            "Question:\n",
            "Show top 5 countries with the most devices\n",
            "Answer:\n",
            "To show the top 5 countries with the most devices, we can use the `all_cell_locations` and `ais_acp_int_ds.packet_data` tables. We will join these tables on the `location_info` and `imsi` columns, respectively, to get the country for each device. Then we will group by country and count the number of devices in each country. Finally, we will order the results by the count of devices in descending order and limit the output to the top 5 countries.\n",
            "\n",
            "Here's the SQL query:\n",
            "\n",
            "```\n",
            "SELECT\n",
            "  SUBSTR(location_info, 1, 2) AS country_code,\n",
            "  COUNT(DISTINCT deviceId) AS device_count\n",
            "FROM\n",
            "  device_location.all_cell_locations AS loc\n",
            "JOIN\n",
            "  ais_acp_int_ds.packet_data AS pd\n",
            "ON\n",
            "  loc.cid = CAST(pd.locationInfo AS INT64)\n",
            "WHERE\n",
            "  pd.imsi IS NOT NULL\n",
            "GROUP BY\n",
            "  country_code\n",
            "ORDER BY\n",
            "  device_count DESC\n",
            "LIMIT\n",
            "  5\n",
            "```\n",
            "\n",
            "This query will return the top 5 countries with the most devices, along with the number of devices in each country. Note that we are using the `SUBSTR` function to extract the first two characters of the `location_info` column, which represents the country code.\n",
            "Running the generated query caused the error: [{'reason': 'invalidQuery', 'location': 'query', 'message': 'Bad int64 value: 0036f50100d42b0d'}]\n",
            "Please try to ask the question again, rephrase or provide additional guides if necessary\n"
          ]
        }
      ],
      "source": [
        "df = gpt.ask_question_and_validate(\"Show top 5 countries with the most devices\")\n",
        "df"
      ]
    },
    {
      "cell_type": "code",
      "execution_count": null,
      "metadata": {
        "id": "dMA-SFNH5yvr",
        "outputId": "f076195f-c736-4108-f59e-9d93233f3b03"
      },
      "outputs": [
        {
          "data": {
            "text/plain": [
              "742"
            ]
          },
          "execution_count": 106,
          "metadata": {},
          "output_type": "execute_result"
        }
      ],
      "source": [
        "gpt._num_tokens_from_message()"
      ]
    },
    {
      "cell_type": "markdown",
      "metadata": {
        "id": "Ar084LQq5yvr"
      },
      "source": [
        "# Remarks"
      ]
    },
    {
      "cell_type": "markdown",
      "metadata": {
        "id": "7kC7IupJ5yvs"
      },
      "source": [
        "## How we phrase the question is very important\n",
        "\n",
        "It will hugely affect the resulting query\n"
      ]
    },
    {
      "cell_type": "markdown",
      "metadata": {
        "id": "UHQDJ2Pv5yv9"
      },
      "source": [
        "### First example\n",
        "\n",
        "This is done without the instruction\n",
        "\n",
        "```JSON\n",
        "{\n",
        "    \"role\": \"assistant\",\n",
        "    \"content\": \"If the user do not mention any time period, the query should take into account all the dates available in the table\"\n",
        "}\n",
        "```\n"
      ]
    },
    {
      "cell_type": "markdown",
      "metadata": {
        "id": "CbWkdOop5yv-"
      },
      "source": [
        "Take this question for example:\n",
        "\n",
        "    \"show percentage of death over population by country, order from highest to lowest\"\n",
        "\n",
        "The model will return the following SQL\n",
        "\n",
        "```SQL\n",
        "SELECT location, (total_deaths/population)*100 AS death_percentage\n",
        "FROM test.owid_covid_data\n",
        "WHERE population IS NOT NULL\n",
        "GROUP BY location, population\n",
        "ORDER BY death_percentage DESC\n",
        "```\n",
        "\n",
        "This query will throw an error, because of the missing aggregation\n",
        "\n",
        "`BadRequest: 400 SELECT list expression references column total_deaths which is neither grouped nor aggregated`"
      ]
    },
    {
      "cell_type": "markdown",
      "metadata": {
        "id": "5JKbV22v5yv-"
      },
      "source": [
        "But if we rephrase the question as follow:\n",
        "\n",
        "    \"show average percentage of death over population by country, order from highest to lowest\"\n",
        "\n",
        "This is the SQL we received:\n",
        "\n",
        "```SQL\n",
        " SELECT location, AVG(total_deaths_per_million/population)*100 AS avg_death_percentage\n",
        "FROM test.owid_covid_data\n",
        "GROUP BY location\n",
        "ORDER BY avg_death_percentage DESC\n",
        "```\n",
        "\n",
        "Which is more in line with what we want. The difference is only the word __\"average\"__ that we put in the question"
      ]
    },
    {
      "cell_type": "markdown",
      "metadata": {
        "id": "sqLkfwij5yv_"
      },
      "source": [
        "### Second example\n",
        "\n",
        "This is done with the full set of instructions seen above in function `generate_sql_query`"
      ]
    },
    {
      "cell_type": "markdown",
      "metadata": {
        "id": "Q3GJ32sd5yv_"
      },
      "source": [
        "Question: __\"show top 3 contintents with the highest death count per population\"__\n",
        "\n",
        "SQL:\n",
        "```SQL\n",
        " SELECT continent, SUM(total_deaths)/SUM(population) AS death_per_population\n",
        "FROM test.owid_covid_data\n",
        "GROUP BY continent\n",
        "ORDER BY death_per_population DESC\n",
        "LIMIT 3;\n",
        "```\n",
        "\n",
        "Question: __\"show top 3 contintents with the highest average death count per population\"__\n",
        "\n",
        "SQL:\n",
        "```SQL\n",
        " SELECT continent, AVG(total_deaths/population) AS avg_death_per_pop\n",
        "FROM test.owid_covid_data\n",
        "GROUP BY continent\n",
        "ORDER BY avg_death_per_pop DESC\n",
        "LIMIT 3;\n",
        "```"
      ]
    },
    {
      "cell_type": "markdown",
      "metadata": {
        "id": "Gjxq6Dg95ywA"
      },
      "source": [
        "## The temperature parameter"
      ]
    },
    {
      "cell_type": "markdown",
      "metadata": {
        "id": "-9WZKe3T5ywB"
      },
      "source": [
        "According to the [API documentation](https://platform.openai.com/docs/api-reference/chat/create):\n",
        "\n",
        "```\n",
        "temperature number  Optional    Defaults to 1\n",
        "\n",
        "What sampling temperature to use, between 0 and 2. Higher values like 0.8 will make the output more random, while lower values like 0.2 will make it more focused and deterministic.\n",
        "```"
      ]
    },
    {
      "cell_type": "markdown",
      "metadata": {
        "id": "wywPTwxK5ywB"
      },
      "source": [
        "Reducing this parameter will only make the answers we receive less random, but will not guarantee the same answer everytime. So It's best to just keep it low."
      ]
    },
    {
      "cell_type": "markdown",
      "metadata": {
        "id": "_4pi_EvP5ywC"
      },
      "source": [
        "## Fine-tuning\n",
        "\n",
        "[More to explore]"
      ]
    },
    {
      "cell_type": "markdown",
      "metadata": {
        "id": "xdWlCtns5ywC"
      },
      "source": [
        "### Detailed Instructions"
      ]
    },
    {
      "cell_type": "markdown",
      "metadata": {
        "id": "N7wLrj2n5ywC"
      },
      "source": [
        "A way to fine-tune the model is to give it some \"rules\" under the `messages` parameter. For example\n",
        "\n",
        "```python\n",
        "messages = [\n",
        "    ...\n",
        "    {\"role\": \"assistant\", \"content\": \"If the user ask for something by X, then the answer SQL should have GROUP BY X clause\"},\n",
        "    ...\n",
        "]\n",
        "```\n",
        "\n",
        "With this message automatically embedded into the question every time we ask the model, the situation where the model \"forgets\" to aggregate the column reduced drastically\n",
        "\n",
        "So to apply the \"GPT approach\", we can summarize some \"common sense\" rules to feed to the model input as guidance"
      ]
    },
    {
      "cell_type": "markdown",
      "metadata": {
        "id": "Ps6L8QX25ywD"
      },
      "source": [
        "### Further fine tuning (TODO)"
      ]
    },
    {
      "cell_type": "markdown",
      "metadata": {
        "id": "-6gGiZm25ywD"
      },
      "source": [
        "Refer to:\n",
        "\n",
        "- https://platform.openai.com/docs/guides/fine-tuning\n",
        "- https://platform.openai.com/docs/guides/fine-tuning/preparing-your-dataset\n",
        "- https://docs.wandb.ai/guides/integrations/openai?utm_source=wandb_docs&utm_medium=code&utm_campaign=OpenAI+API\n"
      ]
    }
  ],
  "metadata": {
    "kernelspec": {
      "display_name": "aeris",
      "language": "python",
      "name": "python3"
    },
    "language_info": {
      "codemirror_mode": {
        "name": "ipython",
        "version": 3
      },
      "file_extension": ".py",
      "mimetype": "text/x-python",
      "name": "python",
      "nbconvert_exporter": "python",
      "pygments_lexer": "ipython3",
      "version": "3.10.6"
    },
    "orig_nbformat": 4,
    "colab": {
      "provenance": []
    }
  },
  "nbformat": 4,
  "nbformat_minor": 0
}